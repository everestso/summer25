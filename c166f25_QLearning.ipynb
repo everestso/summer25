{
  "nbformat": 4,
  "nbformat_minor": 0,
  "metadata": {
    "colab": {
      "provenance": [],
      "authorship_tag": "ABX9TyNNgFzQdZAAOapaQIYKizya",
      "include_colab_link": true
    },
    "kernelspec": {
      "name": "python3",
      "display_name": "Python 3"
    },
    "language_info": {
      "name": "python"
    }
  },
  "cells": [
    {
      "cell_type": "markdown",
      "metadata": {
        "id": "view-in-github",
        "colab_type": "text"
      },
      "source": [
        "<a href=\"https://colab.research.google.com/github/everestso/summer25/blob/main/c166f25_QLearning.ipynb\" target=\"_parent\"><img src=\"https://colab.research.google.com/assets/colab-badge.svg\" alt=\"Open In Colab\"/></a>"
      ]
    },
    {
      "cell_type": "code",
      "execution_count": 1,
      "metadata": {
        "id": "xrEBXL-y7X-a"
      },
      "outputs": [],
      "source": [
        "import typing as tt\n",
        "import gymnasium as gym\n",
        "from collections import defaultdict, Counter\n",
        "from torch.utils.tensorboard.writer import SummaryWriter\n"
      ]
    },
    {
      "cell_type": "code",
      "source": [
        "ENV_NAME = \"FrozenLake-v1\"\n",
        "#ENV_NAME = \"FrozenLake8x8-v1\"      # uncomment for larger version\n",
        "GAMMA = 0.9\n",
        "TEST_EPISODES = 20\n",
        "\n",
        "State = int\n",
        "Action = int\n",
        "RewardKey = tt.Tuple[State, Action, State]\n",
        "TransitKey = tt.Tuple[State, Action]\n"
      ],
      "metadata": {
        "id": "LeTbevA47yRV"
      },
      "execution_count": 2,
      "outputs": []
    },
    {
      "cell_type": "code",
      "source": [
        "class Agent:\n",
        "    def __init__(self):\n",
        "        self.env = gym.make(ENV_NAME)\n",
        "        self.state, _ = self.env.reset()\n",
        "        self.rewards: tt.Dict[RewardKey, float] = defaultdict(float)\n",
        "        self.transits: tt.Dict[TransitKey, Counter] = defaultdict(Counter)\n",
        "        self.values: tt.Dict[State, float] = defaultdict(float)\n",
        "\n",
        "    def play_n_random_steps(self, n: int):\n",
        "        for _ in range(n):\n",
        "            action = self.env.action_space.sample()\n",
        "            new_state, reward, is_done, is_trunc, _ = self.env.step(action)\n",
        "            rw_key = (self.state, action, new_state)\n",
        "            self.rewards[rw_key] = float(reward)\n",
        "            tr_key = (self.state, action)\n",
        "            self.transits[tr_key][new_state] += 1\n",
        "            if is_done or is_trunc:\n",
        "                self.state, _ = self.env.reset()\n",
        "            else:\n",
        "                self.state = new_state\n",
        "\n",
        "    def calc_action_value(self, state: State, action: Action) -> float:\n",
        "        target_counts = self.transits[(state, action)]\n",
        "        total = sum(target_counts.values())\n",
        "        action_value = 0.0\n",
        "        for tgt_state, count in target_counts.items():\n",
        "            rw_key = (state, action, tgt_state)\n",
        "            reward = self.rewards[rw_key]\n",
        "            val = reward + GAMMA * self.values[tgt_state]\n",
        "            action_value += (count / total) * val\n",
        "        return action_value\n",
        "\n",
        "    def select_action(self, state: State) -> Action:\n",
        "        best_action, best_value = None, None\n",
        "        for action in range(self.env.action_space.n):\n",
        "            action_value = self.calc_action_value(state, action)\n",
        "            if best_value is None or best_value < action_value:\n",
        "                best_value = action_value\n",
        "                best_action = action\n",
        "        return best_action\n",
        "\n",
        "    def play_episode(self, env: gym.Env) -> float:\n",
        "        total_reward = 0.0\n",
        "        state, _ = env.reset()\n",
        "        while True:\n",
        "            action = self.select_action(state)\n",
        "            new_state, reward, is_done, is_trunc, _ = env.step(action)\n",
        "            rw_key = (state, action, new_state)\n",
        "            self.rewards[rw_key] = float(reward)\n",
        "            tr_key = (state, action)\n",
        "            self.transits[tr_key][new_state] += 1\n",
        "            total_reward += reward\n",
        "            if is_done or is_trunc:\n",
        "                break\n",
        "            state = new_state\n",
        "        return total_reward\n",
        "\n",
        "    def value_iteration(self):\n",
        "        for state in range(self.env.observation_space.n):\n",
        "            state_values = [\n",
        "                self.calc_action_value(state, action)\n",
        "                for action in range(self.env.action_space.n)\n",
        "            ]\n",
        "            self.values[state] = max(state_values)\n",
        "\n",
        "    def print_policy(self):\n",
        "        desc = self.env.unwrapped.desc  # FrozenLake map as bytes\n",
        "        size = desc.shape[0]            # assume square grid\n",
        "        action_symbols = [\"←\", \"↓\", \"→\", \"↑\"]\n",
        "        print(\"Current policy (grid):\")\n",
        "        for row in range(size):\n",
        "            row_symbols = []\n",
        "            for col in range(size):\n",
        "                state = row * size + col\n",
        "                tile = desc[row][col].decode(\"utf-8\")\n",
        "\n",
        "                if tile == \"G\":\n",
        "                    row_symbols.append(\"G\")\n",
        "                elif tile == \"H\":\n",
        "                    row_symbols.append(\"H\")\n",
        "                else:\n",
        "                    action = self.select_action(state)\n",
        "                    symbol = action_symbols[action] if action is not None else \"?\"\n",
        "                    row_symbols.append(symbol)\n",
        "            print(\" \".join(row_symbols))\n",
        ""
      ],
      "metadata": {
        "id": "T7O-ed5a8ORF"
      },
      "execution_count": 15,
      "outputs": []
    },
    {
      "cell_type": "code",
      "source": [
        "test_env = gym.make(ENV_NAME)\n",
        "agent = Agent()\n",
        "writer = SummaryWriter(comment=\"-v-iteration\")\n",
        "\n",
        "iter_no = 0\n",
        "best_reward = 0.0\n",
        "while True:\n",
        "    iter_no += 1\n",
        "    agent.play_n_random_steps(100)\n",
        "    agent.value_iteration()\n",
        "\n",
        "    reward = 0.0\n",
        "    for _ in range(TEST_EPISODES):\n",
        "        reward += agent.play_episode(test_env)\n",
        "    reward /= TEST_EPISODES\n",
        "    writer.add_scalar(\"reward\", reward, iter_no)\n",
        "    if reward > best_reward:\n",
        "        print(f\"{iter_no}: Best reward updated {best_reward:.3} -> {reward:.3}\")\n",
        "        best_reward = reward\n",
        "    if reward > 0.80:\n",
        "        print(\"Solved in %d iterations!\" % iter_no)\n",
        "        break\n",
        "writer.close()"
      ],
      "metadata": {
        "colab": {
          "base_uri": "https://localhost:8080/"
        },
        "id": "OGPlusGA8VKN",
        "outputId": "86442fc2-b3bc-4c69-f65e-eccc71fa6c52"
      },
      "execution_count": 16,
      "outputs": [
        {
          "output_type": "stream",
          "name": "stdout",
          "text": [
            "31: Best reward updated 0.0 -> 0.1\n",
            "34: Best reward updated 0.1 -> 0.45\n",
            "37: Best reward updated 0.45 -> 0.65\n",
            "41: Best reward updated 0.65 -> 0.7\n",
            "43: Best reward updated 0.7 -> 0.75\n",
            "47: Best reward updated 0.75 -> 0.85\n",
            "Solved in 47 iterations!\n"
          ]
        }
      ]
    },
    {
      "cell_type": "markdown",
      "source": [
        "# Test Model"
      ],
      "metadata": {
        "id": "DYvxzqI1DAlT"
      }
    },
    {
      "cell_type": "code",
      "source": [
        "# Setup video recording wrapper\n",
        "env = gym.make(ENV_NAME, render_mode=\"rgb_array\")\n",
        "env = gym.wrappers.RecordVideo(env, video_folder=\"video\")\n",
        "state, _ = env.reset()\n",
        "\n",
        "total_reward = 0.0\n",
        "total_steps = 0\n",
        "\n",
        "while True:\n",
        "    action = agent.select_action(state)\n",
        "    state, reward, done, truncated, _ = env.step(action)\n",
        "    total_reward += reward\n",
        "    total_steps += 1\n",
        "    if done or truncated or total_steps >= 1000:\n",
        "        break\n",
        "\n",
        "print(f\"Episode done in {total_steps} steps, total reward {total_reward:.2f}\")\n",
        "env.close()"
      ],
      "metadata": {
        "colab": {
          "base_uri": "https://localhost:8080/"
        },
        "id": "E9w86FRhDCLR",
        "outputId": "1905987c-3c15-47ad-949f-f9cb90483b31"
      },
      "execution_count": 17,
      "outputs": [
        {
          "output_type": "stream",
          "name": "stdout",
          "text": [
            "Episode done in 11 steps, total reward 1.00\n"
          ]
        },
        {
          "output_type": "stream",
          "name": "stderr",
          "text": [
            "/usr/local/lib/python3.11/dist-packages/gymnasium/wrappers/rendering.py:283: UserWarning: \u001b[33mWARN: Overwriting existing videos at /content/video folder (try specifying a different `video_folder` for the `RecordVideo` wrapper if this is not desired)\u001b[0m\n",
            "  logger.warn(\n"
          ]
        }
      ]
    },
    {
      "cell_type": "code",
      "source": [
        "from IPython.display import Video\n",
        "import os"
      ],
      "metadata": {
        "id": "6YUpm1CcDOBa"
      },
      "execution_count": 18,
      "outputs": []
    },
    {
      "cell_type": "code",
      "source": [
        "!ls video/rl-video-episode-0.mp4\n",
        "agent.print_policy()\n",
        "# Display video at its default speed\n",
        "display(Video(\"video/rl-video-episode-0.mp4\", embed=True))"
      ],
      "metadata": {
        "colab": {
          "base_uri": "https://localhost:8080/",
          "height": 386
        },
        "id": "E1QJBRufDQaa",
        "outputId": "b7a7bdaf-b38c-49d7-a9c0-2a9e0fc74757"
      },
      "execution_count": 19,
      "outputs": [
        {
          "output_type": "stream",
          "name": "stdout",
          "text": [
            "video/rl-video-episode-0.mp4\n",
            "Current policy (grid):\n",
            "← ↑ ← ↑\n",
            "← H → H\n",
            "↑ ↓ ← H\n",
            "H → ↓ G\n"
          ]
        },
        {
          "output_type": "display_data",
          "data": {
            "text/plain": [
              "<IPython.core.display.Video object>"
            ],
            "text/html": [
              "<video controls  >\n",
              " <source src=\"data:video/mp4;base64,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\" type=\"video/mp4\">\n",
              " Your browser does not support the video tag.\n",
              " </video>"
            ]
          },
          "metadata": {}
        }
      ]
    }
  ]
}