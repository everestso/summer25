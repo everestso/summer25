{
  "nbformat": 4,
  "nbformat_minor": 0,
  "metadata": {
    "colab": {
      "provenance": [],
      "authorship_tag": "ABX9TyPiT/E5LSomuo67yEt+ssvi",
      "include_colab_link": true
    },
    "kernelspec": {
      "name": "python3",
      "display_name": "Python 3"
    },
    "language_info": {
      "name": "python"
    }
  },
  "cells": [
    {
      "cell_type": "markdown",
      "metadata": {
        "id": "view-in-github",
        "colab_type": "text"
      },
      "source": [
        "<a href=\"https://colab.research.google.com/github/everestso/summer25/blob/main/c166s25_PlayModel.ipynb\" target=\"_parent\"><img src=\"https://colab.research.google.com/assets/colab-badge.svg\" alt=\"Open In Colab\"/></a>"
      ]
    },
    {
      "cell_type": "code",
      "source": [
        "model_name = \"ALE_Pong-v5-best_-10-test_epsdec150000_rs10000_sync1000.dat\"\n",
        "!gdown 1OqD6LLdznrDyAtLphTQnNLAtI5bbBrRx"
      ],
      "metadata": {
        "colab": {
          "base_uri": "https://localhost:8080/"
        },
        "id": "dIMrdIagoyEf",
        "outputId": "fa94bdd5-ee59-4c26-e23c-3f38fca38d3f"
      },
      "execution_count": 75,
      "outputs": [
        {
          "output_type": "stream",
          "name": "stdout",
          "text": [
            "Downloading...\n",
            "From: https://drive.google.com/uc?id=1OqD6LLdznrDyAtLphTQnNLAtI5bbBrRx\n",
            "To: /content/ALE_Pong-v5-best_-10-test_epsdec150000_rs10000_sync1000.dat\n",
            "100% 6.75M/6.75M [00:00<00:00, 31.4MB/s]\n"
          ]
        }
      ]
    },
    {
      "cell_type": "code",
      "source": [
        "# https://drive.google.com/file/d/1RWlLZyU8ZFMvt0yYKhU8W6sodSWRLZsb/view?usp=sharing\n",
        "model_name = \"ALE_Pong-v5-best_-20-test_epsdec150000_rs10000_sync1000.dat\"\n",
        "!gdown 1RWlLZyU8ZFMvt0yYKhU8W6sodSWRLZsb"
      ],
      "metadata": {
        "colab": {
          "base_uri": "https://localhost:8080/"
        },
        "id": "IJVDPrYL3CJk",
        "outputId": "bde6272f-87d3-4bcc-dbef-b0770551f43c"
      },
      "execution_count": 69,
      "outputs": [
        {
          "output_type": "stream",
          "name": "stdout",
          "text": [
            "Downloading...\n",
            "From: https://drive.google.com/uc?id=1RWlLZyU8ZFMvt0yYKhU8W6sodSWRLZsb\n",
            "To: /content/ALE_Pong-v5-best_-20-test_epsdec150000_rs10000_sync1000.dat\n",
            "\r  0% 0.00/6.75M [00:00<?, ?B/s]\r 70% 4.72M/6.75M [00:00<00:00, 20.2MB/s]\r100% 6.75M/6.75M [00:00<00:00, 27.4MB/s]\n"
          ]
        }
      ]
    },
    {
      "cell_type": "code",
      "source": [
        "!pip install gymnasium[atari,accept-rom-license]\n",
        "!pip install autorom\n",
        "!pip install stable-baselines3"
      ],
      "metadata": {
        "colab": {
          "base_uri": "https://localhost:8080/"
        },
        "id": "McZNLA6LpPXA",
        "outputId": "d4fc3194-374c-499e-e3df-f30061faf362"
      },
      "execution_count": 2,
      "outputs": [
        {
          "output_type": "stream",
          "name": "stdout",
          "text": [
            "Requirement already satisfied: gymnasium[accept-rom-license,atari] in /usr/local/lib/python3.11/dist-packages (1.1.1)\n",
            "\u001b[33mWARNING: gymnasium 1.1.1 does not provide the extra 'accept-rom-license'\u001b[0m\u001b[33m\n",
            "\u001b[0mRequirement already satisfied: numpy>=1.21.0 in /usr/local/lib/python3.11/dist-packages (from gymnasium[accept-rom-license,atari]) (2.0.2)\n",
            "Requirement already satisfied: cloudpickle>=1.2.0 in /usr/local/lib/python3.11/dist-packages (from gymnasium[accept-rom-license,atari]) (3.1.1)\n",
            "Requirement already satisfied: typing-extensions>=4.3.0 in /usr/local/lib/python3.11/dist-packages (from gymnasium[accept-rom-license,atari]) (4.14.0)\n",
            "Requirement already satisfied: farama-notifications>=0.0.1 in /usr/local/lib/python3.11/dist-packages (from gymnasium[accept-rom-license,atari]) (0.0.4)\n",
            "Requirement already satisfied: ale_py>=0.9 in /usr/local/lib/python3.11/dist-packages (from gymnasium[accept-rom-license,atari]) (0.11.1)\n",
            "Collecting autorom\n",
            "  Downloading AutoROM-0.6.1-py3-none-any.whl.metadata (2.4 kB)\n",
            "Requirement already satisfied: click in /usr/local/lib/python3.11/dist-packages (from autorom) (8.2.1)\n",
            "Requirement already satisfied: requests in /usr/local/lib/python3.11/dist-packages (from autorom) (2.32.3)\n",
            "Requirement already satisfied: charset-normalizer<4,>=2 in /usr/local/lib/python3.11/dist-packages (from requests->autorom) (3.4.2)\n",
            "Requirement already satisfied: idna<4,>=2.5 in /usr/local/lib/python3.11/dist-packages (from requests->autorom) (3.10)\n",
            "Requirement already satisfied: urllib3<3,>=1.21.1 in /usr/local/lib/python3.11/dist-packages (from requests->autorom) (2.4.0)\n",
            "Requirement already satisfied: certifi>=2017.4.17 in /usr/local/lib/python3.11/dist-packages (from requests->autorom) (2025.4.26)\n",
            "Downloading AutoROM-0.6.1-py3-none-any.whl (9.4 kB)\n",
            "Installing collected packages: autorom\n",
            "Successfully installed autorom-0.6.1\n",
            "Collecting stable-baselines3\n",
            "  Downloading stable_baselines3-2.6.0-py3-none-any.whl.metadata (4.8 kB)\n",
            "Requirement already satisfied: gymnasium<1.2.0,>=0.29.1 in /usr/local/lib/python3.11/dist-packages (from stable-baselines3) (1.1.1)\n",
            "Requirement already satisfied: numpy<3.0,>=1.20 in /usr/local/lib/python3.11/dist-packages (from stable-baselines3) (2.0.2)\n",
            "Requirement already satisfied: torch<3.0,>=2.3 in /usr/local/lib/python3.11/dist-packages (from stable-baselines3) (2.6.0+cu124)\n",
            "Requirement already satisfied: cloudpickle in /usr/local/lib/python3.11/dist-packages (from stable-baselines3) (3.1.1)\n",
            "Requirement already satisfied: pandas in /usr/local/lib/python3.11/dist-packages (from stable-baselines3) (2.2.2)\n",
            "Requirement already satisfied: matplotlib in /usr/local/lib/python3.11/dist-packages (from stable-baselines3) (3.10.0)\n",
            "Requirement already satisfied: typing-extensions>=4.3.0 in /usr/local/lib/python3.11/dist-packages (from gymnasium<1.2.0,>=0.29.1->stable-baselines3) (4.14.0)\n",
            "Requirement already satisfied: farama-notifications>=0.0.1 in /usr/local/lib/python3.11/dist-packages (from gymnasium<1.2.0,>=0.29.1->stable-baselines3) (0.0.4)\n",
            "Requirement already satisfied: filelock in /usr/local/lib/python3.11/dist-packages (from torch<3.0,>=2.3->stable-baselines3) (3.18.0)\n",
            "Requirement already satisfied: networkx in /usr/local/lib/python3.11/dist-packages (from torch<3.0,>=2.3->stable-baselines3) (3.5)\n",
            "Requirement already satisfied: jinja2 in /usr/local/lib/python3.11/dist-packages (from torch<3.0,>=2.3->stable-baselines3) (3.1.6)\n",
            "Requirement already satisfied: fsspec in /usr/local/lib/python3.11/dist-packages (from torch<3.0,>=2.3->stable-baselines3) (2025.3.2)\n",
            "Collecting nvidia-cuda-nvrtc-cu12==12.4.127 (from torch<3.0,>=2.3->stable-baselines3)\n",
            "  Downloading nvidia_cuda_nvrtc_cu12-12.4.127-py3-none-manylinux2014_x86_64.whl.metadata (1.5 kB)\n",
            "Collecting nvidia-cuda-runtime-cu12==12.4.127 (from torch<3.0,>=2.3->stable-baselines3)\n",
            "  Downloading nvidia_cuda_runtime_cu12-12.4.127-py3-none-manylinux2014_x86_64.whl.metadata (1.5 kB)\n",
            "Collecting nvidia-cuda-cupti-cu12==12.4.127 (from torch<3.0,>=2.3->stable-baselines3)\n",
            "  Downloading nvidia_cuda_cupti_cu12-12.4.127-py3-none-manylinux2014_x86_64.whl.metadata (1.6 kB)\n",
            "Collecting nvidia-cudnn-cu12==9.1.0.70 (from torch<3.0,>=2.3->stable-baselines3)\n",
            "  Downloading nvidia_cudnn_cu12-9.1.0.70-py3-none-manylinux2014_x86_64.whl.metadata (1.6 kB)\n",
            "Collecting nvidia-cublas-cu12==12.4.5.8 (from torch<3.0,>=2.3->stable-baselines3)\n",
            "  Downloading nvidia_cublas_cu12-12.4.5.8-py3-none-manylinux2014_x86_64.whl.metadata (1.5 kB)\n",
            "Collecting nvidia-cufft-cu12==11.2.1.3 (from torch<3.0,>=2.3->stable-baselines3)\n",
            "  Downloading nvidia_cufft_cu12-11.2.1.3-py3-none-manylinux2014_x86_64.whl.metadata (1.5 kB)\n",
            "Collecting nvidia-curand-cu12==10.3.5.147 (from torch<3.0,>=2.3->stable-baselines3)\n",
            "  Downloading nvidia_curand_cu12-10.3.5.147-py3-none-manylinux2014_x86_64.whl.metadata (1.5 kB)\n",
            "Collecting nvidia-cusolver-cu12==11.6.1.9 (from torch<3.0,>=2.3->stable-baselines3)\n",
            "  Downloading nvidia_cusolver_cu12-11.6.1.9-py3-none-manylinux2014_x86_64.whl.metadata (1.6 kB)\n",
            "Collecting nvidia-cusparse-cu12==12.3.1.170 (from torch<3.0,>=2.3->stable-baselines3)\n",
            "  Downloading nvidia_cusparse_cu12-12.3.1.170-py3-none-manylinux2014_x86_64.whl.metadata (1.6 kB)\n",
            "Requirement already satisfied: nvidia-cusparselt-cu12==0.6.2 in /usr/local/lib/python3.11/dist-packages (from torch<3.0,>=2.3->stable-baselines3) (0.6.2)\n",
            "Requirement already satisfied: nvidia-nccl-cu12==2.21.5 in /usr/local/lib/python3.11/dist-packages (from torch<3.0,>=2.3->stable-baselines3) (2.21.5)\n",
            "Requirement already satisfied: nvidia-nvtx-cu12==12.4.127 in /usr/local/lib/python3.11/dist-packages (from torch<3.0,>=2.3->stable-baselines3) (12.4.127)\n",
            "Collecting nvidia-nvjitlink-cu12==12.4.127 (from torch<3.0,>=2.3->stable-baselines3)\n",
            "  Downloading nvidia_nvjitlink_cu12-12.4.127-py3-none-manylinux2014_x86_64.whl.metadata (1.5 kB)\n",
            "Requirement already satisfied: triton==3.2.0 in /usr/local/lib/python3.11/dist-packages (from torch<3.0,>=2.3->stable-baselines3) (3.2.0)\n",
            "Requirement already satisfied: sympy==1.13.1 in /usr/local/lib/python3.11/dist-packages (from torch<3.0,>=2.3->stable-baselines3) (1.13.1)\n",
            "Requirement already satisfied: mpmath<1.4,>=1.1.0 in /usr/local/lib/python3.11/dist-packages (from sympy==1.13.1->torch<3.0,>=2.3->stable-baselines3) (1.3.0)\n",
            "Requirement already satisfied: contourpy>=1.0.1 in /usr/local/lib/python3.11/dist-packages (from matplotlib->stable-baselines3) (1.3.2)\n",
            "Requirement already satisfied: cycler>=0.10 in /usr/local/lib/python3.11/dist-packages (from matplotlib->stable-baselines3) (0.12.1)\n",
            "Requirement already satisfied: fonttools>=4.22.0 in /usr/local/lib/python3.11/dist-packages (from matplotlib->stable-baselines3) (4.58.1)\n",
            "Requirement already satisfied: kiwisolver>=1.3.1 in /usr/local/lib/python3.11/dist-packages (from matplotlib->stable-baselines3) (1.4.8)\n",
            "Requirement already satisfied: packaging>=20.0 in /usr/local/lib/python3.11/dist-packages (from matplotlib->stable-baselines3) (24.2)\n",
            "Requirement already satisfied: pillow>=8 in /usr/local/lib/python3.11/dist-packages (from matplotlib->stable-baselines3) (11.2.1)\n",
            "Requirement already satisfied: pyparsing>=2.3.1 in /usr/local/lib/python3.11/dist-packages (from matplotlib->stable-baselines3) (3.2.3)\n",
            "Requirement already satisfied: python-dateutil>=2.7 in /usr/local/lib/python3.11/dist-packages (from matplotlib->stable-baselines3) (2.9.0.post0)\n",
            "Requirement already satisfied: pytz>=2020.1 in /usr/local/lib/python3.11/dist-packages (from pandas->stable-baselines3) (2025.2)\n",
            "Requirement already satisfied: tzdata>=2022.7 in /usr/local/lib/python3.11/dist-packages (from pandas->stable-baselines3) (2025.2)\n",
            "Requirement already satisfied: six>=1.5 in /usr/local/lib/python3.11/dist-packages (from python-dateutil>=2.7->matplotlib->stable-baselines3) (1.17.0)\n",
            "Requirement already satisfied: MarkupSafe>=2.0 in /usr/local/lib/python3.11/dist-packages (from jinja2->torch<3.0,>=2.3->stable-baselines3) (3.0.2)\n",
            "Downloading stable_baselines3-2.6.0-py3-none-any.whl (184 kB)\n",
            "\u001b[2K   \u001b[90m━━━━━━━━━━━━━━━━━━━━━━━━━━━━━━━━━━━━━━━━\u001b[0m \u001b[32m184.5/184.5 kB\u001b[0m \u001b[31m3.7 MB/s\u001b[0m eta \u001b[36m0:00:00\u001b[0m\n",
            "\u001b[?25hDownloading nvidia_cublas_cu12-12.4.5.8-py3-none-manylinux2014_x86_64.whl (363.4 MB)\n",
            "\u001b[2K   \u001b[90m━━━━━━━━━━━━━━━━━━━━━━━━━━━━━━━━━━━━━━━━\u001b[0m \u001b[32m363.4/363.4 MB\u001b[0m \u001b[31m5.5 MB/s\u001b[0m eta \u001b[36m0:00:00\u001b[0m\n",
            "\u001b[?25hDownloading nvidia_cuda_cupti_cu12-12.4.127-py3-none-manylinux2014_x86_64.whl (13.8 MB)\n",
            "\u001b[2K   \u001b[90m━━━━━━━━━━━━━━━━━━━━━━━━━━━━━━━━━━━━━━━━\u001b[0m \u001b[32m13.8/13.8 MB\u001b[0m \u001b[31m100.9 MB/s\u001b[0m eta \u001b[36m0:00:00\u001b[0m\n",
            "\u001b[?25hDownloading nvidia_cuda_nvrtc_cu12-12.4.127-py3-none-manylinux2014_x86_64.whl (24.6 MB)\n",
            "\u001b[2K   \u001b[90m━━━━━━━━━━━━━━━━━━━━━━━━━━━━━━━━━━━━━━━━\u001b[0m \u001b[32m24.6/24.6 MB\u001b[0m \u001b[31m85.5 MB/s\u001b[0m eta \u001b[36m0:00:00\u001b[0m\n",
            "\u001b[?25hDownloading nvidia_cuda_runtime_cu12-12.4.127-py3-none-manylinux2014_x86_64.whl (883 kB)\n",
            "\u001b[2K   \u001b[90m━━━━━━━━━━━━━━━━━━━━━━━━━━━━━━━━━━━━━━━━\u001b[0m \u001b[32m883.7/883.7 kB\u001b[0m \u001b[31m53.8 MB/s\u001b[0m eta \u001b[36m0:00:00\u001b[0m\n",
            "\u001b[?25hDownloading nvidia_cudnn_cu12-9.1.0.70-py3-none-manylinux2014_x86_64.whl (664.8 MB)\n",
            "\u001b[2K   \u001b[90m━━━━━━━━━━━━━━━━━━━━━━━━━━━━━━━━━━━━━━━━\u001b[0m \u001b[32m664.8/664.8 MB\u001b[0m \u001b[31m2.6 MB/s\u001b[0m eta \u001b[36m0:00:00\u001b[0m\n",
            "\u001b[?25hDownloading nvidia_cufft_cu12-11.2.1.3-py3-none-manylinux2014_x86_64.whl (211.5 MB)\n",
            "\u001b[2K   \u001b[90m━━━━━━━━━━━━━━━━━━━━━━━━━━━━━━━━━━━━━━━━\u001b[0m \u001b[32m211.5/211.5 MB\u001b[0m \u001b[31m6.0 MB/s\u001b[0m eta \u001b[36m0:00:00\u001b[0m\n",
            "\u001b[?25hDownloading nvidia_curand_cu12-10.3.5.147-py3-none-manylinux2014_x86_64.whl (56.3 MB)\n",
            "\u001b[2K   \u001b[90m━━━━━━━━━━━━━━━━━━━━━━━━━━━━━━━━━━━━━━━━\u001b[0m \u001b[32m56.3/56.3 MB\u001b[0m \u001b[31m10.9 MB/s\u001b[0m eta \u001b[36m0:00:00\u001b[0m\n",
            "\u001b[?25hDownloading nvidia_cusolver_cu12-11.6.1.9-py3-none-manylinux2014_x86_64.whl (127.9 MB)\n",
            "\u001b[2K   \u001b[90m━━━━━━━━━━━━━━━━━━━━━━━━━━━━━━━━━━━━━━━━\u001b[0m \u001b[32m127.9/127.9 MB\u001b[0m \u001b[31m7.2 MB/s\u001b[0m eta \u001b[36m0:00:00\u001b[0m\n",
            "\u001b[?25hDownloading nvidia_cusparse_cu12-12.3.1.170-py3-none-manylinux2014_x86_64.whl (207.5 MB)\n",
            "\u001b[2K   \u001b[90m━━━━━━━━━━━━━━━━━━━━━━━━━━━━━━━━━━━━━━━━\u001b[0m \u001b[32m207.5/207.5 MB\u001b[0m \u001b[31m5.6 MB/s\u001b[0m eta \u001b[36m0:00:00\u001b[0m\n",
            "\u001b[?25hDownloading nvidia_nvjitlink_cu12-12.4.127-py3-none-manylinux2014_x86_64.whl (21.1 MB)\n",
            "\u001b[2K   \u001b[90m━━━━━━━━━━━━━━━━━━━━━━━━━━━━━━━━━━━━━━━━\u001b[0m \u001b[32m21.1/21.1 MB\u001b[0m \u001b[31m70.6 MB/s\u001b[0m eta \u001b[36m0:00:00\u001b[0m\n",
            "\u001b[?25hInstalling collected packages: nvidia-nvjitlink-cu12, nvidia-curand-cu12, nvidia-cufft-cu12, nvidia-cuda-runtime-cu12, nvidia-cuda-nvrtc-cu12, nvidia-cuda-cupti-cu12, nvidia-cublas-cu12, nvidia-cusparse-cu12, nvidia-cudnn-cu12, nvidia-cusolver-cu12, stable-baselines3\n",
            "  Attempting uninstall: nvidia-nvjitlink-cu12\n",
            "    Found existing installation: nvidia-nvjitlink-cu12 12.5.82\n",
            "    Uninstalling nvidia-nvjitlink-cu12-12.5.82:\n",
            "      Successfully uninstalled nvidia-nvjitlink-cu12-12.5.82\n",
            "  Attempting uninstall: nvidia-curand-cu12\n",
            "    Found existing installation: nvidia-curand-cu12 10.3.6.82\n",
            "    Uninstalling nvidia-curand-cu12-10.3.6.82:\n",
            "      Successfully uninstalled nvidia-curand-cu12-10.3.6.82\n",
            "  Attempting uninstall: nvidia-cufft-cu12\n",
            "    Found existing installation: nvidia-cufft-cu12 11.2.3.61\n",
            "    Uninstalling nvidia-cufft-cu12-11.2.3.61:\n",
            "      Successfully uninstalled nvidia-cufft-cu12-11.2.3.61\n",
            "  Attempting uninstall: nvidia-cuda-runtime-cu12\n",
            "    Found existing installation: nvidia-cuda-runtime-cu12 12.5.82\n",
            "    Uninstalling nvidia-cuda-runtime-cu12-12.5.82:\n",
            "      Successfully uninstalled nvidia-cuda-runtime-cu12-12.5.82\n",
            "  Attempting uninstall: nvidia-cuda-nvrtc-cu12\n",
            "    Found existing installation: nvidia-cuda-nvrtc-cu12 12.5.82\n",
            "    Uninstalling nvidia-cuda-nvrtc-cu12-12.5.82:\n",
            "      Successfully uninstalled nvidia-cuda-nvrtc-cu12-12.5.82\n",
            "  Attempting uninstall: nvidia-cuda-cupti-cu12\n",
            "    Found existing installation: nvidia-cuda-cupti-cu12 12.5.82\n",
            "    Uninstalling nvidia-cuda-cupti-cu12-12.5.82:\n",
            "      Successfully uninstalled nvidia-cuda-cupti-cu12-12.5.82\n",
            "  Attempting uninstall: nvidia-cublas-cu12\n",
            "    Found existing installation: nvidia-cublas-cu12 12.5.3.2\n",
            "    Uninstalling nvidia-cublas-cu12-12.5.3.2:\n",
            "      Successfully uninstalled nvidia-cublas-cu12-12.5.3.2\n",
            "  Attempting uninstall: nvidia-cusparse-cu12\n",
            "    Found existing installation: nvidia-cusparse-cu12 12.5.1.3\n",
            "    Uninstalling nvidia-cusparse-cu12-12.5.1.3:\n",
            "      Successfully uninstalled nvidia-cusparse-cu12-12.5.1.3\n",
            "  Attempting uninstall: nvidia-cudnn-cu12\n",
            "    Found existing installation: nvidia-cudnn-cu12 9.3.0.75\n",
            "    Uninstalling nvidia-cudnn-cu12-9.3.0.75:\n",
            "      Successfully uninstalled nvidia-cudnn-cu12-9.3.0.75\n",
            "  Attempting uninstall: nvidia-cusolver-cu12\n",
            "    Found existing installation: nvidia-cusolver-cu12 11.6.3.83\n",
            "    Uninstalling nvidia-cusolver-cu12-11.6.3.83:\n",
            "      Successfully uninstalled nvidia-cusolver-cu12-11.6.3.83\n",
            "Successfully installed nvidia-cublas-cu12-12.4.5.8 nvidia-cuda-cupti-cu12-12.4.127 nvidia-cuda-nvrtc-cu12-12.4.127 nvidia-cuda-runtime-cu12-12.4.127 nvidia-cudnn-cu12-9.1.0.70 nvidia-cufft-cu12-11.2.1.3 nvidia-curand-cu12-10.3.5.147 nvidia-cusolver-cu12-11.6.1.9 nvidia-cusparse-cu12-12.3.1.170 nvidia-nvjitlink-cu12-12.4.127 stable-baselines3-2.6.0\n"
          ]
        }
      ]
    },
    {
      "cell_type": "code",
      "source": [
        "!AutoROM --accept-license"
      ],
      "metadata": {
        "colab": {
          "base_uri": "https://localhost:8080/"
        },
        "id": "Hu6zPOKHpwzZ",
        "outputId": "a96d3543-1aaf-42cb-b409-b77bfa24a304"
      },
      "execution_count": 3,
      "outputs": [
        {
          "output_type": "stream",
          "name": "stdout",
          "text": [
            "AutoROM will download the Atari 2600 ROMs.\n",
            "They will be installed to:\n",
            "\t/usr/local/lib/python3.11/dist-packages/AutoROM/roms\n",
            "\n",
            "Existing ROMs will be overwritten.\n",
            "Installed /usr/local/lib/python3.11/dist-packages/AutoROM/roms/adventure.bin\n",
            "Installed /usr/local/lib/python3.11/dist-packages/AutoROM/roms/air_raid.bin\n",
            "Installed /usr/local/lib/python3.11/dist-packages/AutoROM/roms/alien.bin\n",
            "Installed /usr/local/lib/python3.11/dist-packages/AutoROM/roms/amidar.bin\n",
            "Installed /usr/local/lib/python3.11/dist-packages/AutoROM/roms/assault.bin\n",
            "Installed /usr/local/lib/python3.11/dist-packages/AutoROM/roms/asterix.bin\n",
            "Installed /usr/local/lib/python3.11/dist-packages/AutoROM/roms/asteroids.bin\n",
            "Installed /usr/local/lib/python3.11/dist-packages/AutoROM/roms/atlantis.bin\n",
            "Installed /usr/local/lib/python3.11/dist-packages/AutoROM/roms/atlantis2.bin\n",
            "Installed /usr/local/lib/python3.11/dist-packages/AutoROM/roms/backgammon.bin\n",
            "Installed /usr/local/lib/python3.11/dist-packages/AutoROM/roms/bank_heist.bin\n",
            "Installed /usr/local/lib/python3.11/dist-packages/AutoROM/roms/basic_math.bin\n",
            "Installed /usr/local/lib/python3.11/dist-packages/AutoROM/roms/battle_zone.bin\n",
            "Installed /usr/local/lib/python3.11/dist-packages/AutoROM/roms/beam_rider.bin\n",
            "Installed /usr/local/lib/python3.11/dist-packages/AutoROM/roms/berzerk.bin\n",
            "Installed /usr/local/lib/python3.11/dist-packages/AutoROM/roms/blackjack.bin\n",
            "Installed /usr/local/lib/python3.11/dist-packages/AutoROM/roms/bowling.bin\n",
            "Installed /usr/local/lib/python3.11/dist-packages/AutoROM/roms/boxing.bin\n",
            "Installed /usr/local/lib/python3.11/dist-packages/AutoROM/roms/breakout.bin\n",
            "Installed /usr/local/lib/python3.11/dist-packages/AutoROM/roms/carnival.bin\n",
            "Installed /usr/local/lib/python3.11/dist-packages/AutoROM/roms/casino.bin\n",
            "Installed /usr/local/lib/python3.11/dist-packages/AutoROM/roms/centipede.bin\n",
            "Installed /usr/local/lib/python3.11/dist-packages/AutoROM/roms/chopper_command.bin\n",
            "Installed /usr/local/lib/python3.11/dist-packages/AutoROM/roms/combat.bin\n",
            "Installed /usr/local/lib/python3.11/dist-packages/AutoROM/roms/crazy_climber.bin\n",
            "Installed /usr/local/lib/python3.11/dist-packages/AutoROM/roms/crossbow.bin\n",
            "Installed /usr/local/lib/python3.11/dist-packages/AutoROM/roms/darkchambers.bin\n",
            "Installed /usr/local/lib/python3.11/dist-packages/AutoROM/roms/defender.bin\n",
            "Installed /usr/local/lib/python3.11/dist-packages/AutoROM/roms/demon_attack.bin\n",
            "Installed /usr/local/lib/python3.11/dist-packages/AutoROM/roms/donkey_kong.bin\n",
            "Installed /usr/local/lib/python3.11/dist-packages/AutoROM/roms/double_dunk.bin\n",
            "Installed /usr/local/lib/python3.11/dist-packages/AutoROM/roms/earthworld.bin\n",
            "Installed /usr/local/lib/python3.11/dist-packages/AutoROM/roms/elevator_action.bin\n",
            "Installed /usr/local/lib/python3.11/dist-packages/AutoROM/roms/enduro.bin\n",
            "Installed /usr/local/lib/python3.11/dist-packages/AutoROM/roms/entombed.bin\n",
            "Installed /usr/local/lib/python3.11/dist-packages/AutoROM/roms/et.bin\n",
            "Installed /usr/local/lib/python3.11/dist-packages/AutoROM/roms/fishing_derby.bin\n",
            "Installed /usr/local/lib/python3.11/dist-packages/AutoROM/roms/flag_capture.bin\n",
            "Installed /usr/local/lib/python3.11/dist-packages/AutoROM/roms/freeway.bin\n",
            "Installed /usr/local/lib/python3.11/dist-packages/AutoROM/roms/frogger.bin\n",
            "Installed /usr/local/lib/python3.11/dist-packages/AutoROM/roms/frostbite.bin\n",
            "Installed /usr/local/lib/python3.11/dist-packages/AutoROM/roms/galaxian.bin\n",
            "Installed /usr/local/lib/python3.11/dist-packages/AutoROM/roms/gopher.bin\n",
            "Installed /usr/local/lib/python3.11/dist-packages/AutoROM/roms/gravitar.bin\n",
            "Installed /usr/local/lib/python3.11/dist-packages/AutoROM/roms/hangman.bin\n",
            "Installed /usr/local/lib/python3.11/dist-packages/AutoROM/roms/haunted_house.bin\n",
            "Installed /usr/local/lib/python3.11/dist-packages/AutoROM/roms/hero.bin\n",
            "Installed /usr/local/lib/python3.11/dist-packages/AutoROM/roms/human_cannonball.bin\n",
            "Installed /usr/local/lib/python3.11/dist-packages/AutoROM/roms/ice_hockey.bin\n",
            "Installed /usr/local/lib/python3.11/dist-packages/AutoROM/roms/jamesbond.bin\n",
            "Installed /usr/local/lib/python3.11/dist-packages/AutoROM/roms/journey_escape.bin\n",
            "Installed /usr/local/lib/python3.11/dist-packages/AutoROM/roms/joust.bin\n",
            "Installed /usr/local/lib/python3.11/dist-packages/AutoROM/roms/kaboom.bin\n",
            "Installed /usr/local/lib/python3.11/dist-packages/AutoROM/roms/kangaroo.bin\n",
            "Installed /usr/local/lib/python3.11/dist-packages/AutoROM/roms/keystone_kapers.bin\n",
            "Installed /usr/local/lib/python3.11/dist-packages/AutoROM/roms/king_kong.bin\n",
            "Installed /usr/local/lib/python3.11/dist-packages/AutoROM/roms/klax.bin\n",
            "Installed /usr/local/lib/python3.11/dist-packages/AutoROM/roms/koolaid.bin\n",
            "Installed /usr/local/lib/python3.11/dist-packages/AutoROM/roms/krull.bin\n",
            "Installed /usr/local/lib/python3.11/dist-packages/AutoROM/roms/kung_fu_master.bin\n",
            "Installed /usr/local/lib/python3.11/dist-packages/AutoROM/roms/laser_gates.bin\n",
            "Installed /usr/local/lib/python3.11/dist-packages/AutoROM/roms/lost_luggage.bin\n",
            "Installed /usr/local/lib/python3.11/dist-packages/AutoROM/roms/mario_bros.bin\n",
            "Installed /usr/local/lib/python3.11/dist-packages/AutoROM/roms/maze_craze.bin\n",
            "Installed /usr/local/lib/python3.11/dist-packages/AutoROM/roms/miniature_golf.bin\n",
            "Installed /usr/local/lib/python3.11/dist-packages/AutoROM/roms/montezuma_revenge.bin\n",
            "Installed /usr/local/lib/python3.11/dist-packages/AutoROM/roms/mr_do.bin\n",
            "Installed /usr/local/lib/python3.11/dist-packages/AutoROM/roms/ms_pacman.bin\n",
            "Installed /usr/local/lib/python3.11/dist-packages/AutoROM/roms/name_this_game.bin\n",
            "Installed /usr/local/lib/python3.11/dist-packages/AutoROM/roms/othello.bin\n",
            "Installed /usr/local/lib/python3.11/dist-packages/AutoROM/roms/pacman.bin\n",
            "Installed /usr/local/lib/python3.11/dist-packages/AutoROM/roms/phoenix.bin\n",
            "Installed /usr/local/lib/python3.11/dist-packages/AutoROM/roms/pitfall.bin\n",
            "Installed /usr/local/lib/python3.11/dist-packages/AutoROM/roms/pitfall2.bin\n",
            "Installed /usr/local/lib/python3.11/dist-packages/AutoROM/roms/pong.bin\n",
            "Installed /usr/local/lib/python3.11/dist-packages/AutoROM/roms/pooyan.bin\n",
            "Installed /usr/local/lib/python3.11/dist-packages/AutoROM/roms/private_eye.bin\n",
            "Installed /usr/local/lib/python3.11/dist-packages/AutoROM/roms/qbert.bin\n",
            "Installed /usr/local/lib/python3.11/dist-packages/AutoROM/roms/riverraid.bin\n",
            "Installed /usr/local/lib/python3.11/dist-packages/AutoROM/roms/road_runner.bin\n",
            "Installed /usr/local/lib/python3.11/dist-packages/AutoROM/roms/robotank.bin\n",
            "Installed /usr/local/lib/python3.11/dist-packages/AutoROM/roms/seaquest.bin\n",
            "Installed /usr/local/lib/python3.11/dist-packages/AutoROM/roms/sir_lancelot.bin\n",
            "Installed /usr/local/lib/python3.11/dist-packages/AutoROM/roms/skiing.bin\n",
            "Installed /usr/local/lib/python3.11/dist-packages/AutoROM/roms/solaris.bin\n",
            "Installed /usr/local/lib/python3.11/dist-packages/AutoROM/roms/space_invaders.bin\n",
            "Installed /usr/local/lib/python3.11/dist-packages/AutoROM/roms/space_war.bin\n",
            "Installed /usr/local/lib/python3.11/dist-packages/AutoROM/roms/star_gunner.bin\n",
            "Installed /usr/local/lib/python3.11/dist-packages/AutoROM/roms/superman.bin\n",
            "Installed /usr/local/lib/python3.11/dist-packages/AutoROM/roms/surround.bin\n",
            "Installed /usr/local/lib/python3.11/dist-packages/AutoROM/roms/tennis.bin\n",
            "Installed /usr/local/lib/python3.11/dist-packages/AutoROM/roms/tetris.bin\n",
            "Installed /usr/local/lib/python3.11/dist-packages/AutoROM/roms/tic_tac_toe_3d.bin\n",
            "Installed /usr/local/lib/python3.11/dist-packages/AutoROM/roms/time_pilot.bin\n",
            "Installed /usr/local/lib/python3.11/dist-packages/AutoROM/roms/trondead.bin\n",
            "Installed /usr/local/lib/python3.11/dist-packages/AutoROM/roms/turmoil.bin\n",
            "Installed /usr/local/lib/python3.11/dist-packages/AutoROM/roms/tutankham.bin\n",
            "Installed /usr/local/lib/python3.11/dist-packages/AutoROM/roms/up_n_down.bin\n",
            "Installed /usr/local/lib/python3.11/dist-packages/AutoROM/roms/venture.bin\n",
            "Installed /usr/local/lib/python3.11/dist-packages/AutoROM/roms/video_checkers.bin\n",
            "Installed /usr/local/lib/python3.11/dist-packages/AutoROM/roms/video_chess.bin\n",
            "Installed /usr/local/lib/python3.11/dist-packages/AutoROM/roms/video_cube.bin\n",
            "Installed /usr/local/lib/python3.11/dist-packages/AutoROM/roms/video_pinball.bin\n",
            "Installed /usr/local/lib/python3.11/dist-packages/AutoROM/roms/warlords.bin\n",
            "Installed /usr/local/lib/python3.11/dist-packages/AutoROM/roms/wizard_of_wor.bin\n",
            "Installed /usr/local/lib/python3.11/dist-packages/AutoROM/roms/word_zapper.bin\n",
            "Installed /usr/local/lib/python3.11/dist-packages/AutoROM/roms/yars_revenge.bin\n",
            "Installed /usr/local/lib/python3.11/dist-packages/AutoROM/roms/zaxxon.bin\n",
            "Done!\n"
          ]
        }
      ]
    },
    {
      "cell_type": "code",
      "source": [
        "import ale_py\n",
        "import gymnasium as gym\n",
        "\n",
        "env = gym.make(\"ALE/Pong-v5\", render_mode=\"rgb_array\")\n",
        "obs, _ = env.reset()\n",
        "print(obs.shape)\n",
        "env.close()"
      ],
      "metadata": {
        "colab": {
          "base_uri": "https://localhost:8080/"
        },
        "id": "A0ujVs72p__P",
        "outputId": "fb668335-a1a2-42bd-ac1c-fba83157fb1f"
      },
      "execution_count": 4,
      "outputs": [
        {
          "output_type": "stream",
          "name": "stdout",
          "text": [
            "(210, 160, 3)\n"
          ]
        }
      ]
    },
    {
      "cell_type": "code",
      "source": [
        "from dataclasses import dataclass\n",
        "import argparse\n",
        "import time\n",
        "import numpy as np\n",
        "import collections\n",
        "import typing as tt\n",
        "\n",
        "import torch\n",
        "import torch.nn as nn\n",
        "import torch.optim as optim\n",
        "\n",
        "from torch.utils.tensorboard.writer import SummaryWriter"
      ],
      "metadata": {
        "id": "l5kSxzZsqGXB"
      },
      "execution_count": 5,
      "outputs": []
    },
    {
      "cell_type": "code",
      "source": [
        "#dqn_model\n",
        "class DQN(nn.Module):\n",
        "    def __init__(self, input_shape, n_actions):\n",
        "        super(DQN, self).__init__()\n",
        "\n",
        "        self.conv = nn.Sequential(\n",
        "            nn.Conv2d(input_shape[0], 32, kernel_size=8, stride=4),\n",
        "            nn.ReLU(),\n",
        "            nn.Conv2d(32, 64, kernel_size=4, stride=2),\n",
        "            nn.ReLU(),\n",
        "            nn.Conv2d(64, 64, kernel_size=3, stride=1),\n",
        "            nn.ReLU(),\n",
        "            nn.Flatten(),\n",
        "        )\n",
        "        size = self.conv(torch.zeros(1, *input_shape)).size()[-1]\n",
        "        self.fc = nn.Sequential(\n",
        "            nn.Linear(size, 512),\n",
        "            nn.ReLU(),\n",
        "            nn.Linear(512, n_actions)\n",
        "        )\n",
        "    def forward(self, x: torch.ByteTensor):\n",
        "        x = x.float() / 255.0\n",
        "        return self.fc(self.conv(x))"
      ],
      "metadata": {
        "id": "oz8JjBdiqcoS"
      },
      "execution_count": 6,
      "outputs": []
    },
    {
      "cell_type": "code",
      "source": [
        "#wrappers\n",
        "\n",
        "from gymnasium import spaces\n",
        "from stable_baselines3.common import atari_wrappers\n",
        "from stable_baselines3.common.atari_wrappers import AtariWrapper\n",
        "\n",
        "\n",
        "class ImageToPyTorch(gym.ObservationWrapper):\n",
        "    \"\"\"\n",
        "    ImageToPyTorch: Reorders image dimensions from (H, W, C) to (C, H, W)\n",
        "    for compatibility with PyTorch convolutional layers.\n",
        "    \"\"\"\n",
        "    def __init__(self, env):\n",
        "        super(ImageToPyTorch, self).__init__(env)\n",
        "        obs = self.observation_space\n",
        "        assert isinstance(obs, gym.spaces.Box)\n",
        "        assert len(obs.shape) == 3\n",
        "        new_shape = (obs.shape[-1], obs.shape[0], obs.shape[1])\n",
        "        self.observation_space = gym.spaces.Box(\n",
        "            low=obs.low.min(), high=obs.high.max(),\n",
        "            shape=new_shape, dtype=obs.dtype)\n",
        "\n",
        "    def observation(self, observation):\n",
        "        return np.moveaxis(observation, 2, 0)\n",
        "\n",
        "\n",
        "class BufferWrapper(gym.ObservationWrapper):\n",
        "    \"\"\"\n",
        "    BufferWrapper: Maintains a rolling window of the last `n_steps` frames\n",
        "    to give the agent a sense of temporal context.\n",
        "    \"\"\"\n",
        "    def __init__(self, env, n_steps):\n",
        "        super(BufferWrapper, self).__init__(env)\n",
        "        obs = env.observation_space\n",
        "        assert isinstance(obs, spaces.Box)\n",
        "        new_obs = gym.spaces.Box(\n",
        "            obs.low.repeat(n_steps, axis=0), obs.high.repeat(n_steps, axis=0),\n",
        "            dtype=obs.dtype)\n",
        "        self.observation_space = new_obs\n",
        "        self.buffer = collections.deque(maxlen=n_steps)\n",
        "\n",
        "    def reset(self, *, seed: tt.Optional[int] = None, options: tt.Optional[dict[str, tt.Any]] = None):\n",
        "        for _ in range(self.buffer.maxlen):\n",
        "            self.buffer.append(np.zeros_like(self.env.observation_space.low))\n",
        "        obs, extra = self.env.reset()\n",
        "        return self.observation(obs), extra\n",
        "\n",
        "    def observation(self, observation: np.ndarray) -> np.ndarray:\n",
        "        self.buffer.append(observation)\n",
        "        return np.concatenate(self.buffer)\n",
        "\n",
        "\n",
        "def make_eval_env(env_name, n_steps=4, render_mode=\"rgb_array\"):\n",
        "    env = gym.make(env_name, render_mode=render_mode)\n",
        "    env = AtariWrapper(env, clip_reward=False, noop_max=0)\n",
        "    env = ImageToPyTorch(env)\n",
        "    env = BufferWrapper(env, n_steps)\n",
        "    return env\n",
        ""
      ],
      "metadata": {
        "id": "wxETPeosqsiQ"
      },
      "execution_count": 7,
      "outputs": []
    },
    {
      "cell_type": "code",
      "source": [
        "from pathlib import Path\n",
        "from gym.wrappers import RecordVideo\n",
        "\n",
        "def make_eval_env_with_recording(env_name, model_name, video_dir=\"video\", n_steps=4, render_mode=\"rgb_array\"):\n",
        "    # Clean prefix from filename\n",
        "    model_base = Path(model_name).stem  # removes .dat\n",
        "    env = make_env(env_name, n_steps=n_steps, render_mode=render_mode)\n",
        "    env = RecordVideo(\n",
        "        env,\n",
        "        video_folder=video_dir,\n",
        "        name_prefix=model_base,\n",
        "        episode_trigger=lambda ep: True  # record the first episode\n",
        "    )\n",
        "    return env\n"
      ],
      "metadata": {
        "id": "dj-ZpiFK4QJO"
      },
      "execution_count": 58,
      "outputs": []
    },
    {
      "cell_type": "markdown",
      "source": [
        "# Run Model"
      ],
      "metadata": {
        "id": "BTpMdmFG3TVd"
      }
    },
    {
      "cell_type": "code",
      "source": [
        "# Base Configuration\n",
        "DEFAULT_ENV_NAME = \"ALE/Pong-v5\""
      ],
      "metadata": {
        "id": "XwC0KaEKt9yO"
      },
      "execution_count": 76,
      "outputs": []
    },
    {
      "cell_type": "code",
      "source": [
        "## Load the Model\n",
        "env_name = DEFAULT_ENV_NAME\n",
        "device = torch.device(\"cuda\" if torch.cuda.is_available() else \"cpu\")\n",
        "# env = make_env(env_name, render_mode=\"rgb_array\")\n",
        "env = make_eval_env_with_recording(env_name, model_name)\n",
        "obs, _ = env.reset()\n",
        "net = DQN(env.observation_space.shape, env.action_space.n)\n",
        "net.load_state_dict(torch.load(model_name, map_location=\"cpu\"))\n",
        "\n"
      ],
      "metadata": {
        "colab": {
          "base_uri": "https://localhost:8080/"
        },
        "id": "WMsXe6D7q9bK",
        "outputId": "b7d0c0bf-442e-49b8-cca9-dd3516bfda32"
      },
      "execution_count": 77,
      "outputs": [
        {
          "output_type": "stream",
          "name": "stdout",
          "text": [
            "Creating environment ALE/Pong-v5\n"
          ]
        },
        {
          "output_type": "execute_result",
          "data": {
            "text/plain": [
              "<All keys matched successfully>"
            ]
          },
          "metadata": {},
          "execution_count": 77
        }
      ]
    },
    {
      "cell_type": "code",
      "execution_count": 78,
      "metadata": {
        "id": "dc1eM_AZrGay",
        "colab": {
          "base_uri": "https://localhost:8080/"
        },
        "outputId": "050cceb6-e278-438e-b27a-5c806b3458c2"
      },
      "outputs": [
        {
          "output_type": "stream",
          "name": "stdout",
          "text": [
            "✅ Episode finished. Total reward: -12.00\n"
          ]
        }
      ],
      "source": [
        "from gymnasium.wrappers import RecordVideo\n",
        "from IPython.display import HTML\n",
        "import base64\n",
        "from pathlib import Path\n",
        "\n",
        "# Create renderable environment and wrap for video recording\n",
        "video_dir = \"video\"\n",
        "env = RecordVideo(env, video_folder=video_dir, name_prefix=\"dqn_pong_eval\", episode_trigger=lambda x: True)\n",
        "\n",
        "obs, _ = env.reset()\n",
        "total_reward = 0.0\n",
        "\n",
        "while True:\n",
        "    with torch.no_grad():\n",
        "        state_v = torch.as_tensor(obs).unsqueeze(0).to(device)\n",
        "        q_vals = net(state_v)\n",
        "        action = int(torch.argmax(q_vals, dim=1).item())\n",
        "\n",
        "    obs, reward, terminated, truncated, _ = env.step(action)\n",
        "    total_reward += reward\n",
        "    if terminated or truncated:\n",
        "        break\n",
        "\n",
        "env.close()\n",
        "print(f\"✅ Episode finished. Total reward: {total_reward:.2f}\")"
      ]
    },
    {
      "cell_type": "code",
      "source": [
        "from IPython.display import HTML\n",
        "from pathlib import Path\n",
        "import base64\n",
        "\n",
        "def show_video_by_episode(episode_number: int, model_name: str, video_dir=\"video\"):\n",
        "    \"\"\"\n",
        "    Displays a specific episode's video recorded using RecordVideo, using the model filename as the prefix.\n",
        "\n",
        "    Parameters:\n",
        "    - episode_number: The episode number (0, 1, ...)\n",
        "    - model_name: The full .dat model filename used as name_prefix in RecordVideo\n",
        "    - video_dir: Folder where video files are stored\n",
        "    \"\"\"\n",
        "    prefix = Path(model_name).stem  # Remove .dat extension\n",
        "    filename = f\"{prefix}-episode-{episode_number}.mp4\"\n",
        "    video_path = Path(video_dir) / filename\n",
        "\n",
        "    if not video_path.exists():\n",
        "        print(f\"❌ Video not found: {video_path}\")\n",
        "        return\n",
        "\n",
        "    print(f\"🎥 Showing episode {episode_number}: {video_path.name}\")\n",
        "\n",
        "    with open(video_path, \"rb\") as f:\n",
        "        video_data = f.read()\n",
        "    encoded = base64.b64encode(video_data).decode(\"ascii\")\n",
        "\n",
        "    video_html = f\"\"\"\n",
        "    <video width=\"640\" height=\"480\" controls style=\"max-width: 100%;\" controlslist=\"nodownload\" allowfullscreen>\n",
        "        <source src=\"data:video/mp4;base64,{encoded}\" type=\"video/mp4\">\n",
        "        Your browser does not support the video tag.\n",
        "    </video>\n",
        "    <p>💡 Right-click and choose <strong>“Open video in new tab”</strong> to use fullscreen mode.</p>\n",
        "    \"\"\"\n",
        "\n",
        "    return HTML(video_html)"
      ],
      "metadata": {
        "id": "Umzj4vv76A2H"
      },
      "execution_count": 79,
      "outputs": []
    },
    {
      "cell_type": "code",
      "source": [
        "show_video_by_episode(1, model_name)"
      ],
      "metadata": {
        "colab": {
          "base_uri": "https://localhost:8080/",
          "height": 548
        },
        "id": "0KQe8Hnq6Fw3",
        "outputId": "dee1430e-9627-4729-c218-53320a35e9fb"
      },
      "execution_count": 80,
      "outputs": [
        {
          "output_type": "stream",
          "name": "stdout",
          "text": [
            "🎥 Showing episode 1: ALE_Pong-v5-best_-10-test_epsdec150000_rs10000_sync1000-episode-1.mp4\n"
          ]
        },
        {
          "output_type": "execute_result",
          "data": {
            "text/plain": [
              "<IPython.core.display.HTML object>"
            ],
            "text/html": [
              "\n",
              "    <video width=\"640\" height=\"480\" controls style=\"max-width: 100%;\" controlslist=\"nodownload\" allowfullscreen>\n",
              "        <source src=\"data:video/mp4;base64,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\" type=\"video/mp4\">\n",
              "        Your browser does not support the video tag.\n",
              "    </video>\n",
              "    <p>💡 Right-click and choose <strong>“Open video in new tab”</strong> to use fullscreen mode.</p>\n",
              "    "
            ]
          },
          "metadata": {},
          "execution_count": 80
        }
      ]
    }
  ]
}