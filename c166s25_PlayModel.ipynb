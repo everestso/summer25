{
  "nbformat": 4,
  "nbformat_minor": 0,
  "metadata": {
    "colab": {
      "provenance": [],
      "authorship_tag": "ABX9TyPiT/E5LSomuo67yEt+ssvi",
      "include_colab_link": true
    },
    "kernelspec": {
      "name": "python3",
      "display_name": "Python 3"
    },
    "language_info": {
      "name": "python"
    }
  },
  "cells": [
    {
      "cell_type": "markdown",
      "metadata": {
        "id": "view-in-github",
        "colab_type": "text"
      },
      "source": [
        "<a href=\"https://colab.research.google.com/github/everestso/summer25/blob/main/c166s25_PlayModel.ipynb\" target=\"_parent\"><img src=\"https://colab.research.google.com/assets/colab-badge.svg\" alt=\"Open In Colab\"/></a>"
      ]
    },
    {
      "cell_type": "code",
      "source": [
        "model_name = \"ALE_Pong-v5-best_-10-test_epsdec150000_rs10000_sync1000.dat\"\n",
        "!gdown 1OqD6LLdznrDyAtLphTQnNLAtI5bbBrRx"
      ],
      "metadata": {
        "colab": {
          "base_uri": "https://localhost:8080/"
        },
        "id": "dIMrdIagoyEf",
        "outputId": "d9d9bd21-b66a-41d5-b5f1-441db0ff95f6"
      },
      "execution_count": 11,
      "outputs": [
        {
          "output_type": "stream",
          "name": "stdout",
          "text": [
            "Downloading...\n",
            "From: https://drive.google.com/uc?id=1OqD6LLdznrDyAtLphTQnNLAtI5bbBrRx\n",
            "To: /content/ALE_Pong-v5-best_-10-test_epsdec150000_rs10000_sync1000.dat\n",
            "100% 6.75M/6.75M [00:00<00:00, 23.1MB/s]\n"
          ]
        }
      ]
    },
    {
      "cell_type": "code",
      "source": [
        "# https://drive.google.com/file/d/1RWlLZyU8ZFMvt0yYKhU8W6sodSWRLZsb/view?usp=sharing\n",
        "model_name = \"ALE_Pong-v5-best_-20-test_epsdec150000_rs10000_sync1000.dat\"\n",
        "!gdown 1RWlLZyU8ZFMvt0yYKhU8W6sodSWRLZsb"
      ],
      "metadata": {
        "colab": {
          "base_uri": "https://localhost:8080/"
        },
        "id": "IJVDPrYL3CJk",
        "outputId": "bde6272f-87d3-4bcc-dbef-b0770551f43c"
      },
      "execution_count": 69,
      "outputs": [
        {
          "output_type": "stream",
          "name": "stdout",
          "text": [
            "Downloading...\n",
            "From: https://drive.google.com/uc?id=1RWlLZyU8ZFMvt0yYKhU8W6sodSWRLZsb\n",
            "To: /content/ALE_Pong-v5-best_-20-test_epsdec150000_rs10000_sync1000.dat\n",
            "\r  0% 0.00/6.75M [00:00<?, ?B/s]\r 70% 4.72M/6.75M [00:00<00:00, 20.2MB/s]\r100% 6.75M/6.75M [00:00<00:00, 27.4MB/s]\n"
          ]
        }
      ]
    },
    {
      "cell_type": "code",
      "source": [
        "!pip install gymnasium[atari,accept-rom-license]\n",
        "!pip install autorom\n",
        "!pip install stable-baselines3"
      ],
      "metadata": {
        "colab": {
          "base_uri": "https://localhost:8080/"
        },
        "id": "McZNLA6LpPXA",
        "outputId": "d4fc3194-374c-499e-e3df-f30061faf362"
      },
      "execution_count": 2,
      "outputs": [
        {
          "output_type": "stream",
          "name": "stdout",
          "text": [
            "Requirement already satisfied: gymnasium[accept-rom-license,atari] in /usr/local/lib/python3.11/dist-packages (1.1.1)\n",
            "\u001b[33mWARNING: gymnasium 1.1.1 does not provide the extra 'accept-rom-license'\u001b[0m\u001b[33m\n",
            "\u001b[0mRequirement already satisfied: numpy>=1.21.0 in /usr/local/lib/python3.11/dist-packages (from gymnasium[accept-rom-license,atari]) (2.0.2)\n",
            "Requirement already satisfied: cloudpickle>=1.2.0 in /usr/local/lib/python3.11/dist-packages (from gymnasium[accept-rom-license,atari]) (3.1.1)\n",
            "Requirement already satisfied: typing-extensions>=4.3.0 in /usr/local/lib/python3.11/dist-packages (from gymnasium[accept-rom-license,atari]) (4.14.0)\n",
            "Requirement already satisfied: farama-notifications>=0.0.1 in /usr/local/lib/python3.11/dist-packages (from gymnasium[accept-rom-license,atari]) (0.0.4)\n",
            "Requirement already satisfied: ale_py>=0.9 in /usr/local/lib/python3.11/dist-packages (from gymnasium[accept-rom-license,atari]) (0.11.1)\n",
            "Collecting autorom\n",
            "  Downloading AutoROM-0.6.1-py3-none-any.whl.metadata (2.4 kB)\n",
            "Requirement already satisfied: click in /usr/local/lib/python3.11/dist-packages (from autorom) (8.2.1)\n",
            "Requirement already satisfied: requests in /usr/local/lib/python3.11/dist-packages (from autorom) (2.32.3)\n",
            "Requirement already satisfied: charset-normalizer<4,>=2 in /usr/local/lib/python3.11/dist-packages (from requests->autorom) (3.4.2)\n",
            "Requirement already satisfied: idna<4,>=2.5 in /usr/local/lib/python3.11/dist-packages (from requests->autorom) (3.10)\n",
            "Requirement already satisfied: urllib3<3,>=1.21.1 in /usr/local/lib/python3.11/dist-packages (from requests->autorom) (2.4.0)\n",
            "Requirement already satisfied: certifi>=2017.4.17 in /usr/local/lib/python3.11/dist-packages (from requests->autorom) (2025.4.26)\n",
            "Downloading AutoROM-0.6.1-py3-none-any.whl (9.4 kB)\n",
            "Installing collected packages: autorom\n",
            "Successfully installed autorom-0.6.1\n",
            "Collecting stable-baselines3\n",
            "  Downloading stable_baselines3-2.6.0-py3-none-any.whl.metadata (4.8 kB)\n",
            "Requirement already satisfied: gymnasium<1.2.0,>=0.29.1 in /usr/local/lib/python3.11/dist-packages (from stable-baselines3) (1.1.1)\n",
            "Requirement already satisfied: numpy<3.0,>=1.20 in /usr/local/lib/python3.11/dist-packages (from stable-baselines3) (2.0.2)\n",
            "Requirement already satisfied: torch<3.0,>=2.3 in /usr/local/lib/python3.11/dist-packages (from stable-baselines3) (2.6.0+cu124)\n",
            "Requirement already satisfied: cloudpickle in /usr/local/lib/python3.11/dist-packages (from stable-baselines3) (3.1.1)\n",
            "Requirement already satisfied: pandas in /usr/local/lib/python3.11/dist-packages (from stable-baselines3) (2.2.2)\n",
            "Requirement already satisfied: matplotlib in /usr/local/lib/python3.11/dist-packages (from stable-baselines3) (3.10.0)\n",
            "Requirement already satisfied: typing-extensions>=4.3.0 in /usr/local/lib/python3.11/dist-packages (from gymnasium<1.2.0,>=0.29.1->stable-baselines3) (4.14.0)\n",
            "Requirement already satisfied: farama-notifications>=0.0.1 in /usr/local/lib/python3.11/dist-packages (from gymnasium<1.2.0,>=0.29.1->stable-baselines3) (0.0.4)\n",
            "Requirement already satisfied: filelock in /usr/local/lib/python3.11/dist-packages (from torch<3.0,>=2.3->stable-baselines3) (3.18.0)\n",
            "Requirement already satisfied: networkx in /usr/local/lib/python3.11/dist-packages (from torch<3.0,>=2.3->stable-baselines3) (3.5)\n",
            "Requirement already satisfied: jinja2 in /usr/local/lib/python3.11/dist-packages (from torch<3.0,>=2.3->stable-baselines3) (3.1.6)\n",
            "Requirement already satisfied: fsspec in /usr/local/lib/python3.11/dist-packages (from torch<3.0,>=2.3->stable-baselines3) (2025.3.2)\n",
            "Collecting nvidia-cuda-nvrtc-cu12==12.4.127 (from torch<3.0,>=2.3->stable-baselines3)\n",
            "  Downloading nvidia_cuda_nvrtc_cu12-12.4.127-py3-none-manylinux2014_x86_64.whl.metadata (1.5 kB)\n",
            "Collecting nvidia-cuda-runtime-cu12==12.4.127 (from torch<3.0,>=2.3->stable-baselines3)\n",
            "  Downloading nvidia_cuda_runtime_cu12-12.4.127-py3-none-manylinux2014_x86_64.whl.metadata (1.5 kB)\n",
            "Collecting nvidia-cuda-cupti-cu12==12.4.127 (from torch<3.0,>=2.3->stable-baselines3)\n",
            "  Downloading nvidia_cuda_cupti_cu12-12.4.127-py3-none-manylinux2014_x86_64.whl.metadata (1.6 kB)\n",
            "Collecting nvidia-cudnn-cu12==9.1.0.70 (from torch<3.0,>=2.3->stable-baselines3)\n",
            "  Downloading nvidia_cudnn_cu12-9.1.0.70-py3-none-manylinux2014_x86_64.whl.metadata (1.6 kB)\n",
            "Collecting nvidia-cublas-cu12==12.4.5.8 (from torch<3.0,>=2.3->stable-baselines3)\n",
            "  Downloading nvidia_cublas_cu12-12.4.5.8-py3-none-manylinux2014_x86_64.whl.metadata (1.5 kB)\n",
            "Collecting nvidia-cufft-cu12==11.2.1.3 (from torch<3.0,>=2.3->stable-baselines3)\n",
            "  Downloading nvidia_cufft_cu12-11.2.1.3-py3-none-manylinux2014_x86_64.whl.metadata (1.5 kB)\n",
            "Collecting nvidia-curand-cu12==10.3.5.147 (from torch<3.0,>=2.3->stable-baselines3)\n",
            "  Downloading nvidia_curand_cu12-10.3.5.147-py3-none-manylinux2014_x86_64.whl.metadata (1.5 kB)\n",
            "Collecting nvidia-cusolver-cu12==11.6.1.9 (from torch<3.0,>=2.3->stable-baselines3)\n",
            "  Downloading nvidia_cusolver_cu12-11.6.1.9-py3-none-manylinux2014_x86_64.whl.metadata (1.6 kB)\n",
            "Collecting nvidia-cusparse-cu12==12.3.1.170 (from torch<3.0,>=2.3->stable-baselines3)\n",
            "  Downloading nvidia_cusparse_cu12-12.3.1.170-py3-none-manylinux2014_x86_64.whl.metadata (1.6 kB)\n",
            "Requirement already satisfied: nvidia-cusparselt-cu12==0.6.2 in /usr/local/lib/python3.11/dist-packages (from torch<3.0,>=2.3->stable-baselines3) (0.6.2)\n",
            "Requirement already satisfied: nvidia-nccl-cu12==2.21.5 in /usr/local/lib/python3.11/dist-packages (from torch<3.0,>=2.3->stable-baselines3) (2.21.5)\n",
            "Requirement already satisfied: nvidia-nvtx-cu12==12.4.127 in /usr/local/lib/python3.11/dist-packages (from torch<3.0,>=2.3->stable-baselines3) (12.4.127)\n",
            "Collecting nvidia-nvjitlink-cu12==12.4.127 (from torch<3.0,>=2.3->stable-baselines3)\n",
            "  Downloading nvidia_nvjitlink_cu12-12.4.127-py3-none-manylinux2014_x86_64.whl.metadata (1.5 kB)\n",
            "Requirement already satisfied: triton==3.2.0 in /usr/local/lib/python3.11/dist-packages (from torch<3.0,>=2.3->stable-baselines3) (3.2.0)\n",
            "Requirement already satisfied: sympy==1.13.1 in /usr/local/lib/python3.11/dist-packages (from torch<3.0,>=2.3->stable-baselines3) (1.13.1)\n",
            "Requirement already satisfied: mpmath<1.4,>=1.1.0 in /usr/local/lib/python3.11/dist-packages (from sympy==1.13.1->torch<3.0,>=2.3->stable-baselines3) (1.3.0)\n",
            "Requirement already satisfied: contourpy>=1.0.1 in /usr/local/lib/python3.11/dist-packages (from matplotlib->stable-baselines3) (1.3.2)\n",
            "Requirement already satisfied: cycler>=0.10 in /usr/local/lib/python3.11/dist-packages (from matplotlib->stable-baselines3) (0.12.1)\n",
            "Requirement already satisfied: fonttools>=4.22.0 in /usr/local/lib/python3.11/dist-packages (from matplotlib->stable-baselines3) (4.58.1)\n",
            "Requirement already satisfied: kiwisolver>=1.3.1 in /usr/local/lib/python3.11/dist-packages (from matplotlib->stable-baselines3) (1.4.8)\n",
            "Requirement already satisfied: packaging>=20.0 in /usr/local/lib/python3.11/dist-packages (from matplotlib->stable-baselines3) (24.2)\n",
            "Requirement already satisfied: pillow>=8 in /usr/local/lib/python3.11/dist-packages (from matplotlib->stable-baselines3) (11.2.1)\n",
            "Requirement already satisfied: pyparsing>=2.3.1 in /usr/local/lib/python3.11/dist-packages (from matplotlib->stable-baselines3) (3.2.3)\n",
            "Requirement already satisfied: python-dateutil>=2.7 in /usr/local/lib/python3.11/dist-packages (from matplotlib->stable-baselines3) (2.9.0.post0)\n",
            "Requirement already satisfied: pytz>=2020.1 in /usr/local/lib/python3.11/dist-packages (from pandas->stable-baselines3) (2025.2)\n",
            "Requirement already satisfied: tzdata>=2022.7 in /usr/local/lib/python3.11/dist-packages (from pandas->stable-baselines3) (2025.2)\n",
            "Requirement already satisfied: six>=1.5 in /usr/local/lib/python3.11/dist-packages (from python-dateutil>=2.7->matplotlib->stable-baselines3) (1.17.0)\n",
            "Requirement already satisfied: MarkupSafe>=2.0 in /usr/local/lib/python3.11/dist-packages (from jinja2->torch<3.0,>=2.3->stable-baselines3) (3.0.2)\n",
            "Downloading stable_baselines3-2.6.0-py3-none-any.whl (184 kB)\n",
            "\u001b[2K   \u001b[90m━━━━━━━━━━━━━━━━━━━━━━━━━━━━━━━━━━━━━━━━\u001b[0m \u001b[32m184.5/184.5 kB\u001b[0m \u001b[31m3.7 MB/s\u001b[0m eta \u001b[36m0:00:00\u001b[0m\n",
            "\u001b[?25hDownloading nvidia_cublas_cu12-12.4.5.8-py3-none-manylinux2014_x86_64.whl (363.4 MB)\n",
            "\u001b[2K   \u001b[90m━━━━━━━━━━━━━━━━━━━━━━━━━━━━━━━━━━━━━━━━\u001b[0m \u001b[32m363.4/363.4 MB\u001b[0m \u001b[31m5.5 MB/s\u001b[0m eta \u001b[36m0:00:00\u001b[0m\n",
            "\u001b[?25hDownloading nvidia_cuda_cupti_cu12-12.4.127-py3-none-manylinux2014_x86_64.whl (13.8 MB)\n",
            "\u001b[2K   \u001b[90m━━━━━━━━━━━━━━━━━━━━━━━━━━━━━━━━━━━━━━━━\u001b[0m \u001b[32m13.8/13.8 MB\u001b[0m \u001b[31m100.9 MB/s\u001b[0m eta \u001b[36m0:00:00\u001b[0m\n",
            "\u001b[?25hDownloading nvidia_cuda_nvrtc_cu12-12.4.127-py3-none-manylinux2014_x86_64.whl (24.6 MB)\n",
            "\u001b[2K   \u001b[90m━━━━━━━━━━━━━━━━━━━━━━━━━━━━━━━━━━━━━━━━\u001b[0m \u001b[32m24.6/24.6 MB\u001b[0m \u001b[31m85.5 MB/s\u001b[0m eta \u001b[36m0:00:00\u001b[0m\n",
            "\u001b[?25hDownloading nvidia_cuda_runtime_cu12-12.4.127-py3-none-manylinux2014_x86_64.whl (883 kB)\n",
            "\u001b[2K   \u001b[90m━━━━━━━━━━━━━━━━━━━━━━━━━━━━━━━━━━━━━━━━\u001b[0m \u001b[32m883.7/883.7 kB\u001b[0m \u001b[31m53.8 MB/s\u001b[0m eta \u001b[36m0:00:00\u001b[0m\n",
            "\u001b[?25hDownloading nvidia_cudnn_cu12-9.1.0.70-py3-none-manylinux2014_x86_64.whl (664.8 MB)\n",
            "\u001b[2K   \u001b[90m━━━━━━━━━━━━━━━━━━━━━━━━━━━━━━━━━━━━━━━━\u001b[0m \u001b[32m664.8/664.8 MB\u001b[0m \u001b[31m2.6 MB/s\u001b[0m eta \u001b[36m0:00:00\u001b[0m\n",
            "\u001b[?25hDownloading nvidia_cufft_cu12-11.2.1.3-py3-none-manylinux2014_x86_64.whl (211.5 MB)\n",
            "\u001b[2K   \u001b[90m━━━━━━━━━━━━━━━━━━━━━━━━━━━━━━━━━━━━━━━━\u001b[0m \u001b[32m211.5/211.5 MB\u001b[0m \u001b[31m6.0 MB/s\u001b[0m eta \u001b[36m0:00:00\u001b[0m\n",
            "\u001b[?25hDownloading nvidia_curand_cu12-10.3.5.147-py3-none-manylinux2014_x86_64.whl (56.3 MB)\n",
            "\u001b[2K   \u001b[90m━━━━━━━━━━━━━━━━━━━━━━━━━━━━━━━━━━━━━━━━\u001b[0m \u001b[32m56.3/56.3 MB\u001b[0m \u001b[31m10.9 MB/s\u001b[0m eta \u001b[36m0:00:00\u001b[0m\n",
            "\u001b[?25hDownloading nvidia_cusolver_cu12-11.6.1.9-py3-none-manylinux2014_x86_64.whl (127.9 MB)\n",
            "\u001b[2K   \u001b[90m━━━━━━━━━━━━━━━━━━━━━━━━━━━━━━━━━━━━━━━━\u001b[0m \u001b[32m127.9/127.9 MB\u001b[0m \u001b[31m7.2 MB/s\u001b[0m eta \u001b[36m0:00:00\u001b[0m\n",
            "\u001b[?25hDownloading nvidia_cusparse_cu12-12.3.1.170-py3-none-manylinux2014_x86_64.whl (207.5 MB)\n",
            "\u001b[2K   \u001b[90m━━━━━━━━━━━━━━━━━━━━━━━━━━━━━━━━━━━━━━━━\u001b[0m \u001b[32m207.5/207.5 MB\u001b[0m \u001b[31m5.6 MB/s\u001b[0m eta \u001b[36m0:00:00\u001b[0m\n",
            "\u001b[?25hDownloading nvidia_nvjitlink_cu12-12.4.127-py3-none-manylinux2014_x86_64.whl (21.1 MB)\n",
            "\u001b[2K   \u001b[90m━━━━━━━━━━━━━━━━━━━━━━━━━━━━━━━━━━━━━━━━\u001b[0m \u001b[32m21.1/21.1 MB\u001b[0m \u001b[31m70.6 MB/s\u001b[0m eta \u001b[36m0:00:00\u001b[0m\n",
            "\u001b[?25hInstalling collected packages: nvidia-nvjitlink-cu12, nvidia-curand-cu12, nvidia-cufft-cu12, nvidia-cuda-runtime-cu12, nvidia-cuda-nvrtc-cu12, nvidia-cuda-cupti-cu12, nvidia-cublas-cu12, nvidia-cusparse-cu12, nvidia-cudnn-cu12, nvidia-cusolver-cu12, stable-baselines3\n",
            "  Attempting uninstall: nvidia-nvjitlink-cu12\n",
            "    Found existing installation: nvidia-nvjitlink-cu12 12.5.82\n",
            "    Uninstalling nvidia-nvjitlink-cu12-12.5.82:\n",
            "      Successfully uninstalled nvidia-nvjitlink-cu12-12.5.82\n",
            "  Attempting uninstall: nvidia-curand-cu12\n",
            "    Found existing installation: nvidia-curand-cu12 10.3.6.82\n",
            "    Uninstalling nvidia-curand-cu12-10.3.6.82:\n",
            "      Successfully uninstalled nvidia-curand-cu12-10.3.6.82\n",
            "  Attempting uninstall: nvidia-cufft-cu12\n",
            "    Found existing installation: nvidia-cufft-cu12 11.2.3.61\n",
            "    Uninstalling nvidia-cufft-cu12-11.2.3.61:\n",
            "      Successfully uninstalled nvidia-cufft-cu12-11.2.3.61\n",
            "  Attempting uninstall: nvidia-cuda-runtime-cu12\n",
            "    Found existing installation: nvidia-cuda-runtime-cu12 12.5.82\n",
            "    Uninstalling nvidia-cuda-runtime-cu12-12.5.82:\n",
            "      Successfully uninstalled nvidia-cuda-runtime-cu12-12.5.82\n",
            "  Attempting uninstall: nvidia-cuda-nvrtc-cu12\n",
            "    Found existing installation: nvidia-cuda-nvrtc-cu12 12.5.82\n",
            "    Uninstalling nvidia-cuda-nvrtc-cu12-12.5.82:\n",
            "      Successfully uninstalled nvidia-cuda-nvrtc-cu12-12.5.82\n",
            "  Attempting uninstall: nvidia-cuda-cupti-cu12\n",
            "    Found existing installation: nvidia-cuda-cupti-cu12 12.5.82\n",
            "    Uninstalling nvidia-cuda-cupti-cu12-12.5.82:\n",
            "      Successfully uninstalled nvidia-cuda-cupti-cu12-12.5.82\n",
            "  Attempting uninstall: nvidia-cublas-cu12\n",
            "    Found existing installation: nvidia-cublas-cu12 12.5.3.2\n",
            "    Uninstalling nvidia-cublas-cu12-12.5.3.2:\n",
            "      Successfully uninstalled nvidia-cublas-cu12-12.5.3.2\n",
            "  Attempting uninstall: nvidia-cusparse-cu12\n",
            "    Found existing installation: nvidia-cusparse-cu12 12.5.1.3\n",
            "    Uninstalling nvidia-cusparse-cu12-12.5.1.3:\n",
            "      Successfully uninstalled nvidia-cusparse-cu12-12.5.1.3\n",
            "  Attempting uninstall: nvidia-cudnn-cu12\n",
            "    Found existing installation: nvidia-cudnn-cu12 9.3.0.75\n",
            "    Uninstalling nvidia-cudnn-cu12-9.3.0.75:\n",
            "      Successfully uninstalled nvidia-cudnn-cu12-9.3.0.75\n",
            "  Attempting uninstall: nvidia-cusolver-cu12\n",
            "    Found existing installation: nvidia-cusolver-cu12 11.6.3.83\n",
            "    Uninstalling nvidia-cusolver-cu12-11.6.3.83:\n",
            "      Successfully uninstalled nvidia-cusolver-cu12-11.6.3.83\n",
            "Successfully installed nvidia-cublas-cu12-12.4.5.8 nvidia-cuda-cupti-cu12-12.4.127 nvidia-cuda-nvrtc-cu12-12.4.127 nvidia-cuda-runtime-cu12-12.4.127 nvidia-cudnn-cu12-9.1.0.70 nvidia-cufft-cu12-11.2.1.3 nvidia-curand-cu12-10.3.5.147 nvidia-cusolver-cu12-11.6.1.9 nvidia-cusparse-cu12-12.3.1.170 nvidia-nvjitlink-cu12-12.4.127 stable-baselines3-2.6.0\n"
          ]
        }
      ]
    },
    {
      "cell_type": "code",
      "source": [
        "!AutoROM --accept-license"
      ],
      "metadata": {
        "colab": {
          "base_uri": "https://localhost:8080/"
        },
        "id": "Hu6zPOKHpwzZ",
        "outputId": "a96d3543-1aaf-42cb-b409-b77bfa24a304"
      },
      "execution_count": 3,
      "outputs": [
        {
          "output_type": "stream",
          "name": "stdout",
          "text": [
            "AutoROM will download the Atari 2600 ROMs.\n",
            "They will be installed to:\n",
            "\t/usr/local/lib/python3.11/dist-packages/AutoROM/roms\n",
            "\n",
            "Existing ROMs will be overwritten.\n",
            "Installed /usr/local/lib/python3.11/dist-packages/AutoROM/roms/adventure.bin\n",
            "Installed /usr/local/lib/python3.11/dist-packages/AutoROM/roms/air_raid.bin\n",
            "Installed /usr/local/lib/python3.11/dist-packages/AutoROM/roms/alien.bin\n",
            "Installed /usr/local/lib/python3.11/dist-packages/AutoROM/roms/amidar.bin\n",
            "Installed /usr/local/lib/python3.11/dist-packages/AutoROM/roms/assault.bin\n",
            "Installed /usr/local/lib/python3.11/dist-packages/AutoROM/roms/asterix.bin\n",
            "Installed /usr/local/lib/python3.11/dist-packages/AutoROM/roms/asteroids.bin\n",
            "Installed /usr/local/lib/python3.11/dist-packages/AutoROM/roms/atlantis.bin\n",
            "Installed /usr/local/lib/python3.11/dist-packages/AutoROM/roms/atlantis2.bin\n",
            "Installed /usr/local/lib/python3.11/dist-packages/AutoROM/roms/backgammon.bin\n",
            "Installed /usr/local/lib/python3.11/dist-packages/AutoROM/roms/bank_heist.bin\n",
            "Installed /usr/local/lib/python3.11/dist-packages/AutoROM/roms/basic_math.bin\n",
            "Installed /usr/local/lib/python3.11/dist-packages/AutoROM/roms/battle_zone.bin\n",
            "Installed /usr/local/lib/python3.11/dist-packages/AutoROM/roms/beam_rider.bin\n",
            "Installed /usr/local/lib/python3.11/dist-packages/AutoROM/roms/berzerk.bin\n",
            "Installed /usr/local/lib/python3.11/dist-packages/AutoROM/roms/blackjack.bin\n",
            "Installed /usr/local/lib/python3.11/dist-packages/AutoROM/roms/bowling.bin\n",
            "Installed /usr/local/lib/python3.11/dist-packages/AutoROM/roms/boxing.bin\n",
            "Installed /usr/local/lib/python3.11/dist-packages/AutoROM/roms/breakout.bin\n",
            "Installed /usr/local/lib/python3.11/dist-packages/AutoROM/roms/carnival.bin\n",
            "Installed /usr/local/lib/python3.11/dist-packages/AutoROM/roms/casino.bin\n",
            "Installed /usr/local/lib/python3.11/dist-packages/AutoROM/roms/centipede.bin\n",
            "Installed /usr/local/lib/python3.11/dist-packages/AutoROM/roms/chopper_command.bin\n",
            "Installed /usr/local/lib/python3.11/dist-packages/AutoROM/roms/combat.bin\n",
            "Installed /usr/local/lib/python3.11/dist-packages/AutoROM/roms/crazy_climber.bin\n",
            "Installed /usr/local/lib/python3.11/dist-packages/AutoROM/roms/crossbow.bin\n",
            "Installed /usr/local/lib/python3.11/dist-packages/AutoROM/roms/darkchambers.bin\n",
            "Installed /usr/local/lib/python3.11/dist-packages/AutoROM/roms/defender.bin\n",
            "Installed /usr/local/lib/python3.11/dist-packages/AutoROM/roms/demon_attack.bin\n",
            "Installed /usr/local/lib/python3.11/dist-packages/AutoROM/roms/donkey_kong.bin\n",
            "Installed /usr/local/lib/python3.11/dist-packages/AutoROM/roms/double_dunk.bin\n",
            "Installed /usr/local/lib/python3.11/dist-packages/AutoROM/roms/earthworld.bin\n",
            "Installed /usr/local/lib/python3.11/dist-packages/AutoROM/roms/elevator_action.bin\n",
            "Installed /usr/local/lib/python3.11/dist-packages/AutoROM/roms/enduro.bin\n",
            "Installed /usr/local/lib/python3.11/dist-packages/AutoROM/roms/entombed.bin\n",
            "Installed /usr/local/lib/python3.11/dist-packages/AutoROM/roms/et.bin\n",
            "Installed /usr/local/lib/python3.11/dist-packages/AutoROM/roms/fishing_derby.bin\n",
            "Installed /usr/local/lib/python3.11/dist-packages/AutoROM/roms/flag_capture.bin\n",
            "Installed /usr/local/lib/python3.11/dist-packages/AutoROM/roms/freeway.bin\n",
            "Installed /usr/local/lib/python3.11/dist-packages/AutoROM/roms/frogger.bin\n",
            "Installed /usr/local/lib/python3.11/dist-packages/AutoROM/roms/frostbite.bin\n",
            "Installed /usr/local/lib/python3.11/dist-packages/AutoROM/roms/galaxian.bin\n",
            "Installed /usr/local/lib/python3.11/dist-packages/AutoROM/roms/gopher.bin\n",
            "Installed /usr/local/lib/python3.11/dist-packages/AutoROM/roms/gravitar.bin\n",
            "Installed /usr/local/lib/python3.11/dist-packages/AutoROM/roms/hangman.bin\n",
            "Installed /usr/local/lib/python3.11/dist-packages/AutoROM/roms/haunted_house.bin\n",
            "Installed /usr/local/lib/python3.11/dist-packages/AutoROM/roms/hero.bin\n",
            "Installed /usr/local/lib/python3.11/dist-packages/AutoROM/roms/human_cannonball.bin\n",
            "Installed /usr/local/lib/python3.11/dist-packages/AutoROM/roms/ice_hockey.bin\n",
            "Installed /usr/local/lib/python3.11/dist-packages/AutoROM/roms/jamesbond.bin\n",
            "Installed /usr/local/lib/python3.11/dist-packages/AutoROM/roms/journey_escape.bin\n",
            "Installed /usr/local/lib/python3.11/dist-packages/AutoROM/roms/joust.bin\n",
            "Installed /usr/local/lib/python3.11/dist-packages/AutoROM/roms/kaboom.bin\n",
            "Installed /usr/local/lib/python3.11/dist-packages/AutoROM/roms/kangaroo.bin\n",
            "Installed /usr/local/lib/python3.11/dist-packages/AutoROM/roms/keystone_kapers.bin\n",
            "Installed /usr/local/lib/python3.11/dist-packages/AutoROM/roms/king_kong.bin\n",
            "Installed /usr/local/lib/python3.11/dist-packages/AutoROM/roms/klax.bin\n",
            "Installed /usr/local/lib/python3.11/dist-packages/AutoROM/roms/koolaid.bin\n",
            "Installed /usr/local/lib/python3.11/dist-packages/AutoROM/roms/krull.bin\n",
            "Installed /usr/local/lib/python3.11/dist-packages/AutoROM/roms/kung_fu_master.bin\n",
            "Installed /usr/local/lib/python3.11/dist-packages/AutoROM/roms/laser_gates.bin\n",
            "Installed /usr/local/lib/python3.11/dist-packages/AutoROM/roms/lost_luggage.bin\n",
            "Installed /usr/local/lib/python3.11/dist-packages/AutoROM/roms/mario_bros.bin\n",
            "Installed /usr/local/lib/python3.11/dist-packages/AutoROM/roms/maze_craze.bin\n",
            "Installed /usr/local/lib/python3.11/dist-packages/AutoROM/roms/miniature_golf.bin\n",
            "Installed /usr/local/lib/python3.11/dist-packages/AutoROM/roms/montezuma_revenge.bin\n",
            "Installed /usr/local/lib/python3.11/dist-packages/AutoROM/roms/mr_do.bin\n",
            "Installed /usr/local/lib/python3.11/dist-packages/AutoROM/roms/ms_pacman.bin\n",
            "Installed /usr/local/lib/python3.11/dist-packages/AutoROM/roms/name_this_game.bin\n",
            "Installed /usr/local/lib/python3.11/dist-packages/AutoROM/roms/othello.bin\n",
            "Installed /usr/local/lib/python3.11/dist-packages/AutoROM/roms/pacman.bin\n",
            "Installed /usr/local/lib/python3.11/dist-packages/AutoROM/roms/phoenix.bin\n",
            "Installed /usr/local/lib/python3.11/dist-packages/AutoROM/roms/pitfall.bin\n",
            "Installed /usr/local/lib/python3.11/dist-packages/AutoROM/roms/pitfall2.bin\n",
            "Installed /usr/local/lib/python3.11/dist-packages/AutoROM/roms/pong.bin\n",
            "Installed /usr/local/lib/python3.11/dist-packages/AutoROM/roms/pooyan.bin\n",
            "Installed /usr/local/lib/python3.11/dist-packages/AutoROM/roms/private_eye.bin\n",
            "Installed /usr/local/lib/python3.11/dist-packages/AutoROM/roms/qbert.bin\n",
            "Installed /usr/local/lib/python3.11/dist-packages/AutoROM/roms/riverraid.bin\n",
            "Installed /usr/local/lib/python3.11/dist-packages/AutoROM/roms/road_runner.bin\n",
            "Installed /usr/local/lib/python3.11/dist-packages/AutoROM/roms/robotank.bin\n",
            "Installed /usr/local/lib/python3.11/dist-packages/AutoROM/roms/seaquest.bin\n",
            "Installed /usr/local/lib/python3.11/dist-packages/AutoROM/roms/sir_lancelot.bin\n",
            "Installed /usr/local/lib/python3.11/dist-packages/AutoROM/roms/skiing.bin\n",
            "Installed /usr/local/lib/python3.11/dist-packages/AutoROM/roms/solaris.bin\n",
            "Installed /usr/local/lib/python3.11/dist-packages/AutoROM/roms/space_invaders.bin\n",
            "Installed /usr/local/lib/python3.11/dist-packages/AutoROM/roms/space_war.bin\n",
            "Installed /usr/local/lib/python3.11/dist-packages/AutoROM/roms/star_gunner.bin\n",
            "Installed /usr/local/lib/python3.11/dist-packages/AutoROM/roms/superman.bin\n",
            "Installed /usr/local/lib/python3.11/dist-packages/AutoROM/roms/surround.bin\n",
            "Installed /usr/local/lib/python3.11/dist-packages/AutoROM/roms/tennis.bin\n",
            "Installed /usr/local/lib/python3.11/dist-packages/AutoROM/roms/tetris.bin\n",
            "Installed /usr/local/lib/python3.11/dist-packages/AutoROM/roms/tic_tac_toe_3d.bin\n",
            "Installed /usr/local/lib/python3.11/dist-packages/AutoROM/roms/time_pilot.bin\n",
            "Installed /usr/local/lib/python3.11/dist-packages/AutoROM/roms/trondead.bin\n",
            "Installed /usr/local/lib/python3.11/dist-packages/AutoROM/roms/turmoil.bin\n",
            "Installed /usr/local/lib/python3.11/dist-packages/AutoROM/roms/tutankham.bin\n",
            "Installed /usr/local/lib/python3.11/dist-packages/AutoROM/roms/up_n_down.bin\n",
            "Installed /usr/local/lib/python3.11/dist-packages/AutoROM/roms/venture.bin\n",
            "Installed /usr/local/lib/python3.11/dist-packages/AutoROM/roms/video_checkers.bin\n",
            "Installed /usr/local/lib/python3.11/dist-packages/AutoROM/roms/video_chess.bin\n",
            "Installed /usr/local/lib/python3.11/dist-packages/AutoROM/roms/video_cube.bin\n",
            "Installed /usr/local/lib/python3.11/dist-packages/AutoROM/roms/video_pinball.bin\n",
            "Installed /usr/local/lib/python3.11/dist-packages/AutoROM/roms/warlords.bin\n",
            "Installed /usr/local/lib/python3.11/dist-packages/AutoROM/roms/wizard_of_wor.bin\n",
            "Installed /usr/local/lib/python3.11/dist-packages/AutoROM/roms/word_zapper.bin\n",
            "Installed /usr/local/lib/python3.11/dist-packages/AutoROM/roms/yars_revenge.bin\n",
            "Installed /usr/local/lib/python3.11/dist-packages/AutoROM/roms/zaxxon.bin\n",
            "Done!\n"
          ]
        }
      ]
    },
    {
      "cell_type": "code",
      "source": [
        "import ale_py\n",
        "import gymnasium as gym\n",
        "\n",
        "env = gym.make(\"ALE/Pong-v5\", render_mode=\"rgb_array\")\n",
        "obs, _ = env.reset()\n",
        "print(obs.shape)\n",
        "env.close()"
      ],
      "metadata": {
        "colab": {
          "base_uri": "https://localhost:8080/"
        },
        "id": "A0ujVs72p__P",
        "outputId": "fb668335-a1a2-42bd-ac1c-fba83157fb1f"
      },
      "execution_count": 4,
      "outputs": [
        {
          "output_type": "stream",
          "name": "stdout",
          "text": [
            "(210, 160, 3)\n"
          ]
        }
      ]
    },
    {
      "cell_type": "code",
      "source": [
        "from dataclasses import dataclass\n",
        "import argparse\n",
        "import time\n",
        "import numpy as np\n",
        "import collections\n",
        "import typing as tt\n",
        "\n",
        "import torch\n",
        "import torch.nn as nn\n",
        "import torch.optim as optim\n",
        "\n",
        "from torch.utils.tensorboard.writer import SummaryWriter"
      ],
      "metadata": {
        "id": "l5kSxzZsqGXB"
      },
      "execution_count": 5,
      "outputs": []
    },
    {
      "cell_type": "code",
      "source": [
        "#dqn_model\n",
        "class DQN(nn.Module):\n",
        "    def __init__(self, input_shape, n_actions):\n",
        "        super(DQN, self).__init__()\n",
        "\n",
        "        self.conv = nn.Sequential(\n",
        "            nn.Conv2d(input_shape[0], 32, kernel_size=8, stride=4),\n",
        "            nn.ReLU(),\n",
        "            nn.Conv2d(32, 64, kernel_size=4, stride=2),\n",
        "            nn.ReLU(),\n",
        "            nn.Conv2d(64, 64, kernel_size=3, stride=1),\n",
        "            nn.ReLU(),\n",
        "            nn.Flatten(),\n",
        "        )\n",
        "        size = self.conv(torch.zeros(1, *input_shape)).size()[-1]\n",
        "        self.fc = nn.Sequential(\n",
        "            nn.Linear(size, 512),\n",
        "            nn.ReLU(),\n",
        "            nn.Linear(512, n_actions)\n",
        "        )\n",
        "    def forward(self, x: torch.ByteTensor):\n",
        "        x = x.float() / 255.0\n",
        "        return self.fc(self.conv(x))"
      ],
      "metadata": {
        "id": "oz8JjBdiqcoS"
      },
      "execution_count": 6,
      "outputs": []
    },
    {
      "cell_type": "code",
      "source": [
        "#wrappers\n",
        "\n",
        "from gymnasium import spaces\n",
        "from stable_baselines3.common import atari_wrappers\n",
        "from stable_baselines3.common.atari_wrappers import AtariWrapper\n",
        "\n",
        "\n",
        "class ImageToPyTorch(gym.ObservationWrapper):\n",
        "    \"\"\"\n",
        "    ImageToPyTorch: Reorders image dimensions from (H, W, C) to (C, H, W)\n",
        "    for compatibility with PyTorch convolutional layers.\n",
        "    \"\"\"\n",
        "    def __init__(self, env):\n",
        "        super(ImageToPyTorch, self).__init__(env)\n",
        "        obs = self.observation_space\n",
        "        assert isinstance(obs, gym.spaces.Box)\n",
        "        assert len(obs.shape) == 3\n",
        "        new_shape = (obs.shape[-1], obs.shape[0], obs.shape[1])\n",
        "        self.observation_space = gym.spaces.Box(\n",
        "            low=obs.low.min(), high=obs.high.max(),\n",
        "            shape=new_shape, dtype=obs.dtype)\n",
        "\n",
        "    def observation(self, observation):\n",
        "        return np.moveaxis(observation, 2, 0)\n",
        "\n",
        "\n",
        "class BufferWrapper(gym.ObservationWrapper):\n",
        "    \"\"\"\n",
        "    BufferWrapper: Maintains a rolling window of the last `n_steps` frames\n",
        "    to give the agent a sense of temporal context.\n",
        "    \"\"\"\n",
        "    def __init__(self, env, n_steps):\n",
        "        super(BufferWrapper, self).__init__(env)\n",
        "        obs = env.observation_space\n",
        "        assert isinstance(obs, spaces.Box)\n",
        "        new_obs = gym.spaces.Box(\n",
        "            obs.low.repeat(n_steps, axis=0), obs.high.repeat(n_steps, axis=0),\n",
        "            dtype=obs.dtype)\n",
        "        self.observation_space = new_obs\n",
        "        self.buffer = collections.deque(maxlen=n_steps)\n",
        "\n",
        "    def reset(self, *, seed: tt.Optional[int] = None, options: tt.Optional[dict[str, tt.Any]] = None):\n",
        "        for _ in range(self.buffer.maxlen):\n",
        "            self.buffer.append(np.zeros_like(self.env.observation_space.low))\n",
        "        obs, extra = self.env.reset()\n",
        "        return self.observation(obs), extra\n",
        "\n",
        "    def observation(self, observation: np.ndarray) -> np.ndarray:\n",
        "        self.buffer.append(observation)\n",
        "        return np.concatenate(self.buffer)\n",
        "\n",
        "\n",
        "def make_eval_env(env_name, n_steps=4, render_mode=\"rgb_array\"):\n",
        "    env = gym.make(env_name, render_mode=render_mode)\n",
        "    env = AtariWrapper(env, clip_reward=False, noop_max=0)\n",
        "    env = ImageToPyTorch(env)\n",
        "    env = BufferWrapper(env, n_steps)\n",
        "    return env\n",
        ""
      ],
      "metadata": {
        "id": "wxETPeosqsiQ"
      },
      "execution_count": 7,
      "outputs": []
    },
    {
      "cell_type": "code",
      "source": [
        "from pathlib import Path\n",
        "from gym.wrappers import RecordVideo\n",
        "\n",
        "def make_eval_env_with_recording(env_name, model_name, video_dir=\"video\", n_steps=4, render_mode=\"rgb_array\"):\n",
        "    # Clean prefix from filename\n",
        "    model_base = Path(model_name).stem  # removes .dat\n",
        "    env = make_env(env_name, n_steps=n_steps, render_mode=render_mode)\n",
        "    env = RecordVideo(\n",
        "        env,\n",
        "        video_folder=video_dir,\n",
        "        name_prefix=model_base,\n",
        "        episode_trigger=lambda ep: True  # record the first episode\n",
        "    )\n",
        "    return env\n"
      ],
      "metadata": {
        "id": "dj-ZpiFK4QJO"
      },
      "execution_count": 58,
      "outputs": []
    },
    {
      "cell_type": "markdown",
      "source": [
        "# Run Model"
      ],
      "metadata": {
        "id": "BTpMdmFG3TVd"
      }
    },
    {
      "cell_type": "code",
      "source": [
        "# Base Configuration\n",
        "DEFAULT_ENV_NAME = \"ALE/Pong-v5\""
      ],
      "metadata": {
        "id": "XwC0KaEKt9yO"
      },
      "execution_count": 70,
      "outputs": []
    },
    {
      "cell_type": "code",
      "source": [
        "## Load the Model\n",
        "env_name = DEFAULT_ENV_NAME\n",
        "device = torch.device(\"cuda\" if torch.cuda.is_available() else \"cpu\")\n",
        "# env = make_env(env_name, render_mode=\"rgb_array\")\n",
        "env = make_eval_env_with_recording(env_name, model_name)\n",
        "obs, _ = env.reset()\n",
        "net = DQN(env.observation_space.shape, env.action_space.n)\n",
        "net.load_state_dict(torch.load(model_name, map_location=\"cpu\"))\n",
        "\n"
      ],
      "metadata": {
        "colab": {
          "base_uri": "https://localhost:8080/"
        },
        "id": "WMsXe6D7q9bK",
        "outputId": "3be46b85-6f16-4a1f-d8de-4f15ee341d6d"
      },
      "execution_count": 71,
      "outputs": [
        {
          "output_type": "stream",
          "name": "stdout",
          "text": [
            "Creating environment ALE/Pong-v5\n"
          ]
        },
        {
          "output_type": "execute_result",
          "data": {
            "text/plain": [
              "<All keys matched successfully>"
            ]
          },
          "metadata": {},
          "execution_count": 71
        }
      ]
    },
    {
      "cell_type": "code",
      "execution_count": 72,
      "metadata": {
        "id": "dc1eM_AZrGay",
        "colab": {
          "base_uri": "https://localhost:8080/"
        },
        "outputId": "6c00aa2d-046f-4406-cfc0-cbab81bf1e3c"
      },
      "outputs": [
        {
          "output_type": "stream",
          "name": "stdout",
          "text": [
            "✅ Episode finished. Total reward: -21.00\n"
          ]
        }
      ],
      "source": [
        "from gymnasium.wrappers import RecordVideo\n",
        "from IPython.display import HTML\n",
        "import base64\n",
        "from pathlib import Path\n",
        "\n",
        "# Create renderable environment and wrap for video recording\n",
        "video_dir = \"video\"\n",
        "env = RecordVideo(env, video_folder=video_dir, name_prefix=\"dqn_pong_eval\", episode_trigger=lambda x: True)\n",
        "\n",
        "obs, _ = env.reset()\n",
        "total_reward = 0.0\n",
        "\n",
        "while True:\n",
        "    with torch.no_grad():\n",
        "        state_v = torch.as_tensor(obs).unsqueeze(0).to(device)\n",
        "        q_vals = net(state_v)\n",
        "        action = int(torch.argmax(q_vals, dim=1).item())\n",
        "\n",
        "    obs, reward, terminated, truncated, _ = env.step(action)\n",
        "    total_reward += reward\n",
        "    if terminated or truncated:\n",
        "        break\n",
        "\n",
        "env.close()\n",
        "print(f\"✅ Episode finished. Total reward: {total_reward:.2f}\")"
      ]
    },
    {
      "cell_type": "code",
      "source": [
        "from IPython.display import HTML\n",
        "from pathlib import Path\n",
        "import base64\n",
        "\n",
        "def show_video_by_episode(episode_number: int, model_name: str, video_dir=\"video\"):\n",
        "    \"\"\"\n",
        "    Displays a specific episode's video recorded using RecordVideo, using the model filename as the prefix.\n",
        "\n",
        "    Parameters:\n",
        "    - episode_number: The episode number (0, 1, ...)\n",
        "    - model_name: The full .dat model filename used as name_prefix in RecordVideo\n",
        "    - video_dir: Folder where video files are stored\n",
        "    \"\"\"\n",
        "    prefix = Path(model_name).stem  # Remove .dat extension\n",
        "    filename = f\"{prefix}-episode-{episode_number}.mp4\"\n",
        "    video_path = Path(video_dir) / filename\n",
        "\n",
        "    if not video_path.exists():\n",
        "        print(f\"❌ Video not found: {video_path}\")\n",
        "        return\n",
        "\n",
        "    print(f\"🎥 Showing episode {episode_number}: {video_path.name}\")\n",
        "\n",
        "    with open(video_path, \"rb\") as f:\n",
        "        video_data = f.read()\n",
        "    encoded = base64.b64encode(video_data).decode(\"ascii\")\n",
        "\n",
        "    video_html = f\"\"\"\n",
        "    <video width=\"640\" height=\"480\" controls style=\"max-width: 100%;\" controlslist=\"nodownload\" allowfullscreen>\n",
        "        <source src=\"data:video/mp4;base64,{encoded}\" type=\"video/mp4\">\n",
        "        Your browser does not support the video tag.\n",
        "    </video>\n",
        "    <p>💡 Right-click and choose <strong>“Open video in new tab”</strong> to use fullscreen mode.</p>\n",
        "    \"\"\"\n",
        "\n",
        "    return HTML(video_html)"
      ],
      "metadata": {
        "id": "Umzj4vv76A2H"
      },
      "execution_count": 73,
      "outputs": []
    },
    {
      "cell_type": "code",
      "source": [
        "show_video_by_episode(1, model_name)"
      ],
      "metadata": {
        "colab": {
          "base_uri": "https://localhost:8080/",
          "height": 548
        },
        "id": "0KQe8Hnq6Fw3",
        "outputId": "5880f3ff-08b2-4505-857f-f826a9095511"
      },
      "execution_count": 74,
      "outputs": [
        {
          "output_type": "stream",
          "name": "stdout",
          "text": [
            "🎥 Showing episode 1: ALE_Pong-v5-best_-20-test_epsdec150000_rs10000_sync1000-episode-1.mp4\n"
          ]
        },
        {
          "output_type": "execute_result",
          "data": {
            "text/plain": [
              "<IPython.core.display.HTML object>"
            ],
            "text/html": [
              "\n",
              "    <video width=\"640\" height=\"480\" controls style=\"max-width: 100%;\" controlslist=\"nodownload\" allowfullscreen>\n",
              "        <source src=\"data:video/mp4;base64,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\" type=\"video/mp4\">\n",
              "        Your browser does not support the video tag.\n",
              "    </video>\n",
              "    <p>💡 Right-click and choose <strong>“Open video in new tab”</strong> to use fullscreen mode.</p>\n",
              "    "
            ]
          },
          "metadata": {},
          "execution_count": 74
        }
      ]
    }
  ]
}