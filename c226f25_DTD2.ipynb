{
  "nbformat": 4,
  "nbformat_minor": 0,
  "metadata": {
    "colab": {
      "provenance": [],
      "authorship_tag": "ABX9TyOQpN+Z5Q3wvCL9XCvMj9hr",
      "include_colab_link": true
    },
    "kernelspec": {
      "name": "python3",
      "display_name": "Python 3"
    },
    "language_info": {
      "name": "python"
    }
  },
  "cells": [
    {
      "cell_type": "markdown",
      "metadata": {
        "id": "view-in-github",
        "colab_type": "text"
      },
      "source": [
        "<a href=\"https://colab.research.google.com/github/everestso/summer25/blob/main/c226f25_DTD2.ipynb\" target=\"_parent\"><img src=\"https://colab.research.google.com/assets/colab-badge.svg\" alt=\"Open In Colab\"/></a>"
      ]
    },
    {
      "cell_type": "markdown",
      "source": [
        "# Get our files"
      ],
      "metadata": {
        "id": "pJM1wc16Ll1j"
      }
    },
    {
      "cell_type": "code",
      "source": [
        "# https://drive.google.com/file/d/19J5ontNwDgXe6T7HjEGx47xXQ1umhhhR/view?usp=drive_link\n",
        "\n",
        "# https://drive.google.com/file/d/1NeMCt7DxV7In6Cx4OEadS89y1gYLQweR/view?usp=drive_link\n",
        "\n",
        "# https://drive.google.com/file/d/18tpQhW2u9ZW-GIr-bNR2Eg-xWFuSOZMF/view?usp=drive_link\n",
        "\n",
        "# XML (valid)\n",
        "!gdown 19J5ontNwDgXe6T7HjEGx47xXQ1umhhhR -O example.xml\n",
        "\n",
        "# DTD\n",
        "!gdown 1NeMCt7DxV7In6Cx4OEadS89y1gYLQweR -O book.dtd\n",
        "\n",
        "# XML (broken)\n",
        "!gdown 18tpQhW2u9ZW-GIr-bNR2Eg-xWFuSOZMF -O broken_example.xml"
      ],
      "metadata": {
        "colab": {
          "base_uri": "https://localhost:8080/"
        },
        "id": "JHaxV_Y_5Mk0",
        "outputId": "c3ecea74-eb23-48cb-ece7-07450b71488e"
      },
      "execution_count": 1,
      "outputs": [
        {
          "output_type": "stream",
          "name": "stdout",
          "text": [
            "Downloading...\n",
            "From (original): https://drive.google.com/uc?id=19J5ontNwDgXe6T7HjEGx47xXQ1umhhhR\n",
            "From (redirected): https://drive.google.com/uc?id=19J5ontNwDgXe6T7HjEGx47xXQ1umhhhR&confirm=t&uuid=094f5616-b338-417a-8b82-f535a0489cc2\n",
            "To: /content/example.xml\n",
            "100% 272/272 [00:00<00:00, 916kB/s]\n",
            "Downloading...\n",
            "From: https://drive.google.com/uc?id=1NeMCt7DxV7In6Cx4OEadS89y1gYLQweR\n",
            "To: /content/book.dtd\n",
            "100% 124/124 [00:00<00:00, 422kB/s]\n",
            "Downloading...\n",
            "From (original): https://drive.google.com/uc?id=18tpQhW2u9ZW-GIr-bNR2Eg-xWFuSOZMF\n",
            "From (redirected): https://drive.google.com/uc?id=18tpQhW2u9ZW-GIr-bNR2Eg-xWFuSOZMF&confirm=t&uuid=ddec17bf-4653-4874-a784-ecd4fc1393c4\n",
            "To: /content/broken_example.xml\n",
            "100% 237/237 [00:00<00:00, 854kB/s]\n"
          ]
        }
      ]
    },
    {
      "cell_type": "markdown",
      "source": [
        "# Install Helpers"
      ],
      "metadata": {
        "id": "1f5vh-pBLq1z"
      }
    },
    {
      "cell_type": "code",
      "source": [
        "!pip -q install lxml pygments"
      ],
      "metadata": {
        "id": "wWZ4KqZy4MRl"
      },
      "execution_count": 2,
      "outputs": []
    },
    {
      "cell_type": "code",
      "execution_count": 3,
      "metadata": {
        "colab": {
          "base_uri": "https://localhost:8080/"
        },
        "id": "Mg3rdgDk29GZ",
        "outputId": "0dcf90c9-7911-431c-93ba-e1c6085b8c9d"
      },
      "outputs": [
        {
          "output_type": "stream",
          "name": "stdout",
          "text": [
            "XML is valid ✅\n"
          ]
        }
      ],
      "source": [
        "from lxml import etree\n",
        "\n",
        "# Load DTD\n",
        "with open(\"book.dtd\", \"rb\") as f:\n",
        "    dtd = etree.DTD(f)\n",
        "\n",
        "# Parse XML\n",
        "tree = etree.parse(\"example.xml\")\n",
        "\n",
        "# Validate\n",
        "if dtd.validate(tree):\n",
        "    print(\"XML is valid ✅\")\n",
        "else:\n",
        "    print(\"XML is NOT valid ❌\")\n",
        "    print(dtd.error_log.filter_from_errors())"
      ]
    },
    {
      "cell_type": "code",
      "source": [
        "from lxml import etree\n",
        "\n",
        "with open(\"book.dtd\", \"rb\") as f:\n",
        "    dtd = etree.DTD(f)\n",
        "\n",
        "tree = etree.parse(\"broken_example.xml\")\n",
        "\n",
        "if dtd.validate(tree):\n",
        "    print(\"XML is valid ✅\")\n",
        "else:\n",
        "    print(\"XML is NOT valid ❌\")\n",
        "    print(dtd.error_log.filter_from_errors())\n"
      ],
      "metadata": {
        "colab": {
          "base_uri": "https://localhost:8080/"
        },
        "id": "CkCHxauw6QV-",
        "outputId": "f0aa8265-8ccc-41c6-94f6-d061341a41fd"
      },
      "execution_count": 4,
      "outputs": [
        {
          "output_type": "stream",
          "name": "stdout",
          "text": [
            "XML is NOT valid ❌\n",
            "broken_example.xml:3:0:ERROR:VALID:DTD_CONTENT_MODEL: Element book content does not follow the DTD, expecting (title , author+ , year), got (title year )\n"
          ]
        }
      ]
    },
    {
      "cell_type": "markdown",
      "source": [
        "# Let's look at files"
      ],
      "metadata": {
        "id": "dun_oHIrL8BM"
      }
    },
    {
      "cell_type": "code",
      "source": [
        "from lxml import etree\n",
        "from IPython.display import HTML, display\n",
        "from pygments import highlight\n",
        "from pygments.lexers import XmlLexer, DtdLexer\n",
        "from pygments.formatters import HtmlFormatter\n",
        "\n",
        "def pretty_xml_text(path: str) -> str:\n",
        "    \"\"\"Load XML and return an indented, unicode string.\"\"\"\n",
        "    parser = etree.XMLParser(remove_blank_text=True)\n",
        "    tree = etree.parse(path, parser)\n",
        "    return etree.tostring(tree, pretty_print=True, encoding=\"unicode\")\n",
        "\n",
        "def show_code(text: str, lexer, title: str = None, max_height: str = \"480px\"):\n",
        "    \"\"\"Render syntax-highlighted code with line numbers in a scrollable box.\"\"\"\n",
        "    formatter = HtmlFormatter(linenos=\"table\", style=\"friendly\")\n",
        "    css = formatter.get_style_defs('.highlight')\n",
        "    html = [f\"<style>{css}.codebox{{border:1px solid #e5e7eb;border-radius:10px;overflow:auto;max-height:{max_height}}}.title{{font-weight:600;margin:4px 0 8px}}</style>\"]\n",
        "    if title:\n",
        "        html.append(f'<div class=\"title\">{title}</div>')\n",
        "    html.append(f'<div class=\"codebox\">{highlight(text, lexer, formatter)}</div>')\n",
        "    display(HTML(\"\".join(html)))\n",
        "\n",
        "# Show the pretty XML and the DTD (side by side calls)\n",
        "show_code(pretty_xml_text(\"example.xml\"), XmlLexer(), \"example.xml (pretty-printed)\")\n",
        "show_code(open(\"book.dtd\", encoding=\"utf-8\").read(), DtdLexer(), \"book.dtd\")\n"
      ],
      "metadata": {
        "colab": {
          "base_uri": "https://localhost:8080/",
          "height": 301
        },
        "id": "MN_1HV2AL_KE",
        "outputId": "23bd71e5-7d90-4a19-cb0b-09a0b6dfe837"
      },
      "execution_count": 5,
      "outputs": [
        {
          "output_type": "display_data",
          "data": {
            "text/plain": [
              "<IPython.core.display.HTML object>"
            ],
            "text/html": [
              "<style>pre { line-height: 125%; }\n",
              "td.linenos .normal { color: #666666; background-color: transparent; padding-left: 5px; padding-right: 5px; }\n",
              "span.linenos { color: #666666; background-color: transparent; padding-left: 5px; padding-right: 5px; }\n",
              "td.linenos .special { color: #000000; background-color: #ffffc0; padding-left: 5px; padding-right: 5px; }\n",
              "span.linenos.special { color: #000000; background-color: #ffffc0; padding-left: 5px; padding-right: 5px; }\n",
              ".highlight .hll { background-color: #ffffcc }\n",
              ".highlight { background: #f0f0f0; }\n",
              ".highlight .c { color: #60A0B0; font-style: italic } /* Comment */\n",
              ".highlight .err { border: 1px solid #F00 } /* Error */\n",
              ".highlight .k { color: #007020; font-weight: bold } /* Keyword */\n",
              ".highlight .o { color: #666 } /* Operator */\n",
              ".highlight .ch { color: #60A0B0; font-style: italic } /* Comment.Hashbang */\n",
              ".highlight .cm { color: #60A0B0; font-style: italic } /* Comment.Multiline */\n",
              ".highlight .cp { color: #007020 } /* Comment.Preproc */\n",
              ".highlight .cpf { color: #60A0B0; font-style: italic } /* Comment.PreprocFile */\n",
              ".highlight .c1 { color: #60A0B0; font-style: italic } /* Comment.Single */\n",
              ".highlight .cs { color: #60A0B0; background-color: #FFF0F0 } /* Comment.Special */\n",
              ".highlight .gd { color: #A00000 } /* Generic.Deleted */\n",
              ".highlight .ge { font-style: italic } /* Generic.Emph */\n",
              ".highlight .ges { font-weight: bold; font-style: italic } /* Generic.EmphStrong */\n",
              ".highlight .gr { color: #F00 } /* Generic.Error */\n",
              ".highlight .gh { color: #000080; font-weight: bold } /* Generic.Heading */\n",
              ".highlight .gi { color: #00A000 } /* Generic.Inserted */\n",
              ".highlight .go { color: #888 } /* Generic.Output */\n",
              ".highlight .gp { color: #C65D09; font-weight: bold } /* Generic.Prompt */\n",
              ".highlight .gs { font-weight: bold } /* Generic.Strong */\n",
              ".highlight .gu { color: #800080; font-weight: bold } /* Generic.Subheading */\n",
              ".highlight .gt { color: #04D } /* Generic.Traceback */\n",
              ".highlight .kc { color: #007020; font-weight: bold } /* Keyword.Constant */\n",
              ".highlight .kd { color: #007020; font-weight: bold } /* Keyword.Declaration */\n",
              ".highlight .kn { color: #007020; font-weight: bold } /* Keyword.Namespace */\n",
              ".highlight .kp { color: #007020 } /* Keyword.Pseudo */\n",
              ".highlight .kr { color: #007020; font-weight: bold } /* Keyword.Reserved */\n",
              ".highlight .kt { color: #902000 } /* Keyword.Type */\n",
              ".highlight .m { color: #40A070 } /* Literal.Number */\n",
              ".highlight .s { color: #4070A0 } /* Literal.String */\n",
              ".highlight .na { color: #4070A0 } /* Name.Attribute */\n",
              ".highlight .nb { color: #007020 } /* Name.Builtin */\n",
              ".highlight .nc { color: #0E84B5; font-weight: bold } /* Name.Class */\n",
              ".highlight .no { color: #60ADD5 } /* Name.Constant */\n",
              ".highlight .nd { color: #555; font-weight: bold } /* Name.Decorator */\n",
              ".highlight .ni { color: #D55537; font-weight: bold } /* Name.Entity */\n",
              ".highlight .ne { color: #007020 } /* Name.Exception */\n",
              ".highlight .nf { color: #06287E } /* Name.Function */\n",
              ".highlight .nl { color: #002070; font-weight: bold } /* Name.Label */\n",
              ".highlight .nn { color: #0E84B5; font-weight: bold } /* Name.Namespace */\n",
              ".highlight .nt { color: #062873; font-weight: bold } /* Name.Tag */\n",
              ".highlight .nv { color: #BB60D5 } /* Name.Variable */\n",
              ".highlight .ow { color: #007020; font-weight: bold } /* Operator.Word */\n",
              ".highlight .w { color: #BBB } /* Text.Whitespace */\n",
              ".highlight .mb { color: #40A070 } /* Literal.Number.Bin */\n",
              ".highlight .mf { color: #40A070 } /* Literal.Number.Float */\n",
              ".highlight .mh { color: #40A070 } /* Literal.Number.Hex */\n",
              ".highlight .mi { color: #40A070 } /* Literal.Number.Integer */\n",
              ".highlight .mo { color: #40A070 } /* Literal.Number.Oct */\n",
              ".highlight .sa { color: #4070A0 } /* Literal.String.Affix */\n",
              ".highlight .sb { color: #4070A0 } /* Literal.String.Backtick */\n",
              ".highlight .sc { color: #4070A0 } /* Literal.String.Char */\n",
              ".highlight .dl { color: #4070A0 } /* Literal.String.Delimiter */\n",
              ".highlight .sd { color: #4070A0; font-style: italic } /* Literal.String.Doc */\n",
              ".highlight .s2 { color: #4070A0 } /* Literal.String.Double */\n",
              ".highlight .se { color: #4070A0; font-weight: bold } /* Literal.String.Escape */\n",
              ".highlight .sh { color: #4070A0 } /* Literal.String.Heredoc */\n",
              ".highlight .si { color: #70A0D0; font-style: italic } /* Literal.String.Interpol */\n",
              ".highlight .sx { color: #C65D09 } /* Literal.String.Other */\n",
              ".highlight .sr { color: #235388 } /* Literal.String.Regex */\n",
              ".highlight .s1 { color: #4070A0 } /* Literal.String.Single */\n",
              ".highlight .ss { color: #517918 } /* Literal.String.Symbol */\n",
              ".highlight .bp { color: #007020 } /* Name.Builtin.Pseudo */\n",
              ".highlight .fm { color: #06287E } /* Name.Function.Magic */\n",
              ".highlight .vc { color: #BB60D5 } /* Name.Variable.Class */\n",
              ".highlight .vg { color: #BB60D5 } /* Name.Variable.Global */\n",
              ".highlight .vi { color: #BB60D5 } /* Name.Variable.Instance */\n",
              ".highlight .vm { color: #BB60D5 } /* Name.Variable.Magic */\n",
              ".highlight .il { color: #40A070 } /* Literal.Number.Integer.Long */.codebox{border:1px solid #e5e7eb;border-radius:10px;overflow:auto;max-height:480px}.title{font-weight:600;margin:4px 0 8px}</style><div class=\"title\">example.xml (pretty-printed)</div><div class=\"codebox\"><div class=\"highlight\"><table class=\"highlighttable\"><tr><td class=\"linenos\"><div class=\"linenodiv\"><pre><span class=\"normal\">1</span>\n",
              "<span class=\"normal\">2</span>\n",
              "<span class=\"normal\">3</span>\n",
              "<span class=\"normal\">4</span>\n",
              "<span class=\"normal\">5</span>\n",
              "<span class=\"normal\">6</span>\n",
              "<span class=\"normal\">7</span>\n",
              "<span class=\"normal\">8</span></pre></div></td><td class=\"code\"><div><pre><span></span><span class=\"cp\">&lt;!DOCTYPE book SYSTEM &quot;book.dtd&quot;&gt;</span>\n",
              "<span class=\"nt\">&lt;book&gt;</span>\n",
              "<span class=\"w\">  </span><span class=\"nt\">&lt;title&gt;</span>Database<span class=\"w\"> </span>Systems<span class=\"nt\">&lt;/title&gt;</span>\n",
              "<span class=\"w\">  </span><span class=\"nt\">&lt;author&gt;</span>Hector<span class=\"w\"> </span>Garcia-Molina<span class=\"nt\">&lt;/author&gt;</span>\n",
              "<span class=\"w\">  </span><span class=\"nt\">&lt;author&gt;</span>Jeffrey<span class=\"w\"> </span>D.<span class=\"w\"> </span>Ullman<span class=\"nt\">&lt;/author&gt;</span>\n",
              "<span class=\"w\">  </span><span class=\"nt\">&lt;author&gt;</span>Jennifer<span class=\"w\"> </span>Widom<span class=\"nt\">&lt;/author&gt;</span>\n",
              "<span class=\"w\">  </span><span class=\"nt\">&lt;year&gt;</span>2009<span class=\"nt\">&lt;/year&gt;</span>\n",
              "<span class=\"nt\">&lt;/book&gt;</span>\n",
              "</pre></div></td></tr></table></div>\n",
              "</div>"
            ]
          },
          "metadata": {}
        },
        {
          "output_type": "display_data",
          "data": {
            "text/plain": [
              "<IPython.core.display.HTML object>"
            ],
            "text/html": [
              "<style>pre { line-height: 125%; }\n",
              "td.linenos .normal { color: #666666; background-color: transparent; padding-left: 5px; padding-right: 5px; }\n",
              "span.linenos { color: #666666; background-color: transparent; padding-left: 5px; padding-right: 5px; }\n",
              "td.linenos .special { color: #000000; background-color: #ffffc0; padding-left: 5px; padding-right: 5px; }\n",
              "span.linenos.special { color: #000000; background-color: #ffffc0; padding-left: 5px; padding-right: 5px; }\n",
              ".highlight .hll { background-color: #ffffcc }\n",
              ".highlight { background: #f0f0f0; }\n",
              ".highlight .c { color: #60A0B0; font-style: italic } /* Comment */\n",
              ".highlight .err { border: 1px solid #F00 } /* Error */\n",
              ".highlight .k { color: #007020; font-weight: bold } /* Keyword */\n",
              ".highlight .o { color: #666 } /* Operator */\n",
              ".highlight .ch { color: #60A0B0; font-style: italic } /* Comment.Hashbang */\n",
              ".highlight .cm { color: #60A0B0; font-style: italic } /* Comment.Multiline */\n",
              ".highlight .cp { color: #007020 } /* Comment.Preproc */\n",
              ".highlight .cpf { color: #60A0B0; font-style: italic } /* Comment.PreprocFile */\n",
              ".highlight .c1 { color: #60A0B0; font-style: italic } /* Comment.Single */\n",
              ".highlight .cs { color: #60A0B0; background-color: #FFF0F0 } /* Comment.Special */\n",
              ".highlight .gd { color: #A00000 } /* Generic.Deleted */\n",
              ".highlight .ge { font-style: italic } /* Generic.Emph */\n",
              ".highlight .ges { font-weight: bold; font-style: italic } /* Generic.EmphStrong */\n",
              ".highlight .gr { color: #F00 } /* Generic.Error */\n",
              ".highlight .gh { color: #000080; font-weight: bold } /* Generic.Heading */\n",
              ".highlight .gi { color: #00A000 } /* Generic.Inserted */\n",
              ".highlight .go { color: #888 } /* Generic.Output */\n",
              ".highlight .gp { color: #C65D09; font-weight: bold } /* Generic.Prompt */\n",
              ".highlight .gs { font-weight: bold } /* Generic.Strong */\n",
              ".highlight .gu { color: #800080; font-weight: bold } /* Generic.Subheading */\n",
              ".highlight .gt { color: #04D } /* Generic.Traceback */\n",
              ".highlight .kc { color: #007020; font-weight: bold } /* Keyword.Constant */\n",
              ".highlight .kd { color: #007020; font-weight: bold } /* Keyword.Declaration */\n",
              ".highlight .kn { color: #007020; font-weight: bold } /* Keyword.Namespace */\n",
              ".highlight .kp { color: #007020 } /* Keyword.Pseudo */\n",
              ".highlight .kr { color: #007020; font-weight: bold } /* Keyword.Reserved */\n",
              ".highlight .kt { color: #902000 } /* Keyword.Type */\n",
              ".highlight .m { color: #40A070 } /* Literal.Number */\n",
              ".highlight .s { color: #4070A0 } /* Literal.String */\n",
              ".highlight .na { color: #4070A0 } /* Name.Attribute */\n",
              ".highlight .nb { color: #007020 } /* Name.Builtin */\n",
              ".highlight .nc { color: #0E84B5; font-weight: bold } /* Name.Class */\n",
              ".highlight .no { color: #60ADD5 } /* Name.Constant */\n",
              ".highlight .nd { color: #555; font-weight: bold } /* Name.Decorator */\n",
              ".highlight .ni { color: #D55537; font-weight: bold } /* Name.Entity */\n",
              ".highlight .ne { color: #007020 } /* Name.Exception */\n",
              ".highlight .nf { color: #06287E } /* Name.Function */\n",
              ".highlight .nl { color: #002070; font-weight: bold } /* Name.Label */\n",
              ".highlight .nn { color: #0E84B5; font-weight: bold } /* Name.Namespace */\n",
              ".highlight .nt { color: #062873; font-weight: bold } /* Name.Tag */\n",
              ".highlight .nv { color: #BB60D5 } /* Name.Variable */\n",
              ".highlight .ow { color: #007020; font-weight: bold } /* Operator.Word */\n",
              ".highlight .w { color: #BBB } /* Text.Whitespace */\n",
              ".highlight .mb { color: #40A070 } /* Literal.Number.Bin */\n",
              ".highlight .mf { color: #40A070 } /* Literal.Number.Float */\n",
              ".highlight .mh { color: #40A070 } /* Literal.Number.Hex */\n",
              ".highlight .mi { color: #40A070 } /* Literal.Number.Integer */\n",
              ".highlight .mo { color: #40A070 } /* Literal.Number.Oct */\n",
              ".highlight .sa { color: #4070A0 } /* Literal.String.Affix */\n",
              ".highlight .sb { color: #4070A0 } /* Literal.String.Backtick */\n",
              ".highlight .sc { color: #4070A0 } /* Literal.String.Char */\n",
              ".highlight .dl { color: #4070A0 } /* Literal.String.Delimiter */\n",
              ".highlight .sd { color: #4070A0; font-style: italic } /* Literal.String.Doc */\n",
              ".highlight .s2 { color: #4070A0 } /* Literal.String.Double */\n",
              ".highlight .se { color: #4070A0; font-weight: bold } /* Literal.String.Escape */\n",
              ".highlight .sh { color: #4070A0 } /* Literal.String.Heredoc */\n",
              ".highlight .si { color: #70A0D0; font-style: italic } /* Literal.String.Interpol */\n",
              ".highlight .sx { color: #C65D09 } /* Literal.String.Other */\n",
              ".highlight .sr { color: #235388 } /* Literal.String.Regex */\n",
              ".highlight .s1 { color: #4070A0 } /* Literal.String.Single */\n",
              ".highlight .ss { color: #517918 } /* Literal.String.Symbol */\n",
              ".highlight .bp { color: #007020 } /* Name.Builtin.Pseudo */\n",
              ".highlight .fm { color: #06287E } /* Name.Function.Magic */\n",
              ".highlight .vc { color: #BB60D5 } /* Name.Variable.Class */\n",
              ".highlight .vg { color: #BB60D5 } /* Name.Variable.Global */\n",
              ".highlight .vi { color: #BB60D5 } /* Name.Variable.Instance */\n",
              ".highlight .vm { color: #BB60D5 } /* Name.Variable.Magic */\n",
              ".highlight .il { color: #40A070 } /* Literal.Number.Integer.Long */.codebox{border:1px solid #e5e7eb;border-radius:10px;overflow:auto;max-height:480px}.title{font-weight:600;margin:4px 0 8px}</style><div class=\"title\">book.dtd</div><div class=\"codebox\"><div class=\"highlight\"><table class=\"highlighttable\"><tr><td class=\"linenos\"><div class=\"linenodiv\"><pre><span class=\"normal\">1</span>\n",
              "<span class=\"normal\">2</span>\n",
              "<span class=\"normal\">3</span>\n",
              "<span class=\"normal\">4</span></pre></div></td><td class=\"code\"><div><pre><span></span><span class=\"k\">&lt;!ELEMENT</span> <span class=\"nt\">book</span> <span class=\"o\">(</span><span class=\"nt\">title</span><span class=\"o\">,</span> <span class=\"nt\">author</span><span class=\"o\">+,</span> <span class=\"nt\">year</span><span class=\"o\">)</span><span class=\"k\">&gt;</span>\n",
              "<span class=\"k\">&lt;!ELEMENT</span> <span class=\"nt\">title</span> <span class=\"o\">(</span><span class=\"kc\">#PCDATA</span><span class=\"o\">)</span><span class=\"k\">&gt;</span>\n",
              "<span class=\"k\">&lt;!ELEMENT</span> <span class=\"nt\">author</span> <span class=\"o\">(</span><span class=\"kc\">#PCDATA</span><span class=\"o\">)</span><span class=\"k\">&gt;</span>\n",
              "<span class=\"k\">&lt;!ELEMENT</span> <span class=\"nt\">year</span> <span class=\"o\">(</span><span class=\"kc\">#PCDATA</span><span class=\"o\">)</span><span class=\"k\">&gt;</span>\n",
              "</pre></div></td></tr></table></div>\n",
              "</div>"
            ]
          },
          "metadata": {}
        }
      ]
    },
    {
      "cell_type": "code",
      "source": [
        "show_code(pretty_xml_text(\"broken_example.xml\"), XmlLexer(), \"broken_example.xml (pretty-printed)\")\n"
      ],
      "metadata": {
        "colab": {
          "base_uri": "https://localhost:8080/",
          "height": 159
        },
        "id": "4DJjb_RxMEsU",
        "outputId": "ddcad511-98a5-4f69-ef29-8b64082c07d4"
      },
      "execution_count": 6,
      "outputs": [
        {
          "output_type": "display_data",
          "data": {
            "text/plain": [
              "<IPython.core.display.HTML object>"
            ],
            "text/html": [
              "<style>pre { line-height: 125%; }\n",
              "td.linenos .normal { color: #666666; background-color: transparent; padding-left: 5px; padding-right: 5px; }\n",
              "span.linenos { color: #666666; background-color: transparent; padding-left: 5px; padding-right: 5px; }\n",
              "td.linenos .special { color: #000000; background-color: #ffffc0; padding-left: 5px; padding-right: 5px; }\n",
              "span.linenos.special { color: #000000; background-color: #ffffc0; padding-left: 5px; padding-right: 5px; }\n",
              ".highlight .hll { background-color: #ffffcc }\n",
              ".highlight { background: #f0f0f0; }\n",
              ".highlight .c { color: #60A0B0; font-style: italic } /* Comment */\n",
              ".highlight .err { border: 1px solid #F00 } /* Error */\n",
              ".highlight .k { color: #007020; font-weight: bold } /* Keyword */\n",
              ".highlight .o { color: #666 } /* Operator */\n",
              ".highlight .ch { color: #60A0B0; font-style: italic } /* Comment.Hashbang */\n",
              ".highlight .cm { color: #60A0B0; font-style: italic } /* Comment.Multiline */\n",
              ".highlight .cp { color: #007020 } /* Comment.Preproc */\n",
              ".highlight .cpf { color: #60A0B0; font-style: italic } /* Comment.PreprocFile */\n",
              ".highlight .c1 { color: #60A0B0; font-style: italic } /* Comment.Single */\n",
              ".highlight .cs { color: #60A0B0; background-color: #FFF0F0 } /* Comment.Special */\n",
              ".highlight .gd { color: #A00000 } /* Generic.Deleted */\n",
              ".highlight .ge { font-style: italic } /* Generic.Emph */\n",
              ".highlight .ges { font-weight: bold; font-style: italic } /* Generic.EmphStrong */\n",
              ".highlight .gr { color: #F00 } /* Generic.Error */\n",
              ".highlight .gh { color: #000080; font-weight: bold } /* Generic.Heading */\n",
              ".highlight .gi { color: #00A000 } /* Generic.Inserted */\n",
              ".highlight .go { color: #888 } /* Generic.Output */\n",
              ".highlight .gp { color: #C65D09; font-weight: bold } /* Generic.Prompt */\n",
              ".highlight .gs { font-weight: bold } /* Generic.Strong */\n",
              ".highlight .gu { color: #800080; font-weight: bold } /* Generic.Subheading */\n",
              ".highlight .gt { color: #04D } /* Generic.Traceback */\n",
              ".highlight .kc { color: #007020; font-weight: bold } /* Keyword.Constant */\n",
              ".highlight .kd { color: #007020; font-weight: bold } /* Keyword.Declaration */\n",
              ".highlight .kn { color: #007020; font-weight: bold } /* Keyword.Namespace */\n",
              ".highlight .kp { color: #007020 } /* Keyword.Pseudo */\n",
              ".highlight .kr { color: #007020; font-weight: bold } /* Keyword.Reserved */\n",
              ".highlight .kt { color: #902000 } /* Keyword.Type */\n",
              ".highlight .m { color: #40A070 } /* Literal.Number */\n",
              ".highlight .s { color: #4070A0 } /* Literal.String */\n",
              ".highlight .na { color: #4070A0 } /* Name.Attribute */\n",
              ".highlight .nb { color: #007020 } /* Name.Builtin */\n",
              ".highlight .nc { color: #0E84B5; font-weight: bold } /* Name.Class */\n",
              ".highlight .no { color: #60ADD5 } /* Name.Constant */\n",
              ".highlight .nd { color: #555; font-weight: bold } /* Name.Decorator */\n",
              ".highlight .ni { color: #D55537; font-weight: bold } /* Name.Entity */\n",
              ".highlight .ne { color: #007020 } /* Name.Exception */\n",
              ".highlight .nf { color: #06287E } /* Name.Function */\n",
              ".highlight .nl { color: #002070; font-weight: bold } /* Name.Label */\n",
              ".highlight .nn { color: #0E84B5; font-weight: bold } /* Name.Namespace */\n",
              ".highlight .nt { color: #062873; font-weight: bold } /* Name.Tag */\n",
              ".highlight .nv { color: #BB60D5 } /* Name.Variable */\n",
              ".highlight .ow { color: #007020; font-weight: bold } /* Operator.Word */\n",
              ".highlight .w { color: #BBB } /* Text.Whitespace */\n",
              ".highlight .mb { color: #40A070 } /* Literal.Number.Bin */\n",
              ".highlight .mf { color: #40A070 } /* Literal.Number.Float */\n",
              ".highlight .mh { color: #40A070 } /* Literal.Number.Hex */\n",
              ".highlight .mi { color: #40A070 } /* Literal.Number.Integer */\n",
              ".highlight .mo { color: #40A070 } /* Literal.Number.Oct */\n",
              ".highlight .sa { color: #4070A0 } /* Literal.String.Affix */\n",
              ".highlight .sb { color: #4070A0 } /* Literal.String.Backtick */\n",
              ".highlight .sc { color: #4070A0 } /* Literal.String.Char */\n",
              ".highlight .dl { color: #4070A0 } /* Literal.String.Delimiter */\n",
              ".highlight .sd { color: #4070A0; font-style: italic } /* Literal.String.Doc */\n",
              ".highlight .s2 { color: #4070A0 } /* Literal.String.Double */\n",
              ".highlight .se { color: #4070A0; font-weight: bold } /* Literal.String.Escape */\n",
              ".highlight .sh { color: #4070A0 } /* Literal.String.Heredoc */\n",
              ".highlight .si { color: #70A0D0; font-style: italic } /* Literal.String.Interpol */\n",
              ".highlight .sx { color: #C65D09 } /* Literal.String.Other */\n",
              ".highlight .sr { color: #235388 } /* Literal.String.Regex */\n",
              ".highlight .s1 { color: #4070A0 } /* Literal.String.Single */\n",
              ".highlight .ss { color: #517918 } /* Literal.String.Symbol */\n",
              ".highlight .bp { color: #007020 } /* Name.Builtin.Pseudo */\n",
              ".highlight .fm { color: #06287E } /* Name.Function.Magic */\n",
              ".highlight .vc { color: #BB60D5 } /* Name.Variable.Class */\n",
              ".highlight .vg { color: #BB60D5 } /* Name.Variable.Global */\n",
              ".highlight .vi { color: #BB60D5 } /* Name.Variable.Instance */\n",
              ".highlight .vm { color: #BB60D5 } /* Name.Variable.Magic */\n",
              ".highlight .il { color: #40A070 } /* Literal.Number.Integer.Long */.codebox{border:1px solid #e5e7eb;border-radius:10px;overflow:auto;max-height:480px}.title{font-weight:600;margin:4px 0 8px}</style><div class=\"title\">broken_example.xml (pretty-printed)</div><div class=\"codebox\"><div class=\"highlight\"><table class=\"highlighttable\"><tr><td class=\"linenos\"><div class=\"linenodiv\"><pre><span class=\"normal\">1</span>\n",
              "<span class=\"normal\">2</span>\n",
              "<span class=\"normal\">3</span>\n",
              "<span class=\"normal\">4</span>\n",
              "<span class=\"normal\">5</span>\n",
              "<span class=\"normal\">6</span></pre></div></td><td class=\"code\"><div><pre><span></span><span class=\"cp\">&lt;!DOCTYPE book SYSTEM &quot;book.dtd&quot;&gt;</span>\n",
              "<span class=\"nt\">&lt;book&gt;</span>\n",
              "<span class=\"w\">  </span><span class=\"nt\">&lt;title&gt;</span>Database<span class=\"w\"> </span>Systems<span class=\"nt\">&lt;/title&gt;</span>\n",
              "<span class=\"w\">  </span><span class=\"cm\">&lt;!-- Only one author included, so it will fail because DTD requires author+ --&gt;</span>\n",
              "<span class=\"w\">  </span><span class=\"nt\">&lt;year&gt;</span>2009<span class=\"nt\">&lt;/year&gt;</span>\n",
              "<span class=\"nt\">&lt;/book&gt;</span>\n",
              "</pre></div></td></tr></table></div>\n",
              "</div>"
            ]
          },
          "metadata": {}
        }
      ]
    },
    {
      "cell_type": "markdown",
      "source": [
        "# Display Variant"
      ],
      "metadata": {
        "id": "EjrQLnmMMG1E"
      }
    },
    {
      "cell_type": "code",
      "source": [
        "def show_collapsible(title: str, text: str, lexer, open_default=False):\n",
        "    fmt = HtmlFormatter(linenos=\"table\", style=\"friendly\")\n",
        "    css = fmt.get_style_defs('.highlight')\n",
        "    details_attr = \"open\" if open_default else \"\"\n",
        "    html = f\"\"\"\n",
        "    <style>{css}</style>\n",
        "    <details {details_attr} style=\"margin:6px 0\">\n",
        "      <summary style=\"cursor:pointer;font-weight:600\">{title}</summary>\n",
        "      <div style=\"border:1px solid #e5e7eb;border-radius:10px;overflow:auto;max-height:520px;margin-top:8px\">\n",
        "        {highlight(text, lexer, fmt)}\n",
        "      </div>\n",
        "    </details>\n",
        "    \"\"\"\n",
        "    display(HTML(html))\n",
        "\n",
        "show_collapsible(\"example.xml (pretty-printed)\", pretty_xml_text(\"example.xml\"), XmlLexer(), open_default=True)\n",
        "show_collapsible(\"book.dtd\", open(\"book.dtd\", encoding=\"utf-8\").read(), DtdLexer())\n"
      ],
      "metadata": {
        "colab": {
          "base_uri": "https://localhost:8080/",
          "height": 70
        },
        "id": "-6xl52Q8MMLS",
        "outputId": "6992009e-83e9-4bfd-e27e-6050fb09f573"
      },
      "execution_count": 7,
      "outputs": [
        {
          "output_type": "display_data",
          "data": {
            "text/plain": [
              "<IPython.core.display.HTML object>"
            ],
            "text/html": [
              "\n",
              "    <style>pre { line-height: 125%; }\n",
              "td.linenos .normal { color: #666666; background-color: transparent; padding-left: 5px; padding-right: 5px; }\n",
              "span.linenos { color: #666666; background-color: transparent; padding-left: 5px; padding-right: 5px; }\n",
              "td.linenos .special { color: #000000; background-color: #ffffc0; padding-left: 5px; padding-right: 5px; }\n",
              "span.linenos.special { color: #000000; background-color: #ffffc0; padding-left: 5px; padding-right: 5px; }\n",
              ".highlight .hll { background-color: #ffffcc }\n",
              ".highlight { background: #f0f0f0; }\n",
              ".highlight .c { color: #60A0B0; font-style: italic } /* Comment */\n",
              ".highlight .err { border: 1px solid #F00 } /* Error */\n",
              ".highlight .k { color: #007020; font-weight: bold } /* Keyword */\n",
              ".highlight .o { color: #666 } /* Operator */\n",
              ".highlight .ch { color: #60A0B0; font-style: italic } /* Comment.Hashbang */\n",
              ".highlight .cm { color: #60A0B0; font-style: italic } /* Comment.Multiline */\n",
              ".highlight .cp { color: #007020 } /* Comment.Preproc */\n",
              ".highlight .cpf { color: #60A0B0; font-style: italic } /* Comment.PreprocFile */\n",
              ".highlight .c1 { color: #60A0B0; font-style: italic } /* Comment.Single */\n",
              ".highlight .cs { color: #60A0B0; background-color: #FFF0F0 } /* Comment.Special */\n",
              ".highlight .gd { color: #A00000 } /* Generic.Deleted */\n",
              ".highlight .ge { font-style: italic } /* Generic.Emph */\n",
              ".highlight .ges { font-weight: bold; font-style: italic } /* Generic.EmphStrong */\n",
              ".highlight .gr { color: #F00 } /* Generic.Error */\n",
              ".highlight .gh { color: #000080; font-weight: bold } /* Generic.Heading */\n",
              ".highlight .gi { color: #00A000 } /* Generic.Inserted */\n",
              ".highlight .go { color: #888 } /* Generic.Output */\n",
              ".highlight .gp { color: #C65D09; font-weight: bold } /* Generic.Prompt */\n",
              ".highlight .gs { font-weight: bold } /* Generic.Strong */\n",
              ".highlight .gu { color: #800080; font-weight: bold } /* Generic.Subheading */\n",
              ".highlight .gt { color: #04D } /* Generic.Traceback */\n",
              ".highlight .kc { color: #007020; font-weight: bold } /* Keyword.Constant */\n",
              ".highlight .kd { color: #007020; font-weight: bold } /* Keyword.Declaration */\n",
              ".highlight .kn { color: #007020; font-weight: bold } /* Keyword.Namespace */\n",
              ".highlight .kp { color: #007020 } /* Keyword.Pseudo */\n",
              ".highlight .kr { color: #007020; font-weight: bold } /* Keyword.Reserved */\n",
              ".highlight .kt { color: #902000 } /* Keyword.Type */\n",
              ".highlight .m { color: #40A070 } /* Literal.Number */\n",
              ".highlight .s { color: #4070A0 } /* Literal.String */\n",
              ".highlight .na { color: #4070A0 } /* Name.Attribute */\n",
              ".highlight .nb { color: #007020 } /* Name.Builtin */\n",
              ".highlight .nc { color: #0E84B5; font-weight: bold } /* Name.Class */\n",
              ".highlight .no { color: #60ADD5 } /* Name.Constant */\n",
              ".highlight .nd { color: #555; font-weight: bold } /* Name.Decorator */\n",
              ".highlight .ni { color: #D55537; font-weight: bold } /* Name.Entity */\n",
              ".highlight .ne { color: #007020 } /* Name.Exception */\n",
              ".highlight .nf { color: #06287E } /* Name.Function */\n",
              ".highlight .nl { color: #002070; font-weight: bold } /* Name.Label */\n",
              ".highlight .nn { color: #0E84B5; font-weight: bold } /* Name.Namespace */\n",
              ".highlight .nt { color: #062873; font-weight: bold } /* Name.Tag */\n",
              ".highlight .nv { color: #BB60D5 } /* Name.Variable */\n",
              ".highlight .ow { color: #007020; font-weight: bold } /* Operator.Word */\n",
              ".highlight .w { color: #BBB } /* Text.Whitespace */\n",
              ".highlight .mb { color: #40A070 } /* Literal.Number.Bin */\n",
              ".highlight .mf { color: #40A070 } /* Literal.Number.Float */\n",
              ".highlight .mh { color: #40A070 } /* Literal.Number.Hex */\n",
              ".highlight .mi { color: #40A070 } /* Literal.Number.Integer */\n",
              ".highlight .mo { color: #40A070 } /* Literal.Number.Oct */\n",
              ".highlight .sa { color: #4070A0 } /* Literal.String.Affix */\n",
              ".highlight .sb { color: #4070A0 } /* Literal.String.Backtick */\n",
              ".highlight .sc { color: #4070A0 } /* Literal.String.Char */\n",
              ".highlight .dl { color: #4070A0 } /* Literal.String.Delimiter */\n",
              ".highlight .sd { color: #4070A0; font-style: italic } /* Literal.String.Doc */\n",
              ".highlight .s2 { color: #4070A0 } /* Literal.String.Double */\n",
              ".highlight .se { color: #4070A0; font-weight: bold } /* Literal.String.Escape */\n",
              ".highlight .sh { color: #4070A0 } /* Literal.String.Heredoc */\n",
              ".highlight .si { color: #70A0D0; font-style: italic } /* Literal.String.Interpol */\n",
              ".highlight .sx { color: #C65D09 } /* Literal.String.Other */\n",
              ".highlight .sr { color: #235388 } /* Literal.String.Regex */\n",
              ".highlight .s1 { color: #4070A0 } /* Literal.String.Single */\n",
              ".highlight .ss { color: #517918 } /* Literal.String.Symbol */\n",
              ".highlight .bp { color: #007020 } /* Name.Builtin.Pseudo */\n",
              ".highlight .fm { color: #06287E } /* Name.Function.Magic */\n",
              ".highlight .vc { color: #BB60D5 } /* Name.Variable.Class */\n",
              ".highlight .vg { color: #BB60D5 } /* Name.Variable.Global */\n",
              ".highlight .vi { color: #BB60D5 } /* Name.Variable.Instance */\n",
              ".highlight .vm { color: #BB60D5 } /* Name.Variable.Magic */\n",
              ".highlight .il { color: #40A070 } /* Literal.Number.Integer.Long */</style>\n",
              "    <details open style=\"margin:6px 0\">\n",
              "      <summary style=\"cursor:pointer;font-weight:600\">example.xml (pretty-printed)</summary>\n",
              "      <div style=\"border:1px solid #e5e7eb;border-radius:10px;overflow:auto;max-height:520px;margin-top:8px\">\n",
              "        <div class=\"highlight\"><table class=\"highlighttable\"><tr><td class=\"linenos\"><div class=\"linenodiv\"><pre><span class=\"normal\">1</span>\n",
              "<span class=\"normal\">2</span>\n",
              "<span class=\"normal\">3</span>\n",
              "<span class=\"normal\">4</span>\n",
              "<span class=\"normal\">5</span>\n",
              "<span class=\"normal\">6</span>\n",
              "<span class=\"normal\">7</span>\n",
              "<span class=\"normal\">8</span></pre></div></td><td class=\"code\"><div><pre><span></span><span class=\"cp\">&lt;!DOCTYPE book SYSTEM &quot;book.dtd&quot;&gt;</span>\n",
              "<span class=\"nt\">&lt;book&gt;</span>\n",
              "<span class=\"w\">  </span><span class=\"nt\">&lt;title&gt;</span>Database<span class=\"w\"> </span>Systems<span class=\"nt\">&lt;/title&gt;</span>\n",
              "<span class=\"w\">  </span><span class=\"nt\">&lt;author&gt;</span>Hector<span class=\"w\"> </span>Garcia-Molina<span class=\"nt\">&lt;/author&gt;</span>\n",
              "<span class=\"w\">  </span><span class=\"nt\">&lt;author&gt;</span>Jeffrey<span class=\"w\"> </span>D.<span class=\"w\"> </span>Ullman<span class=\"nt\">&lt;/author&gt;</span>\n",
              "<span class=\"w\">  </span><span class=\"nt\">&lt;author&gt;</span>Jennifer<span class=\"w\"> </span>Widom<span class=\"nt\">&lt;/author&gt;</span>\n",
              "<span class=\"w\">  </span><span class=\"nt\">&lt;year&gt;</span>2009<span class=\"nt\">&lt;/year&gt;</span>\n",
              "<span class=\"nt\">&lt;/book&gt;</span>\n",
              "</pre></div></td></tr></table></div>\n",
              "\n",
              "      </div>\n",
              "    </details>\n",
              "    "
            ]
          },
          "metadata": {}
        },
        {
          "output_type": "display_data",
          "data": {
            "text/plain": [
              "<IPython.core.display.HTML object>"
            ],
            "text/html": [
              "\n",
              "    <style>pre { line-height: 125%; }\n",
              "td.linenos .normal { color: #666666; background-color: transparent; padding-left: 5px; padding-right: 5px; }\n",
              "span.linenos { color: #666666; background-color: transparent; padding-left: 5px; padding-right: 5px; }\n",
              "td.linenos .special { color: #000000; background-color: #ffffc0; padding-left: 5px; padding-right: 5px; }\n",
              "span.linenos.special { color: #000000; background-color: #ffffc0; padding-left: 5px; padding-right: 5px; }\n",
              ".highlight .hll { background-color: #ffffcc }\n",
              ".highlight { background: #f0f0f0; }\n",
              ".highlight .c { color: #60A0B0; font-style: italic } /* Comment */\n",
              ".highlight .err { border: 1px solid #F00 } /* Error */\n",
              ".highlight .k { color: #007020; font-weight: bold } /* Keyword */\n",
              ".highlight .o { color: #666 } /* Operator */\n",
              ".highlight .ch { color: #60A0B0; font-style: italic } /* Comment.Hashbang */\n",
              ".highlight .cm { color: #60A0B0; font-style: italic } /* Comment.Multiline */\n",
              ".highlight .cp { color: #007020 } /* Comment.Preproc */\n",
              ".highlight .cpf { color: #60A0B0; font-style: italic } /* Comment.PreprocFile */\n",
              ".highlight .c1 { color: #60A0B0; font-style: italic } /* Comment.Single */\n",
              ".highlight .cs { color: #60A0B0; background-color: #FFF0F0 } /* Comment.Special */\n",
              ".highlight .gd { color: #A00000 } /* Generic.Deleted */\n",
              ".highlight .ge { font-style: italic } /* Generic.Emph */\n",
              ".highlight .ges { font-weight: bold; font-style: italic } /* Generic.EmphStrong */\n",
              ".highlight .gr { color: #F00 } /* Generic.Error */\n",
              ".highlight .gh { color: #000080; font-weight: bold } /* Generic.Heading */\n",
              ".highlight .gi { color: #00A000 } /* Generic.Inserted */\n",
              ".highlight .go { color: #888 } /* Generic.Output */\n",
              ".highlight .gp { color: #C65D09; font-weight: bold } /* Generic.Prompt */\n",
              ".highlight .gs { font-weight: bold } /* Generic.Strong */\n",
              ".highlight .gu { color: #800080; font-weight: bold } /* Generic.Subheading */\n",
              ".highlight .gt { color: #04D } /* Generic.Traceback */\n",
              ".highlight .kc { color: #007020; font-weight: bold } /* Keyword.Constant */\n",
              ".highlight .kd { color: #007020; font-weight: bold } /* Keyword.Declaration */\n",
              ".highlight .kn { color: #007020; font-weight: bold } /* Keyword.Namespace */\n",
              ".highlight .kp { color: #007020 } /* Keyword.Pseudo */\n",
              ".highlight .kr { color: #007020; font-weight: bold } /* Keyword.Reserved */\n",
              ".highlight .kt { color: #902000 } /* Keyword.Type */\n",
              ".highlight .m { color: #40A070 } /* Literal.Number */\n",
              ".highlight .s { color: #4070A0 } /* Literal.String */\n",
              ".highlight .na { color: #4070A0 } /* Name.Attribute */\n",
              ".highlight .nb { color: #007020 } /* Name.Builtin */\n",
              ".highlight .nc { color: #0E84B5; font-weight: bold } /* Name.Class */\n",
              ".highlight .no { color: #60ADD5 } /* Name.Constant */\n",
              ".highlight .nd { color: #555; font-weight: bold } /* Name.Decorator */\n",
              ".highlight .ni { color: #D55537; font-weight: bold } /* Name.Entity */\n",
              ".highlight .ne { color: #007020 } /* Name.Exception */\n",
              ".highlight .nf { color: #06287E } /* Name.Function */\n",
              ".highlight .nl { color: #002070; font-weight: bold } /* Name.Label */\n",
              ".highlight .nn { color: #0E84B5; font-weight: bold } /* Name.Namespace */\n",
              ".highlight .nt { color: #062873; font-weight: bold } /* Name.Tag */\n",
              ".highlight .nv { color: #BB60D5 } /* Name.Variable */\n",
              ".highlight .ow { color: #007020; font-weight: bold } /* Operator.Word */\n",
              ".highlight .w { color: #BBB } /* Text.Whitespace */\n",
              ".highlight .mb { color: #40A070 } /* Literal.Number.Bin */\n",
              ".highlight .mf { color: #40A070 } /* Literal.Number.Float */\n",
              ".highlight .mh { color: #40A070 } /* Literal.Number.Hex */\n",
              ".highlight .mi { color: #40A070 } /* Literal.Number.Integer */\n",
              ".highlight .mo { color: #40A070 } /* Literal.Number.Oct */\n",
              ".highlight .sa { color: #4070A0 } /* Literal.String.Affix */\n",
              ".highlight .sb { color: #4070A0 } /* Literal.String.Backtick */\n",
              ".highlight .sc { color: #4070A0 } /* Literal.String.Char */\n",
              ".highlight .dl { color: #4070A0 } /* Literal.String.Delimiter */\n",
              ".highlight .sd { color: #4070A0; font-style: italic } /* Literal.String.Doc */\n",
              ".highlight .s2 { color: #4070A0 } /* Literal.String.Double */\n",
              ".highlight .se { color: #4070A0; font-weight: bold } /* Literal.String.Escape */\n",
              ".highlight .sh { color: #4070A0 } /* Literal.String.Heredoc */\n",
              ".highlight .si { color: #70A0D0; font-style: italic } /* Literal.String.Interpol */\n",
              ".highlight .sx { color: #C65D09 } /* Literal.String.Other */\n",
              ".highlight .sr { color: #235388 } /* Literal.String.Regex */\n",
              ".highlight .s1 { color: #4070A0 } /* Literal.String.Single */\n",
              ".highlight .ss { color: #517918 } /* Literal.String.Symbol */\n",
              ".highlight .bp { color: #007020 } /* Name.Builtin.Pseudo */\n",
              ".highlight .fm { color: #06287E } /* Name.Function.Magic */\n",
              ".highlight .vc { color: #BB60D5 } /* Name.Variable.Class */\n",
              ".highlight .vg { color: #BB60D5 } /* Name.Variable.Global */\n",
              ".highlight .vi { color: #BB60D5 } /* Name.Variable.Instance */\n",
              ".highlight .vm { color: #BB60D5 } /* Name.Variable.Magic */\n",
              ".highlight .il { color: #40A070 } /* Literal.Number.Integer.Long */</style>\n",
              "    <details  style=\"margin:6px 0\">\n",
              "      <summary style=\"cursor:pointer;font-weight:600\">book.dtd</summary>\n",
              "      <div style=\"border:1px solid #e5e7eb;border-radius:10px;overflow:auto;max-height:520px;margin-top:8px\">\n",
              "        <div class=\"highlight\"><table class=\"highlighttable\"><tr><td class=\"linenos\"><div class=\"linenodiv\"><pre><span class=\"normal\">1</span>\n",
              "<span class=\"normal\">2</span>\n",
              "<span class=\"normal\">3</span>\n",
              "<span class=\"normal\">4</span></pre></div></td><td class=\"code\"><div><pre><span></span><span class=\"k\">&lt;!ELEMENT</span> <span class=\"nt\">book</span> <span class=\"o\">(</span><span class=\"nt\">title</span><span class=\"o\">,</span> <span class=\"nt\">author</span><span class=\"o\">+,</span> <span class=\"nt\">year</span><span class=\"o\">)</span><span class=\"k\">&gt;</span>\n",
              "<span class=\"k\">&lt;!ELEMENT</span> <span class=\"nt\">title</span> <span class=\"o\">(</span><span class=\"kc\">#PCDATA</span><span class=\"o\">)</span><span class=\"k\">&gt;</span>\n",
              "<span class=\"k\">&lt;!ELEMENT</span> <span class=\"nt\">author</span> <span class=\"o\">(</span><span class=\"kc\">#PCDATA</span><span class=\"o\">)</span><span class=\"k\">&gt;</span>\n",
              "<span class=\"k\">&lt;!ELEMENT</span> <span class=\"nt\">year</span> <span class=\"o\">(</span><span class=\"kc\">#PCDATA</span><span class=\"o\">)</span><span class=\"k\">&gt;</span>\n",
              "</pre></div></td></tr></table></div>\n",
              "\n",
              "      </div>\n",
              "    </details>\n",
              "    "
            ]
          },
          "metadata": {}
        }
      ]
    },
    {
      "cell_type": "code",
      "source": [
        "from lxml import etree\n",
        "\n",
        "with open(\"book.dtd\",\"rb\") as f:\n",
        "    dtd = etree.DTD(f)\n",
        "\n",
        "tree_ok = etree.parse(\"example.xml\")\n",
        "tree_bad = etree.parse(\"broken_example.xml\")\n",
        "\n",
        "print(\"example.xml →\", \"VALID ✅\" if dtd.validate(tree_ok) else \"NOT valid ❌\")\n",
        "print(\"broken_example.xml →\", \"VALID ✅\" if dtd.validate(tree_bad) else \"NOT valid ❌\")\n",
        "if not dtd.validate(tree_bad):\n",
        "    # Show the last few errors for teaching\n",
        "    for e in list(dtd.error_log)[-5:]:\n",
        "        print(\"•\", e)\n"
      ],
      "metadata": {
        "colab": {
          "base_uri": "https://localhost:8080/"
        },
        "id": "WU8JKIWbMM58",
        "outputId": "659c9ac1-fb4a-4bd5-8c9d-14be40a1941a"
      },
      "execution_count": 8,
      "outputs": [
        {
          "output_type": "stream",
          "name": "stdout",
          "text": [
            "example.xml → VALID ✅\n",
            "broken_example.xml → NOT valid ❌\n",
            "• broken_example.xml:3:0:ERROR:VALID:DTD_CONTENT_MODEL: Element book content does not follow the DTD, expecting (title , author+ , year), got (title year )\n"
          ]
        }
      ]
    }
  ]
}