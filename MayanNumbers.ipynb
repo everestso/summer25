{
  "nbformat": 4,
  "nbformat_minor": 0,
  "metadata": {
    "colab": {
      "provenance": [],
      "authorship_tag": "ABX9TyNbowhf0oqGnae+TqTtBfbD",
      "include_colab_link": true
    },
    "kernelspec": {
      "name": "python3",
      "display_name": "Python 3"
    },
    "language_info": {
      "name": "python"
    }
  },
  "cells": [
    {
      "cell_type": "markdown",
      "metadata": {
        "id": "view-in-github",
        "colab_type": "text"
      },
      "source": [
        "<a href=\"https://colab.research.google.com/github/everestso/summer25/blob/main/MayanNumbers.ipynb\" target=\"_parent\"><img src=\"https://colab.research.google.com/assets/colab-badge.svg\" alt=\"Open In Colab\"/></a>"
      ]
    },
    {
      "cell_type": "code",
      "execution_count": 6,
      "metadata": {
        "id": "JvapUWnajjFn"
      },
      "outputs": [],
      "source": [
        "# Mayan numerals U+1D2E0 .. U+1D2F3 (0–19)\n",
        "mayan_digits = [chr(cp) for cp in range(0x1D2E0, 0x1D2F4)]\n",
        "\n",
        "def to_base20(n: int) -> list[int]:\n",
        "    if n == 0:\n",
        "        return [0]\n",
        "    digits = []\n",
        "    while n > 0:\n",
        "        digits.append(n % 20)\n",
        "        n //= 20\n",
        "    digits.reverse()\n",
        "    return digits\n",
        "\n",
        "def DisplayMayan(x: int) -> None:\n",
        "    m = to_base20(x)\n",
        "    for d in m:\n",
        "        print(mayan_digits[d])\n",
        "    print(f\"Mayan {x}\")\n"
      ]
    },
    {
      "cell_type": "code",
      "source": [
        "DisplayMayan(374)"
      ],
      "metadata": {
        "colab": {
          "base_uri": "https://localhost:8080/"
        },
        "id": "XURvrVd3j_kL",
        "outputId": "e752d75c-4b3d-4aa7-a5d9-bb9f61c1ef8e"
      },
      "execution_count": 9,
      "outputs": [
        {
          "output_type": "stream",
          "name": "stdout",
          "text": [
            "𝋲\n",
            "𝋮\n",
            "Mayan 374\n"
          ]
        }
      ]
    },
    {
      "cell_type": "code",
      "source": [
        "DisplayMayan(1600)"
      ],
      "metadata": {
        "colab": {
          "base_uri": "https://localhost:8080/"
        },
        "id": "Vplw-jrdk7MF",
        "outputId": "34cf734d-1c98-40f2-db88-46cb559e35d9"
      },
      "execution_count": 11,
      "outputs": [
        {
          "output_type": "stream",
          "name": "stdout",
          "text": [
            "𝋤\n",
            "𝋠\n",
            "𝋠\n",
            "Mayan 1600\n"
          ]
        }
      ]
    },
    {
      "cell_type": "code",
      "source": [
        "DisplayMayan(1974)"
      ],
      "metadata": {
        "colab": {
          "base_uri": "https://localhost:8080/"
        },
        "id": "1LrrAGtPkR3Y",
        "outputId": "40759c4c-84ce-421c-bfb8-f5983972414b"
      },
      "execution_count": 12,
      "outputs": [
        {
          "output_type": "stream",
          "name": "stdout",
          "text": [
            "𝋤\n",
            "𝋲\n",
            "𝋮\n",
            "Mayan 1974\n"
          ]
        }
      ]
    }
  ]
}