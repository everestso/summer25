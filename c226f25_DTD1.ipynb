{
  "nbformat": 4,
  "nbformat_minor": 0,
  "metadata": {
    "colab": {
      "provenance": [],
      "authorship_tag": "ABX9TyNjVaf67hvddhjGd5EFUzBG",
      "include_colab_link": true
    },
    "kernelspec": {
      "name": "python3",
      "display_name": "Python 3"
    },
    "language_info": {
      "name": "python"
    }
  },
  "cells": [
    {
      "cell_type": "markdown",
      "metadata": {
        "id": "view-in-github",
        "colab_type": "text"
      },
      "source": [
        "<a href=\"https://colab.research.google.com/github/everestso/summer25/blob/main/c226f25_DTD1.ipynb\" target=\"_parent\"><img src=\"https://colab.research.google.com/assets/colab-badge.svg\" alt=\"Open In Colab\"/></a>"
      ]
    },
    {
      "cell_type": "code",
      "source": [
        "!pip install lxml"
      ],
      "metadata": {
        "id": "wWZ4KqZy4MRl"
      },
      "execution_count": null,
      "outputs": []
    },
    {
      "cell_type": "code",
      "source": [
        "# https://drive.google.com/file/d/19J5ontNwDgXe6T7HjEGx47xXQ1umhhhR/view?usp=drive_link\n",
        "!gdown 19J5ontNwDgXe6T7HjEGx47xXQ1umhhhR\n",
        "\n",
        "# https://drive.google.com/file/d/1NeMCt7DxV7In6Cx4OEadS89y1gYLQweR/view?usp=drive_link\n",
        "!gdown 1NeMCt7DxV7In6Cx4OEadS89y1gYLQweR\n",
        "\n",
        "# https://drive.google.com/file/d/18tpQhW2u9ZW-GIr-bNR2Eg-xWFuSOZMF/view?usp=drive_link\n",
        "!gdown 18tpQhW2u9ZW-GIr-bNR2Eg-xWFuSOZMF"
      ],
      "metadata": {
        "colab": {
          "base_uri": "https://localhost:8080/"
        },
        "id": "JHaxV_Y_5Mk0",
        "outputId": "c4b95096-2109-4042-c32a-c550fa664289"
      },
      "execution_count": 3,
      "outputs": [
        {
          "output_type": "stream",
          "name": "stdout",
          "text": [
            "Downloading...\n",
            "From (original): https://drive.google.com/uc?id=19J5ontNwDgXe6T7HjEGx47xXQ1umhhhR\n",
            "From (redirected): https://drive.google.com/uc?id=19J5ontNwDgXe6T7HjEGx47xXQ1umhhhR&confirm=t&uuid=2848647c-ed60-4327-b38e-8ede084c35aa\n",
            "To: /content/example.xml\n",
            "100% 272/272 [00:00<00:00, 1.87MB/s]\n",
            "Downloading...\n",
            "From: https://drive.google.com/uc?id=1NeMCt7DxV7In6Cx4OEadS89y1gYLQweR\n",
            "To: /content/book.dtd\n",
            "100% 124/124 [00:00<00:00, 717kB/s]\n",
            "Downloading...\n",
            "From (original): https://drive.google.com/uc?id=18tpQhW2u9ZW-GIr-bNR2Eg-xWFuSOZMF\n",
            "From (redirected): https://drive.google.com/uc?id=18tpQhW2u9ZW-GIr-bNR2Eg-xWFuSOZMF&confirm=t&uuid=d4b08bd4-6c63-4ec6-a57c-2751f5bfd2b3\n",
            "To: /content/broken_example.xml\n",
            "100% 237/237 [00:00<00:00, 1.65MB/s]\n"
          ]
        }
      ]
    },
    {
      "cell_type": "code",
      "execution_count": 4,
      "metadata": {
        "colab": {
          "base_uri": "https://localhost:8080/"
        },
        "id": "Mg3rdgDk29GZ",
        "outputId": "b09ea5c2-0a25-4e7a-cd39-c160884c77a4"
      },
      "outputs": [
        {
          "output_type": "stream",
          "name": "stdout",
          "text": [
            "XML is valid ✅\n"
          ]
        }
      ],
      "source": [
        "from lxml import etree\n",
        "\n",
        "# Load DTD\n",
        "with open(\"book.dtd\", \"rb\") as f:\n",
        "    dtd = etree.DTD(f)\n",
        "\n",
        "# Parse XML\n",
        "tree = etree.parse(\"example.xml\")\n",
        "\n",
        "# Validate\n",
        "if dtd.validate(tree):\n",
        "    print(\"XML is valid ✅\")\n",
        "else:\n",
        "    print(\"XML is NOT valid ❌\")\n",
        "    print(dtd.error_log.filter_from_errors())"
      ]
    },
    {
      "cell_type": "code",
      "source": [
        "from lxml import etree\n",
        "\n",
        "with open(\"book.dtd\", \"rb\") as f:\n",
        "    dtd = etree.DTD(f)\n",
        "\n",
        "tree = etree.parse(\"broken_example.xml\")\n",
        "\n",
        "if dtd.validate(tree):\n",
        "    print(\"XML is valid ✅\")\n",
        "else:\n",
        "    print(\"XML is NOT valid ❌\")\n",
        "    print(dtd.error_log.filter_from_errors())\n"
      ],
      "metadata": {
        "colab": {
          "base_uri": "https://localhost:8080/"
        },
        "id": "CkCHxauw6QV-",
        "outputId": "88e9bef0-53c6-45ec-8138-07c556501b3b"
      },
      "execution_count": 5,
      "outputs": [
        {
          "output_type": "stream",
          "name": "stdout",
          "text": [
            "XML is NOT valid ❌\n",
            "broken_example.xml:3:0:ERROR:VALID:DTD_CONTENT_MODEL: Element book content does not follow the DTD, expecting (title , author+ , year), got (title year )\n"
          ]
        }
      ]
    }
  ]
}