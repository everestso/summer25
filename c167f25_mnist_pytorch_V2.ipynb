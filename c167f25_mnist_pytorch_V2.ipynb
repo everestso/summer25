{
  "cells": [
    {
      "cell_type": "markdown",
      "metadata": {
        "id": "view-in-github",
        "colab_type": "text"
      },
      "source": [
        "<a href=\"https://colab.research.google.com/github/everestso/summer25/blob/main/c167f25_mnist_pytorch_V2.ipynb\" target=\"_parent\"><img src=\"https://colab.research.google.com/assets/colab-badge.svg\" alt=\"Open In Colab\"/></a>"
      ]
    },
    {
      "cell_type": "markdown",
      "metadata": {
        "id": "vkayL67dAC_n"
      },
      "source": [
        "## import modules"
      ]
    },
    {
      "cell_type": "markdown",
      "source": [
        "# Test Compatibility Issues"
      ],
      "metadata": {
        "id": "FB30mBrl8BMP"
      }
    },
    {
      "cell_type": "code",
      "source": [
        "#@title Install torch==2.2.*, torchvision==0.17.*, matplotlib==3.5.2 (keep base NumPy)\n",
        "import sys, subprocess, textwrap, importlib\n",
        "\n",
        "def run(cmd: str) -> int:\n",
        "    print(\"\\n+\" + cmd)\n",
        "    proc = subprocess.run(\n",
        "        cmd, shell=True, check=False,\n",
        "        stdout=subprocess.PIPE, stderr=subprocess.STDOUT, text=True\n",
        "    )\n",
        "    print(proc.stdout)\n",
        "    return proc.returncode\n",
        "\n",
        "print(\"🐍 Python:\", sys.version.split()[0])\n",
        "\n",
        "# Show pre-install NumPy (we will NOT pin/downgrade it)\n",
        "try:\n",
        "    import numpy as _np\n",
        "    print(\"Pre-install NumPy:\", _np.__version__)\n",
        "except Exception as e:\n",
        "    print(\"Pre-install NumPy: (not importable)\", e)\n",
        "\n",
        "# Install desired packages without forcing a NumPy change\n",
        "# --upgrade-strategy only-if-needed tries HARD to avoid touching NumPy.\n",
        "pip_cmd = textwrap.dedent(\"\"\"\n",
        "    pip install --upgrade --upgrade-strategy only-if-needed --no-cache-dir \\\n",
        "        torch==2.2.* torchvision==0.17.* matplotlib==3.5.2\n",
        "\"\"\").strip()\n",
        "\n",
        "exit_code = run(pip_cmd)\n",
        "\n",
        "# Cleanly reload modules if they were already imported\n",
        "for m in [\"torch\", \"torchvision\", \"matplotlib\", \"numpy\"]:\n",
        "    if m in sys.modules:\n",
        "        del sys.modules[m]\n",
        "\n",
        "# Report versions & basic capability checks\n",
        "report = {}\n",
        "\n",
        "def safe_import(name):\n",
        "    try:\n",
        "        mod = importlib.import_module(name)\n",
        "        report[name] = getattr(mod, \"__version__\", \"(no __version__)\")\n",
        "        return mod\n",
        "    except Exception as e:\n",
        "        report[name] = f\"IMPORT ERROR: {e}\"\n",
        "        return None\n",
        "\n",
        "np = safe_import(\"numpy\")\n",
        "mpl = safe_import(\"matplotlib\")\n",
        "torch = safe_import(\"torch\")\n",
        "tv = safe_import(\"torchvision\")\n",
        "\n",
        "print(\"\\n📦 Versions after install:\")\n",
        "for k, v in report.items():\n",
        "    print(f\"  {k}: {v}\")\n",
        "\n",
        "# CUDA info\n",
        "cuda_ok = False\n",
        "gpu_name = \"N/A\"\n",
        "if torch and hasattr(torch, \"cuda\"):\n",
        "    try:\n",
        "        cuda_ok = torch.cuda.is_available()\n",
        "        if cuda_ok:\n",
        "            gpu_name = torch.cuda.get_device_name(0)\n",
        "    except Exception as e:\n",
        "        gpu_name = f\"CUDA check error: {e}\"\n",
        "print(f\"\\n🧮 CUDA available: {cuda_ok}\")\n",
        "print(f\"🧩 GPU: {gpu_name}\")\n",
        "\n",
        "# Quick smoke tests (CPU)\n",
        "try:\n",
        "    if torch:\n",
        "        x = torch.randn(2, 3)\n",
        "        print(\"Torch smoke test (mean):\", float(x.mean()))\n",
        "    if mpl:\n",
        "        import matplotlib.pyplot as plt\n",
        "        fig = plt.figure()\n",
        "        plt.plot([0, 1], [0, 1])\n",
        "        plt.close(fig)\n",
        "        print(\"Matplotlib smoke test: OK\")\n",
        "except Exception as e:\n",
        "    print(\"Smoke test error:\", e)\n",
        "\n",
        "if exit_code != 0:\n",
        "    print(f\"\\n⚠️ pip exit code: {exit_code} (see log above)\")\n",
        "else:\n",
        "    print(\"\\n✅ Finished installs with base NumPy preserved (unless a hard dependency required change).\")\n"
      ],
      "metadata": {
        "colab": {
          "base_uri": "https://localhost:8080/"
        },
        "id": "ncl6oHTQ8_v6",
        "outputId": "3ebc4248-1e74-47c8-93a6-b0244aa4a1aa"
      },
      "execution_count": 1,
      "outputs": [
        {
          "output_type": "stream",
          "name": "stdout",
          "text": [
            "🐍 Python: 3.12.11\n",
            "Pre-install NumPy: 2.0.2\n",
            "\n",
            "+pip install --upgrade --upgrade-strategy only-if-needed --no-cache-dir         torch==2.2.* torchvision==0.17.* matplotlib==3.5.2\n",
            "Collecting torch==2.2.*\n",
            "  Downloading torch-2.2.2-cp312-cp312-manylinux1_x86_64.whl.metadata (25 kB)\n",
            "Collecting torchvision==0.17.*\n",
            "  Downloading torchvision-0.17.2-cp312-cp312-manylinux1_x86_64.whl.metadata (6.6 kB)\n",
            "Collecting matplotlib==3.5.2\n",
            "  Downloading matplotlib-3.5.2.tar.gz (35.2 MB)\n",
            "     ━━━━━━━━━━━━━━━━━━━━━━━━━━━━━━━━━━━━━━━ 35.2/35.2 MB 104.9 MB/s eta 0:00:00\n",
            "  Preparing metadata (setup.py): started\n",
            "  Preparing metadata (setup.py): finished with status 'done'\n",
            "Requirement already satisfied: filelock in /usr/local/lib/python3.12/dist-packages (from torch==2.2.*) (3.19.1)\n",
            "Requirement already satisfied: typing-extensions>=4.8.0 in /usr/local/lib/python3.12/dist-packages (from torch==2.2.*) (4.15.0)\n",
            "Requirement already satisfied: sympy in /usr/local/lib/python3.12/dist-packages (from torch==2.2.*) (1.13.3)\n",
            "Requirement already satisfied: networkx in /usr/local/lib/python3.12/dist-packages (from torch==2.2.*) (3.5)\n",
            "Requirement already satisfied: jinja2 in /usr/local/lib/python3.12/dist-packages (from torch==2.2.*) (3.1.6)\n",
            "Requirement already satisfied: fsspec in /usr/local/lib/python3.12/dist-packages (from torch==2.2.*) (2025.3.0)\n",
            "Collecting nvidia-cuda-nvrtc-cu12==12.1.105 (from torch==2.2.*)\n",
            "  Downloading nvidia_cuda_nvrtc_cu12-12.1.105-py3-none-manylinux1_x86_64.whl.metadata (1.5 kB)\n",
            "Collecting nvidia-cuda-runtime-cu12==12.1.105 (from torch==2.2.*)\n",
            "  Downloading nvidia_cuda_runtime_cu12-12.1.105-py3-none-manylinux1_x86_64.whl.metadata (1.5 kB)\n",
            "Collecting nvidia-cuda-cupti-cu12==12.1.105 (from torch==2.2.*)\n",
            "  Downloading nvidia_cuda_cupti_cu12-12.1.105-py3-none-manylinux1_x86_64.whl.metadata (1.6 kB)\n",
            "Collecting nvidia-cudnn-cu12==8.9.2.26 (from torch==2.2.*)\n",
            "  Downloading nvidia_cudnn_cu12-8.9.2.26-py3-none-manylinux1_x86_64.whl.metadata (1.6 kB)\n",
            "Collecting nvidia-cublas-cu12==12.1.3.1 (from torch==2.2.*)\n",
            "  Downloading nvidia_cublas_cu12-12.1.3.1-py3-none-manylinux1_x86_64.whl.metadata (1.5 kB)\n",
            "Collecting nvidia-cufft-cu12==11.0.2.54 (from torch==2.2.*)\n",
            "  Downloading nvidia_cufft_cu12-11.0.2.54-py3-none-manylinux1_x86_64.whl.metadata (1.5 kB)\n",
            "Collecting nvidia-curand-cu12==10.3.2.106 (from torch==2.2.*)\n",
            "  Downloading nvidia_curand_cu12-10.3.2.106-py3-none-manylinux1_x86_64.whl.metadata (1.5 kB)\n",
            "Collecting nvidia-cusolver-cu12==11.4.5.107 (from torch==2.2.*)\n",
            "  Downloading nvidia_cusolver_cu12-11.4.5.107-py3-none-manylinux1_x86_64.whl.metadata (1.6 kB)\n",
            "Collecting nvidia-cusparse-cu12==12.1.0.106 (from torch==2.2.*)\n",
            "  Downloading nvidia_cusparse_cu12-12.1.0.106-py3-none-manylinux1_x86_64.whl.metadata (1.6 kB)\n",
            "Collecting nvidia-nccl-cu12==2.19.3 (from torch==2.2.*)\n",
            "  Downloading nvidia_nccl_cu12-2.19.3-py3-none-manylinux1_x86_64.whl.metadata (1.8 kB)\n",
            "Collecting nvidia-nvtx-cu12==12.1.105 (from torch==2.2.*)\n",
            "  Downloading nvidia_nvtx_cu12-12.1.105-py3-none-manylinux1_x86_64.whl.metadata (1.7 kB)\n",
            "Requirement already satisfied: numpy in /usr/local/lib/python3.12/dist-packages (from torchvision==0.17.*) (2.0.2)\n",
            "Requirement already satisfied: pillow!=8.3.*,>=5.3.0 in /usr/local/lib/python3.12/dist-packages (from torchvision==0.17.*) (11.3.0)\n",
            "Requirement already satisfied: cycler>=0.10 in /usr/local/lib/python3.12/dist-packages (from matplotlib==3.5.2) (0.12.1)\n",
            "Requirement already satisfied: fonttools>=4.22.0 in /usr/local/lib/python3.12/dist-packages (from matplotlib==3.5.2) (4.59.1)\n",
            "Requirement already satisfied: kiwisolver>=1.0.1 in /usr/local/lib/python3.12/dist-packages (from matplotlib==3.5.2) (1.4.9)\n",
            "Requirement already satisfied: packaging>=20.0 in /usr/local/lib/python3.12/dist-packages (from matplotlib==3.5.2) (25.0)\n",
            "Requirement already satisfied: pyparsing>=2.2.1 in /usr/local/lib/python3.12/dist-packages (from matplotlib==3.5.2) (3.2.3)\n",
            "Requirement already satisfied: python-dateutil>=2.7 in /usr/local/lib/python3.12/dist-packages (from matplotlib==3.5.2) (2.9.0.post0)\n",
            "Requirement already satisfied: nvidia-nvjitlink-cu12 in /usr/local/lib/python3.12/dist-packages (from nvidia-cusolver-cu12==11.4.5.107->torch==2.2.*) (12.6.85)\n",
            "Requirement already satisfied: six>=1.5 in /usr/local/lib/python3.12/dist-packages (from python-dateutil>=2.7->matplotlib==3.5.2) (1.17.0)\n",
            "Requirement already satisfied: MarkupSafe>=2.0 in /usr/local/lib/python3.12/dist-packages (from jinja2->torch==2.2.*) (3.0.2)\n",
            "Requirement already satisfied: mpmath<1.4,>=1.1.0 in /usr/local/lib/python3.12/dist-packages (from sympy->torch==2.2.*) (1.3.0)\n",
            "Downloading torch-2.2.2-cp312-cp312-manylinux1_x86_64.whl (755.5 MB)\n",
            "   ━━━━━━━━━━━━━━━━━━━━━━━━━━━━━━━━━━━━━━━ 755.5/755.5 MB 139.0 MB/s eta 0:00:00\n",
            "Downloading torchvision-0.17.2-cp312-cp312-manylinux1_x86_64.whl (6.9 MB)\n",
            "   ━━━━━━━━━━━━━━━━━━━━━━━━━━━━━━━━━━━━━━━━ 6.9/6.9 MB 149.1 MB/s eta 0:00:00\n",
            "Downloading nvidia_cublas_cu12-12.1.3.1-py3-none-manylinux1_x86_64.whl (410.6 MB)\n",
            "   ━━━━━━━━━━━━━━━━━━━━━━━━━━━━━━━━━━━━━━━ 410.6/410.6 MB 190.7 MB/s eta 0:00:00\n",
            "Downloading nvidia_cuda_cupti_cu12-12.1.105-py3-none-manylinux1_x86_64.whl (14.1 MB)\n",
            "   ━━━━━━━━━━━━━━━━━━━━━━━━━━━━━━━━━━━━━━━━ 14.1/14.1 MB 181.1 MB/s eta 0:00:00\n",
            "Downloading nvidia_cuda_nvrtc_cu12-12.1.105-py3-none-manylinux1_x86_64.whl (23.7 MB)\n",
            "   ━━━━━━━━━━━━━━━━━━━━━━━━━━━━━━━━━━━━━━━━ 23.7/23.7 MB 196.6 MB/s eta 0:00:00\n",
            "Downloading nvidia_cuda_runtime_cu12-12.1.105-py3-none-manylinux1_x86_64.whl (823 kB)\n",
            "   ━━━━━━━━━━━━━━━━━━━━━━━━━━━━━━━━━━━━━━━ 823.6/823.6 kB 202.0 MB/s eta 0:00:00\n",
            "Downloading nvidia_cudnn_cu12-8.9.2.26-py3-none-manylinux1_x86_64.whl (731.7 MB)\n",
            "   ━━━━━━━━━━━━━━━━━━━━━━━━━━━━━━━━━━━━━━━ 731.7/731.7 MB 101.9 MB/s eta 0:00:00\n",
            "Downloading nvidia_cufft_cu12-11.0.2.54-py3-none-manylinux1_x86_64.whl (121.6 MB)\n",
            "   ━━━━━━━━━━━━━━━━━━━━━━━━━━━━━━━━━━━━━━━ 121.6/121.6 MB 118.2 MB/s eta 0:00:00\n",
            "Downloading nvidia_curand_cu12-10.3.2.106-py3-none-manylinux1_x86_64.whl (56.5 MB)\n",
            "   ━━━━━━━━━━━━━━━━━━━━━━━━━━━━━━━━━━━━━━━━ 56.5/56.5 MB 126.7 MB/s eta 0:00:00\n",
            "Downloading nvidia_cusolver_cu12-11.4.5.107-py3-none-manylinux1_x86_64.whl (124.2 MB)\n",
            "   ━━━━━━━━━━━━━━━━━━━━━━━━━━━━━━━━━━━━━━━ 124.2/124.2 MB 149.6 MB/s eta 0:00:00\n",
            "Downloading nvidia_cusparse_cu12-12.1.0.106-py3-none-manylinux1_x86_64.whl (196.0 MB)\n",
            "   ━━━━━━━━━━━━━━━━━━━━━━━━━━━━━━━━━━━━━━━ 196.0/196.0 MB 180.8 MB/s eta 0:00:00\n",
            "Downloading nvidia_nccl_cu12-2.19.3-py3-none-manylinux1_x86_64.whl (166.0 MB)\n",
            "   ━━━━━━━━━━━━━━━━━━━━━━━━━━━━━━━━━━━━━━━ 166.0/166.0 MB 109.8 MB/s eta 0:00:00\n",
            "Downloading nvidia_nvtx_cu12-12.1.105-py3-none-manylinux1_x86_64.whl (99 kB)\n",
            "   ━━━━━━━━━━━━━━━━━━━━━━━━━━━━━━━━━━━━━━━━ 99.1/99.1 kB 116.1 MB/s eta 0:00:00\n",
            "Building wheels for collected packages: matplotlib\n",
            "  Building wheel for matplotlib (setup.py): started\n",
            "  Building wheel for matplotlib (setup.py): finished with status 'done'\n",
            "  Created wheel for matplotlib: filename=matplotlib-3.5.2-cp312-cp312-linux_x86_64.whl size=11118778 sha256=34c26298af20c1385fcf366f3207fe137cf08e74e99f656c5f1a754990e02bf8\n",
            "  Stored in directory: /tmp/pip-ephem-wheel-cache-xd1w95j1/wheels/97/5d/e1/f7559183db24dbb009d1693f5bfec8c2ceba4b8ffcc19aba47\n",
            "Successfully built matplotlib\n",
            "Installing collected packages: nvidia-nvtx-cu12, nvidia-nccl-cu12, nvidia-cusparse-cu12, nvidia-curand-cu12, nvidia-cufft-cu12, nvidia-cuda-runtime-cu12, nvidia-cuda-nvrtc-cu12, nvidia-cuda-cupti-cu12, nvidia-cublas-cu12, nvidia-cusolver-cu12, nvidia-cudnn-cu12, matplotlib, torch, torchvision\n",
            "  Attempting uninstall: nvidia-nvtx-cu12\n",
            "    Found existing installation: nvidia-nvtx-cu12 12.6.77\n",
            "    Uninstalling nvidia-nvtx-cu12-12.6.77:\n",
            "      Successfully uninstalled nvidia-nvtx-cu12-12.6.77\n",
            "  Attempting uninstall: nvidia-nccl-cu12\n",
            "    Found existing installation: nvidia-nccl-cu12 2.27.3\n",
            "    Uninstalling nvidia-nccl-cu12-2.27.3:\n",
            "      Successfully uninstalled nvidia-nccl-cu12-2.27.3\n",
            "  Attempting uninstall: nvidia-cusparse-cu12\n",
            "    Found existing installation: nvidia-cusparse-cu12 12.5.4.2\n",
            "    Uninstalling nvidia-cusparse-cu12-12.5.4.2:\n",
            "      Successfully uninstalled nvidia-cusparse-cu12-12.5.4.2\n",
            "  Attempting uninstall: nvidia-curand-cu12\n",
            "    Found existing installation: nvidia-curand-cu12 10.3.7.77\n",
            "    Uninstalling nvidia-curand-cu12-10.3.7.77:\n",
            "      Successfully uninstalled nvidia-curand-cu12-10.3.7.77\n",
            "  Attempting uninstall: nvidia-cufft-cu12\n",
            "    Found existing installation: nvidia-cufft-cu12 11.3.0.4\n",
            "    Uninstalling nvidia-cufft-cu12-11.3.0.4:\n",
            "      Successfully uninstalled nvidia-cufft-cu12-11.3.0.4\n",
            "  Attempting uninstall: nvidia-cuda-runtime-cu12\n",
            "    Found existing installation: nvidia-cuda-runtime-cu12 12.6.77\n",
            "    Uninstalling nvidia-cuda-runtime-cu12-12.6.77:\n",
            "      Successfully uninstalled nvidia-cuda-runtime-cu12-12.6.77\n",
            "  Attempting uninstall: nvidia-cuda-nvrtc-cu12\n",
            "    Found existing installation: nvidia-cuda-nvrtc-cu12 12.6.77\n",
            "    Uninstalling nvidia-cuda-nvrtc-cu12-12.6.77:\n",
            "      Successfully uninstalled nvidia-cuda-nvrtc-cu12-12.6.77\n",
            "  Attempting uninstall: nvidia-cuda-cupti-cu12\n",
            "    Found existing installation: nvidia-cuda-cupti-cu12 12.6.80\n",
            "    Uninstalling nvidia-cuda-cupti-cu12-12.6.80:\n",
            "      Successfully uninstalled nvidia-cuda-cupti-cu12-12.6.80\n",
            "  Attempting uninstall: nvidia-cublas-cu12\n",
            "    Found existing installation: nvidia-cublas-cu12 12.6.4.1\n",
            "    Uninstalling nvidia-cublas-cu12-12.6.4.1:\n",
            "      Successfully uninstalled nvidia-cublas-cu12-12.6.4.1\n",
            "  Attempting uninstall: nvidia-cusolver-cu12\n",
            "    Found existing installation: nvidia-cusolver-cu12 11.7.1.2\n",
            "    Uninstalling nvidia-cusolver-cu12-11.7.1.2:\n",
            "      Successfully uninstalled nvidia-cusolver-cu12-11.7.1.2\n",
            "  Attempting uninstall: nvidia-cudnn-cu12\n",
            "    Found existing installation: nvidia-cudnn-cu12 9.10.2.21\n",
            "    Uninstalling nvidia-cudnn-cu12-9.10.2.21:\n",
            "      Successfully uninstalled nvidia-cudnn-cu12-9.10.2.21\n",
            "  Attempting uninstall: matplotlib\n",
            "    Found existing installation: matplotlib 3.10.0\n",
            "    Uninstalling matplotlib-3.10.0:\n",
            "      Successfully uninstalled matplotlib-3.10.0\n",
            "  Attempting uninstall: torch\n",
            "    Found existing installation: torch 2.8.0+cu126\n",
            "    Uninstalling torch-2.8.0+cu126:\n",
            "      Successfully uninstalled torch-2.8.0+cu126\n",
            "  Attempting uninstall: torchvision\n",
            "    Found existing installation: torchvision 0.23.0+cu126\n",
            "    Uninstalling torchvision-0.23.0+cu126:\n",
            "      Successfully uninstalled torchvision-0.23.0+cu126\n",
            "ERROR: pip's dependency resolver does not currently take into account all the packages that are installed. This behaviour is the source of the following dependency conflicts.\n",
            "plotnine 0.14.5 requires matplotlib>=3.8.0, but you have matplotlib 3.5.2 which is incompatible.\n",
            "torchaudio 2.8.0+cu126 requires torch==2.8.0, but you have torch 2.2.2 which is incompatible.\n",
            "arviz 0.22.0 requires matplotlib>=3.8, but you have matplotlib 3.5.2 which is incompatible.\n",
            "bigframes 2.17.0 requires matplotlib>=3.7.1, but you have matplotlib 3.5.2 which is incompatible.\n",
            "Successfully installed matplotlib-3.5.2 nvidia-cublas-cu12-12.1.3.1 nvidia-cuda-cupti-cu12-12.1.105 nvidia-cuda-nvrtc-cu12-12.1.105 nvidia-cuda-runtime-cu12-12.1.105 nvidia-cudnn-cu12-8.9.2.26 nvidia-cufft-cu12-11.0.2.54 nvidia-curand-cu12-10.3.2.106 nvidia-cusolver-cu12-11.4.5.107 nvidia-cusparse-cu12-12.1.0.106 nvidia-nccl-cu12-2.19.3 nvidia-nvtx-cu12-12.1.105 torch-2.2.2 torchvision-0.17.2\n",
            "\n"
          ]
        },
        {
          "output_type": "stream",
          "name": "stderr",
          "text": [
            "/usr/lib/python3.12/importlib/__init__.py:90: UserWarning: The NumPy module was reloaded (imported a second time). This can in some cases result in small but subtle issues and is discouraged.\n",
            "  return _bootstrap._gcd_import(name[level:], package, level)\n",
            "\n",
            "A module that was compiled using NumPy 1.x cannot be run in\n",
            "NumPy 2.0.2 as it may crash. To support both 1.x and 2.x\n",
            "versions of NumPy, modules must be compiled with NumPy 2.0.\n",
            "Some module may need to rebuild instead e.g. with 'pybind11>=2.12'.\n",
            "\n",
            "If you are a user of the module, the easiest solution will be to\n",
            "downgrade to 'numpy<2' or try to upgrade the affected module.\n",
            "We expect that some modules will need time to support NumPy 2.\n",
            "\n",
            "Traceback (most recent call last):  File \"<frozen runpy>\", line 198, in _run_module_as_main\n",
            "  File \"<frozen runpy>\", line 88, in _run_code\n",
            "  File \"/usr/local/lib/python3.12/dist-packages/colab_kernel_launcher.py\", line 37, in <module>\n",
            "    ColabKernelApp.launch_instance()\n",
            "  File \"/usr/local/lib/python3.12/dist-packages/traitlets/config/application.py\", line 992, in launch_instance\n",
            "    app.start()\n",
            "  File \"/usr/local/lib/python3.12/dist-packages/ipykernel/kernelapp.py\", line 712, in start\n",
            "    self.io_loop.start()\n",
            "  File \"/usr/local/lib/python3.12/dist-packages/tornado/platform/asyncio.py\", line 205, in start\n",
            "    self.asyncio_loop.run_forever()\n",
            "  File \"/usr/lib/python3.12/asyncio/base_events.py\", line 645, in run_forever\n",
            "    self._run_once()\n",
            "  File \"/usr/lib/python3.12/asyncio/base_events.py\", line 1999, in _run_once\n",
            "    handle._run()\n",
            "  File \"/usr/lib/python3.12/asyncio/events.py\", line 88, in _run\n",
            "    self._context.run(self._callback, *self._args)\n",
            "  File \"/usr/local/lib/python3.12/dist-packages/ipykernel/kernelbase.py\", line 510, in dispatch_queue\n",
            "    await self.process_one()\n",
            "  File \"/usr/local/lib/python3.12/dist-packages/ipykernel/kernelbase.py\", line 499, in process_one\n",
            "    await dispatch(*args)\n",
            "  File \"/usr/local/lib/python3.12/dist-packages/ipykernel/kernelbase.py\", line 406, in dispatch_shell\n",
            "    await result\n",
            "  File \"/usr/local/lib/python3.12/dist-packages/ipykernel/kernelbase.py\", line 730, in execute_request\n",
            "    reply_content = await reply_content\n",
            "  File \"/usr/local/lib/python3.12/dist-packages/ipykernel/ipkernel.py\", line 383, in do_execute\n",
            "    res = shell.run_cell(\n",
            "  File \"/usr/local/lib/python3.12/dist-packages/ipykernel/zmqshell.py\", line 528, in run_cell\n",
            "    return super().run_cell(*args, **kwargs)\n",
            "  File \"/usr/local/lib/python3.12/dist-packages/IPython/core/interactiveshell.py\", line 2975, in run_cell\n",
            "    result = self._run_cell(\n",
            "  File \"/usr/local/lib/python3.12/dist-packages/IPython/core/interactiveshell.py\", line 3030, in _run_cell\n",
            "    return runner(coro)\n",
            "  File \"/usr/local/lib/python3.12/dist-packages/IPython/core/async_helpers.py\", line 78, in _pseudo_sync_runner\n",
            "    coro.send(None)\n",
            "  File \"/usr/local/lib/python3.12/dist-packages/IPython/core/interactiveshell.py\", line 3257, in run_cell_async\n",
            "    has_raised = await self.run_ast_nodes(code_ast.body, cell_name,\n",
            "  File \"/usr/local/lib/python3.12/dist-packages/IPython/core/interactiveshell.py\", line 3473, in run_ast_nodes\n",
            "    if (await self.run_code(code, result,  async_=asy)):\n",
            "  File \"/usr/local/lib/python3.12/dist-packages/IPython/core/interactiveshell.py\", line 3553, in run_code\n",
            "    exec(code_obj, self.user_global_ns, self.user_ns)\n",
            "  File \"/tmp/ipython-input-1094714423.py\", line 50, in <cell line: 0>\n",
            "    torch = safe_import(\"torch\")\n",
            "  File \"/tmp/ipython-input-1094714423.py\", line 41, in safe_import\n",
            "    mod = importlib.import_module(name)\n",
            "  File \"/usr/lib/python3.12/importlib/__init__.py\", line 90, in import_module\n",
            "    return _bootstrap._gcd_import(name[level:], package, level)\n",
            "  File \"/usr/local/lib/python3.12/dist-packages/torch/__init__.py\", line 1477, in <module>\n",
            "    from .functional import *  # noqa: F403\n",
            "  File \"/usr/local/lib/python3.12/dist-packages/torch/functional.py\", line 9, in <module>\n",
            "    import torch.nn.functional as F\n",
            "  File \"/usr/local/lib/python3.12/dist-packages/torch/nn/__init__.py\", line 1, in <module>\n",
            "    from .modules import *  # noqa: F403\n",
            "  File \"/usr/local/lib/python3.12/dist-packages/torch/nn/modules/__init__.py\", line 35, in <module>\n",
            "    from .transformer import TransformerEncoder, TransformerDecoder, \\\n",
            "  File \"/usr/local/lib/python3.12/dist-packages/torch/nn/modules/transformer.py\", line 20, in <module>\n",
            "    device: torch.device = torch.device(torch._C._get_default_device()),  # torch.device('cpu'),\n",
            "/usr/local/lib/python3.12/dist-packages/torch/nn/modules/transformer.py:20: UserWarning: Failed to initialize NumPy: _ARRAY_API not found (Triggered internally at ../torch/csrc/utils/tensor_numpy.cpp:84.)\n",
            "  device: torch.device = torch.device(torch._C._get_default_device()),  # torch.device('cpu'),\n"
          ]
        },
        {
          "output_type": "stream",
          "name": "stdout",
          "text": [
            "\n",
            "📦 Versions after install:\n",
            "  numpy: 2.0.2\n",
            "  matplotlib: IMPORT ERROR: cannot import name 'MatplotlibDeprecationWarning' from 'matplotlib.cbook' (/usr/local/lib/python3.12/dist-packages/matplotlib/cbook.py)\n",
            "  torch: 2.2.2+cu121\n",
            "  torchvision: IMPORT ERROR: maximum recursion depth exceeded\n",
            "\n",
            "🧮 CUDA available: False\n",
            "🧩 GPU: N/A\n",
            "Torch smoke test (mean): 0.28484535217285156\n",
            "\n",
            "✅ Finished installs with base NumPy preserved (unless a hard dependency required change).\n"
          ]
        }
      ]
    },
    {
      "cell_type": "markdown",
      "source": [
        "## 📦 Compatibility Notes\n",
        "\n",
        "During installation we observed two conflicts:\n",
        "\n",
        "1. **Matplotlib vs NumPy**\n",
        "   - `matplotlib==3.5.2` **does not support** `numpy>=2.0`.\n",
        "   - Colab’s base environment currently ships with **NumPy 2.0.2**, which triggers:\n",
        "     ```\n",
        "     IMPORT ERROR: cannot import name 'MatplotlibDeprecationWarning'\n",
        "     ```\n",
        "   - ✅ Solution: upgrade to a newer Matplotlib (≥3.8) if you want to keep NumPy 2.x,  \n",
        "     or downgrade NumPy (<2.0) if you need to keep Matplotlib 3.5.x.\n",
        "\n",
        "2. **Torchvision recursion error**\n",
        "   - With NumPy 2.0.2, some prebuilt torchvision wheels misbehave and hit:\n",
        "     ```\n",
        "     IMPORT ERROR: maximum recursion depth exceeded\n",
        "     ```\n",
        "   - ✅ Solution: reinstall torchvision against a consistent NumPy / Pillow stack.\n",
        "\n",
        "---\n",
        "\n",
        "### 🔧 Two Resolution Paths\n",
        "\n",
        "- **Path A (Recommended for Colab)**  \n",
        "  Keep base NumPy (2.0.x)  \n",
        "  - Upgrade Matplotlib (e.g. `3.9.x`)  \n",
        "  - Ensure torchvision and Pillow are freshly installed\n",
        "\n",
        "- **Path B (Strict version pinning)**  \n",
        "  Downgrade NumPy to `<2.0`  \n",
        "  - Keep legacy `matplotlib==3.5.2`  \n",
        "  - Reinstall torch/torchvision without upgrading NumPy\n",
        "\n",
        "---\n",
        "\n",
        "👉 Use Path A if you want smoother compatibility with Colab defaults.  \n",
        "👉 Use Path B only if you must replicate an older environment.\n",
        "\n",
        "After running either path, verify with:\n",
        "```python\n",
        "import numpy, matplotlib, torch, torchvision, PIL\n",
        "print(numpy.__version__, matplotlib.__version__, torch.__version__, torchvision.__version__, PIL.__version__)\n"
      ],
      "metadata": {
        "id": "xGTe0iy9_0-h"
      }
    },
    {
      "cell_type": "code",
      "source": [
        "#@title Repair stack while keeping base NumPy (2.0.x)\n",
        "import sys, subprocess, textwrap, importlib\n",
        "\n",
        "def run(cmd):\n",
        "    print(f\"\\n+ {cmd}\");\n",
        "    r = subprocess.run(cmd, shell=True, text=True, stdout=subprocess.PIPE, stderr=subprocess.STDOUT)\n",
        "    print(r.stdout);\n",
        "    return r.returncode\n",
        "\n",
        "print(\"🐍 Python:\", sys.version)\n",
        "try:\n",
        "    import numpy as _np\n",
        "    print(\"Pre NumPy:\", _np.__version__)\n",
        "except Exception as e:\n",
        "    print(\"Pre NumPy import error:\", e)\n",
        "\n",
        "# 1) Make sure matplotlib is compatible with NumPy 2.0 (need >=3.8; use 3.9.x)\n",
        "# 2) Reinstall torchvision clean; ensure Pillow is recent\n",
        "cmd = \"\"\"\n",
        "pip install --no-cache-dir --upgrade \\\n",
        "  \"matplotlib>=3.9,<3.10\" \\\n",
        "  \"pillow>=10\" \\\n",
        "  \"torch==2.2.*\" \"torchvision==0.17.*\"\n",
        "\"\"\"\n",
        "run(cmd)\n",
        "\n",
        "# Clean module cache before testing\n",
        "for m in [\"numpy\",\"matplotlib\",\"torch\",\"torchvision\",\"PIL\"]:\n",
        "    if m in sys.modules: del sys.modules[m]\n",
        "\n",
        "import importlib\n",
        "\n",
        "def ver(name):\n",
        "    try:\n",
        "        m = importlib.import_module(name)\n",
        "        return getattr(m, \"__version__\", \"(no __version__)\")\n",
        "    except Exception as e:\n",
        "        return f\"IMPORT ERROR: {e}\"\n",
        "\n",
        "print(\"\\n📦 Versions after install:\")\n",
        "print(\"  numpy:\", ver(\"numpy\"))\n",
        "print(\"  matplotlib:\", ver(\"matplotlib\"))\n",
        "print(\"  torch:\", ver(\"torch\"))\n",
        "print(\"  torchvision:\", ver(\"torchvision\"))\n",
        "print(\"  pillow:\", ver(\"PIL\"))\n",
        "\n",
        "# Smoke tests\n",
        "try:\n",
        "    import torch\n",
        "    print(\"CUDA available:\", torch.cuda.is_available())\n",
        "    if torch.cuda.is_available():\n",
        "        print(\"GPU:\", torch.cuda.get_device_name(0))\n",
        "    x = torch.randn(3, 4).mean().item()\n",
        "    print(\"Torch smoke test mean:\", x)\n",
        "except Exception as e:\n",
        "    print(\"Torch smoke test error:\", e)\n",
        "\n",
        "try:\n",
        "    import matplotlib.pyplot as plt\n",
        "    plt.plot([0,1],[0,1]); plt.close()\n",
        "    print(\"Matplotlib smoke test: OK\")\n",
        "except Exception as e:\n",
        "    print(\"Matplotlib smoke test error:\", e)\n",
        "\n",
        "try:\n",
        "    from torchvision import transforms\n",
        "    t = transforms.ToTensor()\n",
        "    print(\"torchvision smoke test:\", type(t).__name__)\n",
        "except Exception as e:\n",
        "    print(\"torchvision smoke test error:\", e)\n"
      ],
      "metadata": {
        "colab": {
          "base_uri": "https://localhost:8080/"
        },
        "id": "AOVHMybfANh7",
        "outputId": "14f17790-6eca-47a6-b292-cb953cff73ba"
      },
      "execution_count": 2,
      "outputs": [
        {
          "output_type": "stream",
          "name": "stdout",
          "text": [
            "🐍 Python: 3.12.11 (main, Jun  4 2025, 08:56:18) [GCC 11.4.0]\n",
            "Pre NumPy: 2.0.2\n",
            "\n",
            "+ \n",
            "pip install --no-cache-dir --upgrade   \"matplotlib>=3.9,<3.10\"   \"pillow>=10\"   \"torch==2.2.*\" \"torchvision==0.17.*\"\n",
            "\n",
            "Collecting matplotlib<3.10,>=3.9\n",
            "  Downloading matplotlib-3.9.4-cp312-cp312-manylinux_2_17_x86_64.manylinux2014_x86_64.whl.metadata (11 kB)\n",
            "Requirement already satisfied: pillow>=10 in /usr/local/lib/python3.12/dist-packages (11.3.0)\n",
            "Requirement already satisfied: torch==2.2.* in /usr/local/lib/python3.12/dist-packages (2.2.2)\n",
            "Requirement already satisfied: torchvision==0.17.* in /usr/local/lib/python3.12/dist-packages (0.17.2)\n",
            "Requirement already satisfied: filelock in /usr/local/lib/python3.12/dist-packages (from torch==2.2.*) (3.19.1)\n",
            "Requirement already satisfied: typing-extensions>=4.8.0 in /usr/local/lib/python3.12/dist-packages (from torch==2.2.*) (4.15.0)\n",
            "Requirement already satisfied: sympy in /usr/local/lib/python3.12/dist-packages (from torch==2.2.*) (1.13.3)\n",
            "Requirement already satisfied: networkx in /usr/local/lib/python3.12/dist-packages (from torch==2.2.*) (3.5)\n",
            "Requirement already satisfied: jinja2 in /usr/local/lib/python3.12/dist-packages (from torch==2.2.*) (3.1.6)\n",
            "Requirement already satisfied: fsspec in /usr/local/lib/python3.12/dist-packages (from torch==2.2.*) (2025.3.0)\n",
            "Requirement already satisfied: nvidia-cuda-nvrtc-cu12==12.1.105 in /usr/local/lib/python3.12/dist-packages (from torch==2.2.*) (12.1.105)\n",
            "Requirement already satisfied: nvidia-cuda-runtime-cu12==12.1.105 in /usr/local/lib/python3.12/dist-packages (from torch==2.2.*) (12.1.105)\n",
            "Requirement already satisfied: nvidia-cuda-cupti-cu12==12.1.105 in /usr/local/lib/python3.12/dist-packages (from torch==2.2.*) (12.1.105)\n",
            "Requirement already satisfied: nvidia-cudnn-cu12==8.9.2.26 in /usr/local/lib/python3.12/dist-packages (from torch==2.2.*) (8.9.2.26)\n",
            "Requirement already satisfied: nvidia-cublas-cu12==12.1.3.1 in /usr/local/lib/python3.12/dist-packages (from torch==2.2.*) (12.1.3.1)\n",
            "Requirement already satisfied: nvidia-cufft-cu12==11.0.2.54 in /usr/local/lib/python3.12/dist-packages (from torch==2.2.*) (11.0.2.54)\n",
            "Requirement already satisfied: nvidia-curand-cu12==10.3.2.106 in /usr/local/lib/python3.12/dist-packages (from torch==2.2.*) (10.3.2.106)\n",
            "Requirement already satisfied: nvidia-cusolver-cu12==11.4.5.107 in /usr/local/lib/python3.12/dist-packages (from torch==2.2.*) (11.4.5.107)\n",
            "Requirement already satisfied: nvidia-cusparse-cu12==12.1.0.106 in /usr/local/lib/python3.12/dist-packages (from torch==2.2.*) (12.1.0.106)\n",
            "Requirement already satisfied: nvidia-nccl-cu12==2.19.3 in /usr/local/lib/python3.12/dist-packages (from torch==2.2.*) (2.19.3)\n",
            "Requirement already satisfied: nvidia-nvtx-cu12==12.1.105 in /usr/local/lib/python3.12/dist-packages (from torch==2.2.*) (12.1.105)\n",
            "Requirement already satisfied: numpy in /usr/local/lib/python3.12/dist-packages (from torchvision==0.17.*) (2.0.2)\n",
            "Requirement already satisfied: nvidia-nvjitlink-cu12 in /usr/local/lib/python3.12/dist-packages (from nvidia-cusolver-cu12==11.4.5.107->torch==2.2.*) (12.6.85)\n",
            "Requirement already satisfied: contourpy>=1.0.1 in /usr/local/lib/python3.12/dist-packages (from matplotlib<3.10,>=3.9) (1.3.3)\n",
            "Requirement already satisfied: cycler>=0.10 in /usr/local/lib/python3.12/dist-packages (from matplotlib<3.10,>=3.9) (0.12.1)\n",
            "Requirement already satisfied: fonttools>=4.22.0 in /usr/local/lib/python3.12/dist-packages (from matplotlib<3.10,>=3.9) (4.59.1)\n",
            "Requirement already satisfied: kiwisolver>=1.3.1 in /usr/local/lib/python3.12/dist-packages (from matplotlib<3.10,>=3.9) (1.4.9)\n",
            "Requirement already satisfied: packaging>=20.0 in /usr/local/lib/python3.12/dist-packages (from matplotlib<3.10,>=3.9) (25.0)\n",
            "Requirement already satisfied: pyparsing>=2.3.1 in /usr/local/lib/python3.12/dist-packages (from matplotlib<3.10,>=3.9) (3.2.3)\n",
            "Requirement already satisfied: python-dateutil>=2.7 in /usr/local/lib/python3.12/dist-packages (from matplotlib<3.10,>=3.9) (2.9.0.post0)\n",
            "Requirement already satisfied: six>=1.5 in /usr/local/lib/python3.12/dist-packages (from python-dateutil>=2.7->matplotlib<3.10,>=3.9) (1.17.0)\n",
            "Requirement already satisfied: MarkupSafe>=2.0 in /usr/local/lib/python3.12/dist-packages (from jinja2->torch==2.2.*) (3.0.2)\n",
            "Requirement already satisfied: mpmath<1.4,>=1.1.0 in /usr/local/lib/python3.12/dist-packages (from sympy->torch==2.2.*) (1.3.0)\n",
            "Downloading matplotlib-3.9.4-cp312-cp312-manylinux_2_17_x86_64.manylinux2014_x86_64.whl (8.3 MB)\n",
            "   ━━━━━━━━━━━━━━━━━━━━━━━━━━━━━━━━━━━━━━━━ 8.3/8.3 MB 94.3 MB/s eta 0:00:00\n",
            "Installing collected packages: matplotlib\n",
            "  Attempting uninstall: matplotlib\n",
            "    Found existing installation: matplotlib 3.5.2\n",
            "    Uninstalling matplotlib-3.5.2:\n",
            "      Successfully uninstalled matplotlib-3.5.2\n",
            "Successfully installed matplotlib-3.9.4\n",
            "\n",
            "\n",
            "📦 Versions after install:\n",
            "  numpy: 2.0.2\n",
            "  matplotlib: IMPORT ERROR: 'axes3d.mouserotationstyle'\n",
            "  torch: IMPORT ERROR: name '_C' is not defined\n",
            "  torchvision: IMPORT ERROR: name '_C' is not defined\n",
            "  pillow: 11.3.0\n",
            "Torch smoke test error: name '_C' is not defined\n",
            "Matplotlib smoke test error: 'axes3d.mouserotationstyle'\n",
            "torchvision smoke test error: name '_C' is not defined\n"
          ]
        },
        {
          "output_type": "stream",
          "name": "stderr",
          "text": [
            "/usr/lib/python3.12/importlib/__init__.py:90: UserWarning: The NumPy module was reloaded (imported a second time). This can in some cases result in small but subtle issues and is discouraged.\n",
            "  return _bootstrap._gcd_import(name[level:], package, level)\n"
          ]
        }
      ]
    },
    {
      "cell_type": "markdown",
      "source": [
        "## 🔧 Repair plan (Colab, Python 3.12)\n",
        "- Upgrade to **PyTorch 2.3.x** and **torchvision 0.18.x** (first releases with official Py3.12 wheels).\n",
        "- Keep **NumPy 2.0.x** (Colab default).\n",
        "- Use **Matplotlib 3.9.x**, compatible with NumPy 2.x.\n",
        "- Fresh reinstall to clear stale native extensions; then **Restart runtime** before verifying.\n"
      ],
      "metadata": {
        "id": "MqHDW1GaAoZZ"
      }
    },
    {
      "cell_type": "code",
      "source": [
        "#@title 1) Install compatible versions (Py3.12-friendly)\n",
        "import subprocess, sys\n",
        "\n",
        "def run(cmd):\n",
        "    print(\"+\", cmd)\n",
        "    r = subprocess.run(cmd, shell=True, text=True, stdout=subprocess.PIPE, stderr=subprocess.STDOUT)\n",
        "    print(r.stdout)\n",
        "    return r.returncode\n",
        "\n",
        "# Clean any old/broken wheels first\n",
        "run(\"pip uninstall -y torch torchvision torchaudio matplotlib pillow || true\")\n",
        "\n",
        "# Install Python 3.12–compatible stack (keeps NumPy 2.x)\n",
        "# If you want CUDA 12.1 wheels on Colab, PyTorch will select them automatically.\n",
        "run(\"\"\"pip install --no-cache-dir \\\n",
        "  'torch==2.3.*' 'torchvision==0.18.*' \\\n",
        "  'matplotlib>=3.9,<3.10' 'pillow>=10'\"\"\")\n",
        "\n",
        "print(\"\\n✅ Install step done. Now go to: Runtime → Restart runtime. Then run the next cell.\")\n"
      ],
      "metadata": {
        "colab": {
          "base_uri": "https://localhost:8080/"
        },
        "id": "JwLKpUxPAq2p",
        "outputId": "cb543502-e5fc-43bb-e263-09f8f712e5e8"
      },
      "execution_count": 3,
      "outputs": [
        {
          "output_type": "stream",
          "name": "stdout",
          "text": [
            "+ pip uninstall -y torch torchvision torchaudio matplotlib pillow || true\n",
            "Found existing installation: torch 2.2.2\n",
            "Uninstalling torch-2.2.2:\n",
            "  Successfully uninstalled torch-2.2.2\n",
            "Found existing installation: torchvision 0.17.2\n",
            "Uninstalling torchvision-0.17.2:\n",
            "  Successfully uninstalled torchvision-0.17.2\n",
            "Found existing installation: torchaudio 2.8.0+cu126\n",
            "Uninstalling torchaudio-2.8.0+cu126:\n",
            "  Successfully uninstalled torchaudio-2.8.0+cu126\n",
            "Found existing installation: matplotlib 3.9.4\n",
            "Uninstalling matplotlib-3.9.4:\n",
            "  Successfully uninstalled matplotlib-3.9.4\n",
            "Found existing installation: pillow 11.3.0\n",
            "Uninstalling pillow-11.3.0:\n",
            "  Successfully uninstalled pillow-11.3.0\n",
            "\n",
            "+ pip install --no-cache-dir   'torch==2.3.*' 'torchvision==0.18.*'   'matplotlib>=3.9,<3.10' 'pillow>=10'\n",
            "Collecting torch==2.3.*\n",
            "  Downloading torch-2.3.1-cp312-cp312-manylinux1_x86_64.whl.metadata (26 kB)\n",
            "Collecting torchvision==0.18.*\n",
            "  Downloading torchvision-0.18.1-cp312-cp312-manylinux1_x86_64.whl.metadata (6.6 kB)\n",
            "Collecting matplotlib<3.10,>=3.9\n",
            "  Downloading matplotlib-3.9.4-cp312-cp312-manylinux_2_17_x86_64.manylinux2014_x86_64.whl.metadata (11 kB)\n",
            "Collecting pillow>=10\n",
            "  Downloading pillow-11.3.0-cp312-cp312-manylinux_2_27_x86_64.manylinux_2_28_x86_64.whl.metadata (9.0 kB)\n",
            "Requirement already satisfied: filelock in /usr/local/lib/python3.12/dist-packages (from torch==2.3.*) (3.19.1)\n",
            "Requirement already satisfied: typing-extensions>=4.8.0 in /usr/local/lib/python3.12/dist-packages (from torch==2.3.*) (4.15.0)\n",
            "Requirement already satisfied: sympy in /usr/local/lib/python3.12/dist-packages (from torch==2.3.*) (1.13.3)\n",
            "Requirement already satisfied: networkx in /usr/local/lib/python3.12/dist-packages (from torch==2.3.*) (3.5)\n",
            "Requirement already satisfied: jinja2 in /usr/local/lib/python3.12/dist-packages (from torch==2.3.*) (3.1.6)\n",
            "Requirement already satisfied: fsspec in /usr/local/lib/python3.12/dist-packages (from torch==2.3.*) (2025.3.0)\n",
            "Requirement already satisfied: nvidia-cuda-nvrtc-cu12==12.1.105 in /usr/local/lib/python3.12/dist-packages (from torch==2.3.*) (12.1.105)\n",
            "Requirement already satisfied: nvidia-cuda-runtime-cu12==12.1.105 in /usr/local/lib/python3.12/dist-packages (from torch==2.3.*) (12.1.105)\n",
            "Requirement already satisfied: nvidia-cuda-cupti-cu12==12.1.105 in /usr/local/lib/python3.12/dist-packages (from torch==2.3.*) (12.1.105)\n",
            "Requirement already satisfied: nvidia-cudnn-cu12==8.9.2.26 in /usr/local/lib/python3.12/dist-packages (from torch==2.3.*) (8.9.2.26)\n",
            "Requirement already satisfied: nvidia-cublas-cu12==12.1.3.1 in /usr/local/lib/python3.12/dist-packages (from torch==2.3.*) (12.1.3.1)\n",
            "Requirement already satisfied: nvidia-cufft-cu12==11.0.2.54 in /usr/local/lib/python3.12/dist-packages (from torch==2.3.*) (11.0.2.54)\n",
            "Requirement already satisfied: nvidia-curand-cu12==10.3.2.106 in /usr/local/lib/python3.12/dist-packages (from torch==2.3.*) (10.3.2.106)\n",
            "Requirement already satisfied: nvidia-cusolver-cu12==11.4.5.107 in /usr/local/lib/python3.12/dist-packages (from torch==2.3.*) (11.4.5.107)\n",
            "Requirement already satisfied: nvidia-cusparse-cu12==12.1.0.106 in /usr/local/lib/python3.12/dist-packages (from torch==2.3.*) (12.1.0.106)\n",
            "Collecting nvidia-nccl-cu12==2.20.5 (from torch==2.3.*)\n",
            "  Downloading nvidia_nccl_cu12-2.20.5-py3-none-manylinux2014_x86_64.whl.metadata (1.8 kB)\n",
            "Requirement already satisfied: nvidia-nvtx-cu12==12.1.105 in /usr/local/lib/python3.12/dist-packages (from torch==2.3.*) (12.1.105)\n",
            "Requirement already satisfied: numpy in /usr/local/lib/python3.12/dist-packages (from torchvision==0.18.*) (2.0.2)\n",
            "Requirement already satisfied: nvidia-nvjitlink-cu12 in /usr/local/lib/python3.12/dist-packages (from nvidia-cusolver-cu12==11.4.5.107->torch==2.3.*) (12.6.85)\n",
            "Requirement already satisfied: contourpy>=1.0.1 in /usr/local/lib/python3.12/dist-packages (from matplotlib<3.10,>=3.9) (1.3.3)\n",
            "Requirement already satisfied: cycler>=0.10 in /usr/local/lib/python3.12/dist-packages (from matplotlib<3.10,>=3.9) (0.12.1)\n",
            "Requirement already satisfied: fonttools>=4.22.0 in /usr/local/lib/python3.12/dist-packages (from matplotlib<3.10,>=3.9) (4.59.1)\n",
            "Requirement already satisfied: kiwisolver>=1.3.1 in /usr/local/lib/python3.12/dist-packages (from matplotlib<3.10,>=3.9) (1.4.9)\n",
            "Requirement already satisfied: packaging>=20.0 in /usr/local/lib/python3.12/dist-packages (from matplotlib<3.10,>=3.9) (25.0)\n",
            "Requirement already satisfied: pyparsing>=2.3.1 in /usr/local/lib/python3.12/dist-packages (from matplotlib<3.10,>=3.9) (3.2.3)\n",
            "Requirement already satisfied: python-dateutil>=2.7 in /usr/local/lib/python3.12/dist-packages (from matplotlib<3.10,>=3.9) (2.9.0.post0)\n",
            "Requirement already satisfied: six>=1.5 in /usr/local/lib/python3.12/dist-packages (from python-dateutil>=2.7->matplotlib<3.10,>=3.9) (1.17.0)\n",
            "Requirement already satisfied: MarkupSafe>=2.0 in /usr/local/lib/python3.12/dist-packages (from jinja2->torch==2.3.*) (3.0.2)\n",
            "Requirement already satisfied: mpmath<1.4,>=1.1.0 in /usr/local/lib/python3.12/dist-packages (from sympy->torch==2.3.*) (1.3.0)\n",
            "Downloading torch-2.3.1-cp312-cp312-manylinux1_x86_64.whl (779.1 MB)\n",
            "   ━━━━━━━━━━━━━━━━━━━━━━━━━━━━━━━━━━━━━━━━ 779.1/779.1 MB 74.4 MB/s eta 0:00:00\n",
            "Downloading torchvision-0.18.1-cp312-cp312-manylinux1_x86_64.whl (7.0 MB)\n",
            "   ━━━━━━━━━━━━━━━━━━━━━━━━━━━━━━━━━━━━━━━━ 7.0/7.0 MB 96.4 MB/s eta 0:00:00\n",
            "Downloading nvidia_nccl_cu12-2.20.5-py3-none-manylinux2014_x86_64.whl (176.2 MB)\n",
            "   ━━━━━━━━━━━━━━━━━━━━━━━━━━━━━━━━━━━━━━━ 176.2/176.2 MB 108.5 MB/s eta 0:00:00\n",
            "Downloading matplotlib-3.9.4-cp312-cp312-manylinux_2_17_x86_64.manylinux2014_x86_64.whl (8.3 MB)\n",
            "   ━━━━━━━━━━━━━━━━━━━━━━━━━━━━━━━━━━━━━━━━ 8.3/8.3 MB 92.7 MB/s eta 0:00:00\n",
            "Downloading pillow-11.3.0-cp312-cp312-manylinux_2_27_x86_64.manylinux_2_28_x86_64.whl (6.6 MB)\n",
            "   ━━━━━━━━━━━━━━━━━━━━━━━━━━━━━━━━━━━━━━━━ 6.6/6.6 MB 108.6 MB/s eta 0:00:00\n",
            "Installing collected packages: pillow, nvidia-nccl-cu12, matplotlib, torch, torchvision\n",
            "  Attempting uninstall: nvidia-nccl-cu12\n",
            "    Found existing installation: nvidia-nccl-cu12 2.19.3\n",
            "    Uninstalling nvidia-nccl-cu12-2.19.3:\n",
            "      Successfully uninstalled nvidia-nccl-cu12-2.19.3\n",
            "Successfully installed matplotlib-3.9.4 nvidia-nccl-cu12-2.20.5 pillow-11.3.0 torch-2.3.1 torchvision-0.18.1\n",
            "\n",
            "\n",
            "✅ Install step done. Now go to: Runtime → Restart runtime. Then run the next cell.\n"
          ]
        }
      ]
    },
    {
      "cell_type": "markdown",
      "source": [
        "> ⛔ **Important:** After the install finishes, do **Runtime → Restart runtime**.  \n",
        "> Native extensions (like `torch._C`) won’t load reliably until you restart.\n"
      ],
      "metadata": {
        "id": "t0M7IW1vBUVn"
      }
    },
    {
      "cell_type": "code",
      "source": [
        "#@title 2) Verify after restart (versions + smoke tests)\n",
        "import importlib, sys\n",
        "\n",
        "pkgs = [\"numpy\", \"matplotlib\", \"torch\", \"torchvision\", \"PIL\"]\n",
        "for name in pkgs:\n",
        "    try:\n",
        "        m = importlib.import_module(name)\n",
        "        print(f\"{name:<12} {getattr(m, '__version__', '(no __version__)')}\")\n",
        "    except Exception as e:\n",
        "        print(f\"{name:<12} IMPORT ERROR: {e}\")\n",
        "\n",
        "# Torch smoke\n",
        "try:\n",
        "    import torch\n",
        "    print(\"CUDA available:\", torch.cuda.is_available())\n",
        "    if torch.cuda.is_available():\n",
        "        print(\"GPU:\", torch.cuda.get_device_name(0))\n",
        "    print(\"Torch mean:\", float(torch.randn(3,4).mean()))\n",
        "except Exception as e:\n",
        "    print(\"Torch smoke error:\", e)\n",
        "\n",
        "# Matplotlib smoke\n",
        "try:\n",
        "    import matplotlib.pyplot as plt\n",
        "    plt.plot([0,1],[0,1]); plt.close()\n",
        "    print(\"Matplotlib smoke: OK\")\n",
        "except Exception as e:\n",
        "    print(\"Matplotlib smoke error:\", e)\n",
        "\n",
        "# Torchvision smoke\n",
        "try:\n",
        "    from torchvision import transforms\n",
        "    print(\"torchvision smoke:\", transforms.ToTensor().__class__.__name__)\n",
        "except Exception as e:\n",
        "    print(\"torchvision smoke error:\", e)\n"
      ],
      "metadata": {
        "colab": {
          "base_uri": "https://localhost:8080/"
        },
        "id": "MpkzS3mSBQxH",
        "outputId": "5b1f4991-d904-4e4a-cc05-12257b2a0307"
      },
      "execution_count": 1,
      "outputs": [
        {
          "output_type": "stream",
          "name": "stdout",
          "text": [
            "numpy        2.0.2\n",
            "matplotlib   3.9.4\n",
            "torch        2.3.1+cu121\n",
            "torchvision  0.18.1+cu121\n",
            "PIL          11.3.0\n",
            "CUDA available: False\n",
            "Torch mean: 0.031465839594602585\n",
            "Matplotlib smoke: OK\n",
            "torchvision smoke: ToTensor\n"
          ]
        }
      ]
    },
    {
      "cell_type": "markdown",
      "source": [
        "## ✅ Post-fix status (Colab, Py3.12)\n",
        "- **NumPy**: 2.0.2  (kept Colab default)\n",
        "- **Matplotlib**: 3.9.4  (compatible with NumPy 2.x)\n",
        "- **PyTorch**: 2.3.1+cu121\n",
        "- **Torchvision**: 0.18.1+cu121\n",
        "- **Pillow**: 11.3.0\n",
        "- **Smoke tests**: Torch ✓, Matplotlib ✓, Torchvision (ToTensor) ✓\n",
        "\n",
        "### ℹ️ CUDA available: False\n",
        "This just means the notebook isn’t currently attached to a GPU. To use CUDA:\n",
        "1) **Runtime → Change runtime type → Hardware accelerator: GPU → Save**  \n",
        "2) Re-run the verify cell below.\n",
        "\n",
        "---\n",
        "\n",
        "### 🔍 Quick CUDA verify cell\n",
        "```python\n",
        "import torch, platform\n",
        "print(\"Python:\", platform.python_version())\n",
        "print(\"Torch:\", torch.__version__)\n",
        "print(\"Built with CUDA:\", torch.version.cuda)\n",
        "print(\"CUDA available:\", torch.cuda.is_available())\n",
        "if torch.cuda.is_available():\n",
        "    print(\"GPU:\", torch.cuda.get_device_name(0))\n",
        "    x = torch.randn(1024, 1024, device=\"cuda\").sum().item()\n",
        "    print(\"CUDA smoke:\", x)\n"
      ],
      "metadata": {
        "id": "fHOX5-iRBz0d"
      }
    },
    {
      "cell_type": "code",
      "source": [
        "import torch, platform\n",
        "print(\"Python:\", platform.python_version())\n",
        "print(\"Torch:\", torch.__version__)\n",
        "print(\"Built with CUDA:\", torch.version.cuda)\n",
        "print(\"CUDA available:\", torch.cuda.is_available())\n",
        "if torch.cuda.is_available():\n",
        "    print(\"GPU:\", torch.cuda.get_device_name(0))\n",
        "    x = torch.randn(1024, 1024, device=\"cuda\").sum().item()\n",
        "    print(\"CUDA smoke:\", x)"
      ],
      "metadata": {
        "colab": {
          "base_uri": "https://localhost:8080/"
        },
        "id": "SVZEjfoNCPK9",
        "outputId": "1a4ae49c-ef9d-41c2-8f70-e1d41bea3189"
      },
      "execution_count": 1,
      "outputs": [
        {
          "output_type": "stream",
          "name": "stdout",
          "text": [
            "Python: 3.12.11\n",
            "Torch: 2.8.0+cu126\n",
            "Built with CUDA: 12.6\n",
            "CUDA available: True\n",
            "GPU: Tesla T4\n",
            "CUDA smoke: 1163.18310546875\n"
          ]
        }
      ]
    },
    {
      "cell_type": "code",
      "source": [
        "import torch, time\n",
        "def bench(device):\n",
        "    x = torch.randn(4096, 4096, device=device)\n",
        "    t0 = time.time()\n",
        "    for _ in range(20):\n",
        "        y = x @ x\n",
        "    if device == \"cuda\":\n",
        "        torch.cuda.synchronize()\n",
        "    return time.time() - t0\n",
        "\n",
        "print(\"CPU (s):\", bench(\"cpu\"))\n",
        "if torch.cuda.is_available():\n",
        "    print(\"GPU (s):\", bench(\"cuda\"))\n"
      ],
      "metadata": {
        "colab": {
          "base_uri": "https://localhost:8080/"
        },
        "id": "eULoIx-WCnNE",
        "outputId": "0dc34d05-0324-4173-ebcf-283aba7b0452"
      },
      "execution_count": 2,
      "outputs": [
        {
          "output_type": "stream",
          "name": "stdout",
          "text": [
            "CPU (s): 42.74989151954651\n",
            "GPU (s): 0.8828153610229492\n"
          ]
        }
      ]
    },
    {
      "cell_type": "markdown",
      "source": [
        "# OLD Version"
      ],
      "metadata": {
        "id": "eWw41e1a9AN5"
      }
    },
    {
      "cell_type": "code",
      "source": [
        "# Compatibility issue:\n",
        "!pip install \"numpy<2.0\" --force-reinstall --no-cache-dir"
      ],
      "metadata": {
        "colab": {
          "base_uri": "https://localhost:8080/"
        },
        "id": "Jy8RGTTYC7AB",
        "outputId": "9dceb2e0-415e-4ad6-b333-0152b509ef63"
      },
      "execution_count": null,
      "outputs": [
        {
          "output_type": "stream",
          "name": "stdout",
          "text": [
            "Collecting numpy<2.0\n",
            "  Downloading numpy-1.26.4-cp311-cp311-manylinux_2_17_x86_64.manylinux2014_x86_64.whl.metadata (61 kB)\n",
            "\u001b[2K     \u001b[90m━━━━━━━━━━━━━━━━━━━━━━━━━━━━━━━━━━━━━━━━\u001b[0m \u001b[32m61.0/61.0 kB\u001b[0m \u001b[31m95.4 MB/s\u001b[0m eta \u001b[36m0:00:00\u001b[0m\n",
            "\u001b[?25hDownloading numpy-1.26.4-cp311-cp311-manylinux_2_17_x86_64.manylinux2014_x86_64.whl (18.3 MB)\n",
            "\u001b[2K   \u001b[90m━━━━━━━━━━━━━━━━━━━━━━━━━━━━━━━━━━━━━━━━\u001b[0m \u001b[32m18.3/18.3 MB\u001b[0m \u001b[31m90.9 MB/s\u001b[0m eta \u001b[36m0:00:00\u001b[0m\n",
            "\u001b[?25hInstalling collected packages: numpy\n",
            "  Attempting uninstall: numpy\n",
            "    Found existing installation: numpy 1.26.4\n",
            "    Uninstalling numpy-1.26.4:\n",
            "      Successfully uninstalled numpy-1.26.4\n",
            "\u001b[31mERROR: pip's dependency resolver does not currently take into account all the packages that are installed. This behaviour is the source of the following dependency conflicts.\n",
            "plotnine 0.14.5 requires matplotlib>=3.8.0, but you have matplotlib 3.5.2 which is incompatible.\n",
            "bigframes 2.4.0 requires matplotlib>=3.7.1, but you have matplotlib 3.5.2 which is incompatible.\n",
            "thinc 8.3.6 requires numpy<3.0.0,>=2.0.0, but you have numpy 1.26.4 which is incompatible.\u001b[0m\u001b[31m\n",
            "\u001b[0mSuccessfully installed numpy-1.26.4\n"
          ]
        }
      ]
    },
    {
      "cell_type": "code",
      "execution_count": null,
      "metadata": {
        "scrolled": true,
        "colab": {
          "base_uri": "https://localhost:8080/"
        },
        "id": "quKLCmizAC_s",
        "outputId": "7cbea714-49dd-421d-ce64-3d8e0ecb5b72"
      },
      "outputs": [
        {
          "output_type": "stream",
          "name": "stdout",
          "text": [
            "Requirement already satisfied: torch==2.2 in /usr/local/lib/python3.11/dist-packages (2.2.0)\n",
            "Requirement already satisfied: filelock in /usr/local/lib/python3.11/dist-packages (from torch==2.2) (3.18.0)\n",
            "Requirement already satisfied: typing-extensions>=4.8.0 in /usr/local/lib/python3.11/dist-packages (from torch==2.2) (4.13.2)\n",
            "Requirement already satisfied: sympy in /usr/local/lib/python3.11/dist-packages (from torch==2.2) (1.13.1)\n",
            "Requirement already satisfied: networkx in /usr/local/lib/python3.11/dist-packages (from torch==2.2) (3.4.2)\n",
            "Requirement already satisfied: jinja2 in /usr/local/lib/python3.11/dist-packages (from torch==2.2) (3.1.6)\n",
            "Requirement already satisfied: fsspec in /usr/local/lib/python3.11/dist-packages (from torch==2.2) (2025.3.2)\n",
            "Requirement already satisfied: nvidia-cuda-nvrtc-cu12==12.1.105 in /usr/local/lib/python3.11/dist-packages (from torch==2.2) (12.1.105)\n",
            "Requirement already satisfied: nvidia-cuda-runtime-cu12==12.1.105 in /usr/local/lib/python3.11/dist-packages (from torch==2.2) (12.1.105)\n",
            "Requirement already satisfied: nvidia-cuda-cupti-cu12==12.1.105 in /usr/local/lib/python3.11/dist-packages (from torch==2.2) (12.1.105)\n",
            "Requirement already satisfied: nvidia-cudnn-cu12==8.9.2.26 in /usr/local/lib/python3.11/dist-packages (from torch==2.2) (8.9.2.26)\n",
            "Requirement already satisfied: nvidia-cublas-cu12==12.1.3.1 in /usr/local/lib/python3.11/dist-packages (from torch==2.2) (12.1.3.1)\n",
            "Requirement already satisfied: nvidia-cufft-cu12==11.0.2.54 in /usr/local/lib/python3.11/dist-packages (from torch==2.2) (11.0.2.54)\n",
            "Requirement already satisfied: nvidia-curand-cu12==10.3.2.106 in /usr/local/lib/python3.11/dist-packages (from torch==2.2) (10.3.2.106)\n",
            "Requirement already satisfied: nvidia-cusolver-cu12==11.4.5.107 in /usr/local/lib/python3.11/dist-packages (from torch==2.2) (11.4.5.107)\n",
            "Requirement already satisfied: nvidia-cusparse-cu12==12.1.0.106 in /usr/local/lib/python3.11/dist-packages (from torch==2.2) (12.1.0.106)\n",
            "Requirement already satisfied: nvidia-nccl-cu12==2.19.3 in /usr/local/lib/python3.11/dist-packages (from torch==2.2) (2.19.3)\n",
            "Requirement already satisfied: nvidia-nvtx-cu12==12.1.105 in /usr/local/lib/python3.11/dist-packages (from torch==2.2) (12.1.105)\n",
            "Requirement already satisfied: triton==2.2.0 in /usr/local/lib/python3.11/dist-packages (from torch==2.2) (2.2.0)\n",
            "Requirement already satisfied: nvidia-nvjitlink-cu12 in /usr/local/lib/python3.11/dist-packages (from nvidia-cusolver-cu12==11.4.5.107->torch==2.2) (12.5.82)\n",
            "Requirement already satisfied: MarkupSafe>=2.0 in /usr/local/lib/python3.11/dist-packages (from jinja2->torch==2.2) (3.0.2)\n",
            "Requirement already satisfied: mpmath<1.4,>=1.1.0 in /usr/local/lib/python3.11/dist-packages (from sympy->torch==2.2) (1.3.0)\n",
            "Requirement already satisfied: torchvision==0.17 in /usr/local/lib/python3.11/dist-packages (0.17.0)\n",
            "Requirement already satisfied: numpy in /usr/local/lib/python3.11/dist-packages (from torchvision==0.17) (1.26.4)\n",
            "Requirement already satisfied: requests in /usr/local/lib/python3.11/dist-packages (from torchvision==0.17) (2.32.3)\n",
            "Requirement already satisfied: torch==2.2.0 in /usr/local/lib/python3.11/dist-packages (from torchvision==0.17) (2.2.0)\n",
            "Requirement already satisfied: pillow!=8.3.*,>=5.3.0 in /usr/local/lib/python3.11/dist-packages (from torchvision==0.17) (11.2.1)\n",
            "Requirement already satisfied: filelock in /usr/local/lib/python3.11/dist-packages (from torch==2.2.0->torchvision==0.17) (3.18.0)\n",
            "Requirement already satisfied: typing-extensions>=4.8.0 in /usr/local/lib/python3.11/dist-packages (from torch==2.2.0->torchvision==0.17) (4.13.2)\n",
            "Requirement already satisfied: sympy in /usr/local/lib/python3.11/dist-packages (from torch==2.2.0->torchvision==0.17) (1.13.1)\n",
            "Requirement already satisfied: networkx in /usr/local/lib/python3.11/dist-packages (from torch==2.2.0->torchvision==0.17) (3.4.2)\n",
            "Requirement already satisfied: jinja2 in /usr/local/lib/python3.11/dist-packages (from torch==2.2.0->torchvision==0.17) (3.1.6)\n",
            "Requirement already satisfied: fsspec in /usr/local/lib/python3.11/dist-packages (from torch==2.2.0->torchvision==0.17) (2025.3.2)\n",
            "Requirement already satisfied: nvidia-cuda-nvrtc-cu12==12.1.105 in /usr/local/lib/python3.11/dist-packages (from torch==2.2.0->torchvision==0.17) (12.1.105)\n",
            "Requirement already satisfied: nvidia-cuda-runtime-cu12==12.1.105 in /usr/local/lib/python3.11/dist-packages (from torch==2.2.0->torchvision==0.17) (12.1.105)\n",
            "Requirement already satisfied: nvidia-cuda-cupti-cu12==12.1.105 in /usr/local/lib/python3.11/dist-packages (from torch==2.2.0->torchvision==0.17) (12.1.105)\n",
            "Requirement already satisfied: nvidia-cudnn-cu12==8.9.2.26 in /usr/local/lib/python3.11/dist-packages (from torch==2.2.0->torchvision==0.17) (8.9.2.26)\n",
            "Requirement already satisfied: nvidia-cublas-cu12==12.1.3.1 in /usr/local/lib/python3.11/dist-packages (from torch==2.2.0->torchvision==0.17) (12.1.3.1)\n",
            "Requirement already satisfied: nvidia-cufft-cu12==11.0.2.54 in /usr/local/lib/python3.11/dist-packages (from torch==2.2.0->torchvision==0.17) (11.0.2.54)\n",
            "Requirement already satisfied: nvidia-curand-cu12==10.3.2.106 in /usr/local/lib/python3.11/dist-packages (from torch==2.2.0->torchvision==0.17) (10.3.2.106)\n",
            "Requirement already satisfied: nvidia-cusolver-cu12==11.4.5.107 in /usr/local/lib/python3.11/dist-packages (from torch==2.2.0->torchvision==0.17) (11.4.5.107)\n",
            "Requirement already satisfied: nvidia-cusparse-cu12==12.1.0.106 in /usr/local/lib/python3.11/dist-packages (from torch==2.2.0->torchvision==0.17) (12.1.0.106)\n",
            "Requirement already satisfied: nvidia-nccl-cu12==2.19.3 in /usr/local/lib/python3.11/dist-packages (from torch==2.2.0->torchvision==0.17) (2.19.3)\n",
            "Requirement already satisfied: nvidia-nvtx-cu12==12.1.105 in /usr/local/lib/python3.11/dist-packages (from torch==2.2.0->torchvision==0.17) (12.1.105)\n",
            "Requirement already satisfied: triton==2.2.0 in /usr/local/lib/python3.11/dist-packages (from torch==2.2.0->torchvision==0.17) (2.2.0)\n",
            "Requirement already satisfied: nvidia-nvjitlink-cu12 in /usr/local/lib/python3.11/dist-packages (from nvidia-cusolver-cu12==11.4.5.107->torch==2.2.0->torchvision==0.17) (12.5.82)\n",
            "Requirement already satisfied: charset-normalizer<4,>=2 in /usr/local/lib/python3.11/dist-packages (from requests->torchvision==0.17) (3.4.2)\n",
            "Requirement already satisfied: idna<4,>=2.5 in /usr/local/lib/python3.11/dist-packages (from requests->torchvision==0.17) (3.10)\n",
            "Requirement already satisfied: urllib3<3,>=1.21.1 in /usr/local/lib/python3.11/dist-packages (from requests->torchvision==0.17) (2.4.0)\n",
            "Requirement already satisfied: certifi>=2017.4.17 in /usr/local/lib/python3.11/dist-packages (from requests->torchvision==0.17) (2025.4.26)\n",
            "Requirement already satisfied: MarkupSafe>=2.0 in /usr/local/lib/python3.11/dist-packages (from jinja2->torch==2.2.0->torchvision==0.17) (3.0.2)\n",
            "Requirement already satisfied: mpmath<1.4,>=1.1.0 in /usr/local/lib/python3.11/dist-packages (from sympy->torch==2.2.0->torchvision==0.17) (1.3.0)\n",
            "Requirement already satisfied: matplotlib==3.5.2 in /usr/local/lib/python3.11/dist-packages (3.5.2)\n",
            "Requirement already satisfied: cycler>=0.10 in /usr/local/lib/python3.11/dist-packages (from matplotlib==3.5.2) (0.12.1)\n",
            "Requirement already satisfied: fonttools>=4.22.0 in /usr/local/lib/python3.11/dist-packages (from matplotlib==3.5.2) (4.58.0)\n",
            "Requirement already satisfied: kiwisolver>=1.0.1 in /usr/local/lib/python3.11/dist-packages (from matplotlib==3.5.2) (1.4.8)\n",
            "Requirement already satisfied: numpy>=1.17 in /usr/local/lib/python3.11/dist-packages (from matplotlib==3.5.2) (1.26.4)\n",
            "Requirement already satisfied: packaging>=20.0 in /usr/local/lib/python3.11/dist-packages (from matplotlib==3.5.2) (24.2)\n",
            "Requirement already satisfied: pillow>=6.2.0 in /usr/local/lib/python3.11/dist-packages (from matplotlib==3.5.2) (11.2.1)\n",
            "Requirement already satisfied: pyparsing>=2.2.1 in /usr/local/lib/python3.11/dist-packages (from matplotlib==3.5.2) (3.2.3)\n",
            "Requirement already satisfied: python-dateutil>=2.7 in /usr/local/lib/python3.11/dist-packages (from matplotlib==3.5.2) (2.9.0.post0)\n",
            "Requirement already satisfied: six>=1.5 in /usr/local/lib/python3.11/dist-packages (from python-dateutil>=2.7->matplotlib==3.5.2) (1.17.0)\n"
          ]
        }
      ],
      "source": [
        "!pip install torch==2.2\n",
        "!pip install torchvision==0.17\n",
        "!pip install matplotlib==3.5.2"
      ]
    },
    {
      "cell_type": "markdown",
      "source": [
        "# Ready To Code"
      ],
      "metadata": {
        "id": "nOUAI_WwCDUh"
      }
    },
    {
      "cell_type": "code",
      "execution_count": 3,
      "metadata": {
        "id": "EN1TY4cjAC_v"
      },
      "outputs": [],
      "source": [
        "import torch\n",
        "import torch.nn as nn\n",
        "import torch.nn.functional as F\n",
        "import torch.optim as optim\n",
        "from torch.utils.data import DataLoader\n",
        "from torchvision import datasets, transforms\n",
        "\n",
        "import matplotlib.pyplot as plt"
      ]
    },
    {
      "cell_type": "markdown",
      "metadata": {
        "id": "a9HPq3vOAC_w"
      },
      "source": [
        "## define model architecture"
      ]
    },
    {
      "cell_type": "code",
      "execution_count": 4,
      "metadata": {
        "id": "9TDIXqXnAC_w"
      },
      "outputs": [],
      "source": [
        "class ConvNet(nn.Module):\n",
        "    def __init__(self):\n",
        "        super(ConvNet, self).__init__()\n",
        "        self.cn1 = nn.Conv2d(1, 16, 3, 1)\n",
        "        self.cn2 = nn.Conv2d(16, 32, 3, 1)\n",
        "        self.dp1 = nn.Dropout2d(0.10)\n",
        "        self.dp2 = nn.Dropout2d(0.25)\n",
        "        self.fc1 = nn.Linear(4608, 64) # 4608 is basically 12 X 12 X 32\n",
        "        self.fc2 = nn.Linear(64, 10)\n",
        "\n",
        "    def forward(self, x):\n",
        "        x = self.cn1(x)\n",
        "        x = F.relu(x)\n",
        "        x = self.cn2(x)\n",
        "        x = F.relu(x)\n",
        "        x = F.max_pool2d(x, 2)\n",
        "        x = self.dp1(x)\n",
        "        x = torch.flatten(x, 1)\n",
        "        x = self.fc1(x)\n",
        "        x = F.relu(x)\n",
        "        x = self.dp2(x)\n",
        "        x = self.fc2(x)\n",
        "        op = F.log_softmax(x, dim=1)\n",
        "        return op"
      ]
    },
    {
      "cell_type": "markdown",
      "metadata": {
        "id": "PbjqsQr6AC_x"
      },
      "source": [
        "## define training and inference routines"
      ]
    },
    {
      "cell_type": "code",
      "execution_count": 5,
      "metadata": {
        "id": "GfF8-G48AC_x"
      },
      "outputs": [],
      "source": [
        "def train_ORIGINAL(model, device, train_dataloader, optim, epoch):\n",
        "    model.train()\n",
        "    for b_i, (X, y) in enumerate(train_dataloader):\n",
        "        X, y = X.to(device), y.to(device)\n",
        "        optim.zero_grad()\n",
        "        pred_prob = model(X)\n",
        "        loss = F.nll_loss(pred_prob, y) # nll is the negative likelihood loss\n",
        "        loss.backward()\n",
        "        optim.step()\n",
        "        if b_i % 10 == 0:\n",
        "            print('epoch: {} [{}/{} ({:.0f}%)]\\t training loss: {:.6f}'.format(\n",
        "                epoch, b_i * len(X), len(train_dataloader.dataset),\n",
        "                100. * b_i / len(train_dataloader), loss.item()))\n"
      ]
    },
    {
      "cell_type": "code",
      "source": [
        "# Updated to display better updates\n",
        "def train(model, device, train_dataloader, optim, epoch):\n",
        "    model.train()\n",
        "    num_batches = len(train_dataloader)\n",
        "    log_interval = max(1, num_batches // 5)  # ~5 logs/epoch\n",
        "\n",
        "    running_loss = 0.0\n",
        "\n",
        "    for b_i, (X, y) in enumerate(train_dataloader, start=1):\n",
        "        X, y = X.to(device), y.to(device)\n",
        "        optim.zero_grad()\n",
        "        pred_logprob = model(X)                # model should output log-probs for NLL\n",
        "        loss = F.nll_loss(pred_logprob, y)\n",
        "        loss.backward()\n",
        "        optim.step()\n",
        "\n",
        "        running_loss += loss.item()\n",
        "\n",
        "        # periodic status (show current batch loss + avg so far)\n",
        "        if b_i % log_interval == 0 or b_i == num_batches:\n",
        "            avg_so_far = running_loss / b_i\n",
        "            print(\n",
        "                f\"Epoch {epoch} \"\n",
        "                f\"[{b_i}/{num_batches} ({100.0*b_i/num_batches:.0f}%)]  \"\n",
        "                f\"loss: {loss.item():.6f}  avg: {avg_so_far:.6f}\"\n",
        "            )\n",
        "\n",
        "    epoch_avg = running_loss / max(1, num_batches)\n",
        "    print(f\"Epoch {epoch} — average training loss: {epoch_avg:.6f}\")\n",
        "    return epoch_avg\n"
      ],
      "metadata": {
        "id": "tyQNt7BBEDTV"
      },
      "execution_count": 10,
      "outputs": []
    },
    {
      "cell_type": "code",
      "execution_count": 6,
      "metadata": {
        "id": "RBazTXc-AC_x"
      },
      "outputs": [],
      "source": [
        "def test(model, device, test_dataloader):\n",
        "    model.eval()\n",
        "    loss = 0\n",
        "    success = 0\n",
        "    with torch.no_grad():\n",
        "        for X, y in test_dataloader:\n",
        "            X, y = X.to(device), y.to(device)\n",
        "            pred_prob = model(X)\n",
        "            loss += F.nll_loss(pred_prob, y, reduction='sum').item()  # loss summed across the batch\n",
        "            pred = pred_prob.argmax(dim=1, keepdim=True)  # us argmax to get the most likely prediction\n",
        "            success += pred.eq(y.view_as(pred)).sum().item()\n",
        "\n",
        "    loss /= len(test_dataloader.dataset)\n",
        "\n",
        "    print('\\nTest dataset: Overall Loss: {:.4f}, Overall Accuracy: {}/{} ({:.0f}%)\\n'.format(\n",
        "        loss, success, len(test_dataloader.dataset),\n",
        "        100. * success / len(test_dataloader.dataset)))\n"
      ]
    },
    {
      "cell_type": "markdown",
      "metadata": {
        "id": "KUoH8uQmAC_y"
      },
      "source": [
        "## create data loaders"
      ]
    },
    {
      "cell_type": "code",
      "execution_count": 11,
      "metadata": {
        "id": "wdbjRvT7AC_y"
      },
      "outputs": [],
      "source": [
        "# The mean and standard deviation values are calculated as the mean of all pixel values of all images in the training dataset\n",
        "train_dataloader = torch.utils.data.DataLoader(\n",
        "    datasets.MNIST('../data', train=True, download=True,\n",
        "                   transform=transforms.Compose([\n",
        "                       transforms.ToTensor(),\n",
        "                       transforms.Normalize((0.1302,), (0.3069,))])), # train_X.mean()/256. and train_X.std()/256.\n",
        "    batch_size=32, shuffle=True)\n",
        "\n",
        "test_dataloader = torch.utils.data.DataLoader(\n",
        "    datasets.MNIST('../data', train=False,\n",
        "                   transform=transforms.Compose([\n",
        "                       transforms.ToTensor(),\n",
        "                       transforms.Normalize((0.1302,), (0.3069,))\n",
        "                   ])),\n",
        "    batch_size=500, shuffle=False)"
      ]
    },
    {
      "cell_type": "markdown",
      "metadata": {
        "id": "Neu-3vjjAC_z"
      },
      "source": [
        "## define optimizer and run training epochs"
      ]
    },
    {
      "cell_type": "code",
      "execution_count": 12,
      "metadata": {
        "id": "hsPpvEshAC_z",
        "colab": {
          "base_uri": "https://localhost:8080/"
        },
        "outputId": "56f0481f-9f2a-4d3b-d292-df890b28b71c"
      },
      "outputs": [
        {
          "output_type": "stream",
          "name": "stdout",
          "text": [
            "Using device: cuda\n"
          ]
        }
      ],
      "source": [
        "# Fix random seed for reproducibility\n",
        "torch.manual_seed(0)\n",
        "\n",
        "# Select GPU if available, else fallback to CPU\n",
        "device = torch.device(\"cuda\" if torch.cuda.is_available() else \"cpu\")\n",
        "print(\"Using device:\", device)\n",
        "\n",
        "# Initialize model and move it to the chosen device\n",
        "model = ConvNet().to(device)\n",
        "\n",
        "# Create optimizer (params will already be on correct device via model.to)\n",
        "optimizer = optim.Adadelta(model.parameters(), lr=0.5)"
      ]
    },
    {
      "cell_type": "markdown",
      "metadata": {
        "id": "ec6tuNf3AC_0"
      },
      "source": [
        "## model training"
      ]
    },
    {
      "cell_type": "code",
      "execution_count": 13,
      "metadata": {
        "scrolled": true,
        "colab": {
          "base_uri": "https://localhost:8080/"
        },
        "id": "ftXZj4koAC_0",
        "outputId": "e21152c1-9185-4ec9-8497-dd0d0da05f9b"
      },
      "outputs": [
        {
          "output_type": "stream",
          "name": "stderr",
          "text": [
            "/usr/local/lib/python3.12/dist-packages/torch/nn/functional.py:1535: UserWarning: dropout2d: Received a 2-D input to dropout2d, which is deprecated and will result in an error in a future release. To retain the behavior and silence this warning, please use dropout instead. Note that dropout2d exists to provide channel-wise dropout on inputs with 2 spatial dimensions, a channel dimension, and an optional batch dimension (i.e. 3D or 4D inputs).\n",
            "  warnings.warn(warn_msg)\n"
          ]
        },
        {
          "output_type": "stream",
          "name": "stdout",
          "text": [
            "Epoch 1 [375/1875 (20%)]  loss: 0.315423  avg: 0.391917\n",
            "Epoch 1 [750/1875 (40%)]  loss: 0.011929  avg: 0.263731\n",
            "Epoch 1 [1125/1875 (60%)]  loss: 0.184228  avg: 0.213355\n",
            "Epoch 1 [1500/1875 (80%)]  loss: 0.036672  avg: 0.186247\n",
            "Epoch 1 [1875/1875 (100%)]  loss: 0.077487  avg: 0.167595\n",
            "Epoch 1 — average training loss: 0.167595\n",
            "\n",
            "Test dataset: Overall Loss: 0.0465, Overall Accuracy: 9847/10000 (98%)\n",
            "\n",
            "Epoch 2 [375/1875 (20%)]  loss: 0.121914  avg: 0.068116\n",
            "Epoch 2 [750/1875 (40%)]  loss: 0.002304  avg: 0.067388\n",
            "Epoch 2 [1125/1875 (60%)]  loss: 0.065007  avg: 0.067457\n",
            "Epoch 2 [1500/1875 (80%)]  loss: 0.001631  avg: 0.067979\n",
            "Epoch 2 [1875/1875 (100%)]  loss: 0.020347  avg: 0.068445\n",
            "Epoch 2 — average training loss: 0.068445\n",
            "\n",
            "Test dataset: Overall Loss: 0.0408, Overall Accuracy: 9852/10000 (99%)\n",
            "\n"
          ]
        }
      ],
      "source": [
        "for epoch in range(1, 3):\n",
        "    train(model, device, train_dataloader, optimizer, epoch)\n",
        "    test(model, device, test_dataloader)"
      ]
    },
    {
      "cell_type": "markdown",
      "metadata": {
        "id": "RQpBAf3yAC_0"
      },
      "source": [
        "## run inference on trained model"
      ]
    },
    {
      "cell_type": "code",
      "execution_count": 14,
      "metadata": {
        "scrolled": true,
        "colab": {
          "base_uri": "https://localhost:8080/",
          "height": 430
        },
        "id": "9Cor9_9JAC_0",
        "outputId": "2889560d-e077-495b-8bbf-54559dbbf350"
      },
      "outputs": [
        {
          "output_type": "display_data",
          "data": {
            "text/plain": [
              "<Figure size 640x480 with 1 Axes>"
            ],
            "image/png": "[encoded data removed]"
          },
          "metadata": {}
        }
      ],
      "source": [
        "test_samples = enumerate(test_dataloader)\n",
        "b_i, (sample_data, sample_targets) = next(test_samples)\n",
        "\n",
        "plt.imshow(sample_data[0][0], cmap='gray', interpolation='none')\n",
        "plt.show()"
      ]
    },
    {
      "cell_type": "code",
      "execution_count": 18,
      "metadata": {
        "colab": {
          "base_uri": "https://localhost:8080/"
        },
        "id": "SUfGaxGXAC_1",
        "outputId": "d91f8fcc-2aba-4be4-dbdc-a39e9af4a4fb"
      },
      "outputs": [
        {
          "output_type": "stream",
          "name": "stdout",
          "text": [
            "Model prediction is : 7\n",
            "Ground truth is : 7\n"
          ]
        }
      ],
      "source": [
        "print(f\"Model prediction is : {model(sample_data).data.max(1)[1][0]}\")\n",
        "print(f\"Ground truth is : {sample_targets[0]}\")"
      ]
    },
    {
      "cell_type": "markdown",
      "source": [
        "# For working w/ CUDA"
      ],
      "metadata": {
        "id": "08wjjoULF0ii"
      }
    },
    {
      "cell_type": "code",
      "source": [
        "# move data/targets to same device as model\n",
        "device = next(model.parameters()).device\n",
        "sample_data   = sample_data.to(device)\n",
        "sample_targets = sample_targets.to(device)\n",
        "\n",
        "print(f\"Model prediction is : {model(sample_data).data.max(1)[1][0]}\")\n",
        "print(f\"Ground truth is : {sample_targets[0]}\")\n"
      ],
      "metadata": {
        "colab": {
          "base_uri": "https://localhost:8080/"
        },
        "id": "adWAsh4aFfbK",
        "outputId": "76e2d494-c4cc-45de-f5ff-120dd7e19798"
      },
      "execution_count": 19,
      "outputs": [
        {
          "output_type": "stream",
          "name": "stdout",
          "text": [
            "Model prediction is : 7\n",
            "Ground truth is : 7\n"
          ]
        }
      ]
    },
    {
      "cell_type": "markdown",
      "source": [
        "### ⚠️ Two small notes if you want to make it more robust:\n",
        "\n",
        "- **Shape safety**  \n",
        "  If `sample_data` doesn’t already have `[N, C, H, W]` form, you may still need an `unsqueeze`  \n",
        "  (especially for single MNIST images).\n",
        "\n",
        "- **`.data.max` deprecation**  \n",
        "  Using `.data` is discouraged since it can cause subtle autograd issues.  \n",
        "  The safer equivalent is:\n",
        "  ```python\n",
        "  pred = model(sample_data).argmax(dim=1)\n",
        "  print(f\"Model prediction is : {pred[0].item()}\")\n",
        "  print(f\"Ground truth is     : {sample_targets[0].item()}\")\n"
      ],
      "metadata": {
        "id": "TWoi_HBOGIBX"
      }
    },
    {
      "cell_type": "code",
      "execution_count": 21,
      "metadata": {
        "id": "Rio8Ev22AC_1",
        "colab": {
          "base_uri": "https://localhost:8080/"
        },
        "outputId": "44c0d138-197e-4619-c4d3-1dce9da57b00"
      },
      "outputs": [
        {
          "output_type": "stream",
          "name": "stdout",
          "text": [
            "Model prediction is : 7\n",
            "Ground truth is     : 7\n"
          ]
        }
      ],
      "source": [
        "pred = model(sample_data).argmax(dim=1)\n",
        "print(f\"Model prediction is : {pred[0].item()}\")\n",
        "print(f\"Ground truth is     : {sample_targets[0].item()}\")\n"
      ]
    }
  ],
  "metadata": {
    "kernelspec": {
      "display_name": "Python 3",
      "name": "python3"
    },
    "language_info": {
      "codemirror_mode": {
        "name": "ipython",
        "version": 3
      },
      "file_extension": ".py",
      "mimetype": "text/x-python",
      "name": "python",
      "nbconvert_exporter": "python",
      "pygments_lexer": "ipython3",
      "version": "3.8.18"
    },
    "colab": {
      "provenance": [],
      "gpuType": "T4",
      "include_colab_link": true
    },
    "accelerator": "GPU"
  },
  "nbformat": 4,
  "nbformat_minor": 0
}